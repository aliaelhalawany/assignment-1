{
 "cells": [
  {
   "cell_type": "markdown",
   "id": "1498de21",
   "metadata": {},
   "source": [
    "# Assignment 1"
   ]
  },
  {
   "cell_type": "markdown",
   "id": "84dbf07d",
   "metadata": {},
   "source": [
    "### By: Alia ElHalawany and Malak Selim"
   ]
  },
  {
   "cell_type": "code",
   "execution_count": 2,
   "id": "cab5a12d",
   "metadata": {},
   "outputs": [],
   "source": [
    "import pandas as pd"
   ]
  },
  {
   "cell_type": "code",
   "execution_count": 3,
   "id": "441c5349",
   "metadata": {},
   "outputs": [],
   "source": [
    "df = pd.read_csv(\"Life Expectancy Data.csv\")"
   ]
  },
  {
   "cell_type": "code",
   "execution_count": 48,
   "id": "d1444a2a",
   "metadata": {
    "scrolled": true
   },
   "outputs": [
    {
     "data": {
      "text/html": [
       "<div>\n",
       "<style scoped>\n",
       "    .dataframe tbody tr th:only-of-type {\n",
       "        vertical-align: middle;\n",
       "    }\n",
       "\n",
       "    .dataframe tbody tr th {\n",
       "        vertical-align: top;\n",
       "    }\n",
       "\n",
       "    .dataframe thead th {\n",
       "        text-align: right;\n",
       "    }\n",
       "</style>\n",
       "<table border=\"1\" class=\"dataframe\">\n",
       "  <thead>\n",
       "    <tr style=\"text-align: right;\">\n",
       "      <th></th>\n",
       "      <th>Country</th>\n",
       "      <th>Year</th>\n",
       "      <th>Status</th>\n",
       "      <th>Life expectancy</th>\n",
       "      <th>Adult Mortality</th>\n",
       "      <th>infant deaths</th>\n",
       "      <th>Alcohol</th>\n",
       "      <th>percentage expenditure</th>\n",
       "      <th>Hepatitis B</th>\n",
       "      <th>Measles</th>\n",
       "      <th>...</th>\n",
       "      <th>Polio</th>\n",
       "      <th>Total expenditure</th>\n",
       "      <th>Diphtheria</th>\n",
       "      <th>HIV/AIDS</th>\n",
       "      <th>GDP</th>\n",
       "      <th>Population</th>\n",
       "      <th>thinness  1-19 years</th>\n",
       "      <th>thinness 5-9 years</th>\n",
       "      <th>Income composition of resources</th>\n",
       "      <th>Schooling</th>\n",
       "    </tr>\n",
       "  </thead>\n",
       "  <tbody>\n",
       "    <tr>\n",
       "      <th>0</th>\n",
       "      <td>Afghanistan</td>\n",
       "      <td>2015</td>\n",
       "      <td>Developing</td>\n",
       "      <td>65.0</td>\n",
       "      <td>263.0</td>\n",
       "      <td>62</td>\n",
       "      <td>0.01</td>\n",
       "      <td>71.279624</td>\n",
       "      <td>65.0</td>\n",
       "      <td>1154</td>\n",
       "      <td>...</td>\n",
       "      <td>6.0</td>\n",
       "      <td>8.16</td>\n",
       "      <td>65.0</td>\n",
       "      <td>0.1</td>\n",
       "      <td>584.259210</td>\n",
       "      <td>33736494.0</td>\n",
       "      <td>17.2</td>\n",
       "      <td>17.3</td>\n",
       "      <td>0.479</td>\n",
       "      <td>10.1</td>\n",
       "    </tr>\n",
       "    <tr>\n",
       "      <th>1</th>\n",
       "      <td>Afghanistan</td>\n",
       "      <td>2014</td>\n",
       "      <td>Developing</td>\n",
       "      <td>59.9</td>\n",
       "      <td>271.0</td>\n",
       "      <td>64</td>\n",
       "      <td>0.01</td>\n",
       "      <td>73.523582</td>\n",
       "      <td>62.0</td>\n",
       "      <td>492</td>\n",
       "      <td>...</td>\n",
       "      <td>58.0</td>\n",
       "      <td>8.18</td>\n",
       "      <td>62.0</td>\n",
       "      <td>0.1</td>\n",
       "      <td>612.696514</td>\n",
       "      <td>327582.0</td>\n",
       "      <td>17.5</td>\n",
       "      <td>17.5</td>\n",
       "      <td>0.476</td>\n",
       "      <td>10.0</td>\n",
       "    </tr>\n",
       "    <tr>\n",
       "      <th>2</th>\n",
       "      <td>Afghanistan</td>\n",
       "      <td>2013</td>\n",
       "      <td>Developing</td>\n",
       "      <td>59.9</td>\n",
       "      <td>268.0</td>\n",
       "      <td>66</td>\n",
       "      <td>0.01</td>\n",
       "      <td>73.219243</td>\n",
       "      <td>64.0</td>\n",
       "      <td>430</td>\n",
       "      <td>...</td>\n",
       "      <td>62.0</td>\n",
       "      <td>8.13</td>\n",
       "      <td>64.0</td>\n",
       "      <td>0.1</td>\n",
       "      <td>631.744976</td>\n",
       "      <td>31731688.0</td>\n",
       "      <td>17.7</td>\n",
       "      <td>17.7</td>\n",
       "      <td>0.470</td>\n",
       "      <td>9.9</td>\n",
       "    </tr>\n",
       "    <tr>\n",
       "      <th>3</th>\n",
       "      <td>Afghanistan</td>\n",
       "      <td>2012</td>\n",
       "      <td>Developing</td>\n",
       "      <td>59.5</td>\n",
       "      <td>272.0</td>\n",
       "      <td>69</td>\n",
       "      <td>0.01</td>\n",
       "      <td>78.184215</td>\n",
       "      <td>67.0</td>\n",
       "      <td>2787</td>\n",
       "      <td>...</td>\n",
       "      <td>67.0</td>\n",
       "      <td>8.52</td>\n",
       "      <td>67.0</td>\n",
       "      <td>0.1</td>\n",
       "      <td>669.959000</td>\n",
       "      <td>3696958.0</td>\n",
       "      <td>17.9</td>\n",
       "      <td>18.0</td>\n",
       "      <td>0.463</td>\n",
       "      <td>9.8</td>\n",
       "    </tr>\n",
       "    <tr>\n",
       "      <th>4</th>\n",
       "      <td>Afghanistan</td>\n",
       "      <td>2011</td>\n",
       "      <td>Developing</td>\n",
       "      <td>59.2</td>\n",
       "      <td>275.0</td>\n",
       "      <td>71</td>\n",
       "      <td>0.01</td>\n",
       "      <td>7.097109</td>\n",
       "      <td>68.0</td>\n",
       "      <td>3013</td>\n",
       "      <td>...</td>\n",
       "      <td>68.0</td>\n",
       "      <td>7.87</td>\n",
       "      <td>68.0</td>\n",
       "      <td>0.1</td>\n",
       "      <td>63.537231</td>\n",
       "      <td>2978599.0</td>\n",
       "      <td>18.2</td>\n",
       "      <td>18.2</td>\n",
       "      <td>0.454</td>\n",
       "      <td>9.5</td>\n",
       "    </tr>\n",
       "    <tr>\n",
       "      <th>5</th>\n",
       "      <td>Afghanistan</td>\n",
       "      <td>2010</td>\n",
       "      <td>Developing</td>\n",
       "      <td>58.8</td>\n",
       "      <td>279.0</td>\n",
       "      <td>74</td>\n",
       "      <td>0.01</td>\n",
       "      <td>79.679367</td>\n",
       "      <td>66.0</td>\n",
       "      <td>1989</td>\n",
       "      <td>...</td>\n",
       "      <td>66.0</td>\n",
       "      <td>9.20</td>\n",
       "      <td>66.0</td>\n",
       "      <td>0.1</td>\n",
       "      <td>553.328940</td>\n",
       "      <td>2883167.0</td>\n",
       "      <td>18.4</td>\n",
       "      <td>18.4</td>\n",
       "      <td>0.448</td>\n",
       "      <td>9.2</td>\n",
       "    </tr>\n",
       "    <tr>\n",
       "      <th>6</th>\n",
       "      <td>Afghanistan</td>\n",
       "      <td>2009</td>\n",
       "      <td>Developing</td>\n",
       "      <td>58.6</td>\n",
       "      <td>281.0</td>\n",
       "      <td>77</td>\n",
       "      <td>0.01</td>\n",
       "      <td>56.762217</td>\n",
       "      <td>63.0</td>\n",
       "      <td>2861</td>\n",
       "      <td>...</td>\n",
       "      <td>63.0</td>\n",
       "      <td>9.42</td>\n",
       "      <td>63.0</td>\n",
       "      <td>0.1</td>\n",
       "      <td>445.893298</td>\n",
       "      <td>284331.0</td>\n",
       "      <td>18.6</td>\n",
       "      <td>18.7</td>\n",
       "      <td>0.434</td>\n",
       "      <td>8.9</td>\n",
       "    </tr>\n",
       "    <tr>\n",
       "      <th>7</th>\n",
       "      <td>Afghanistan</td>\n",
       "      <td>2008</td>\n",
       "      <td>Developing</td>\n",
       "      <td>58.1</td>\n",
       "      <td>287.0</td>\n",
       "      <td>80</td>\n",
       "      <td>0.03</td>\n",
       "      <td>25.873925</td>\n",
       "      <td>64.0</td>\n",
       "      <td>1599</td>\n",
       "      <td>...</td>\n",
       "      <td>64.0</td>\n",
       "      <td>8.33</td>\n",
       "      <td>64.0</td>\n",
       "      <td>0.1</td>\n",
       "      <td>373.361116</td>\n",
       "      <td>2729431.0</td>\n",
       "      <td>18.8</td>\n",
       "      <td>18.9</td>\n",
       "      <td>0.433</td>\n",
       "      <td>8.7</td>\n",
       "    </tr>\n",
       "    <tr>\n",
       "      <th>8</th>\n",
       "      <td>Afghanistan</td>\n",
       "      <td>2007</td>\n",
       "      <td>Developing</td>\n",
       "      <td>57.5</td>\n",
       "      <td>295.0</td>\n",
       "      <td>82</td>\n",
       "      <td>0.02</td>\n",
       "      <td>10.910156</td>\n",
       "      <td>63.0</td>\n",
       "      <td>1141</td>\n",
       "      <td>...</td>\n",
       "      <td>63.0</td>\n",
       "      <td>6.73</td>\n",
       "      <td>63.0</td>\n",
       "      <td>0.1</td>\n",
       "      <td>369.835796</td>\n",
       "      <td>26616792.0</td>\n",
       "      <td>19.0</td>\n",
       "      <td>19.1</td>\n",
       "      <td>0.415</td>\n",
       "      <td>8.4</td>\n",
       "    </tr>\n",
       "    <tr>\n",
       "      <th>9</th>\n",
       "      <td>Afghanistan</td>\n",
       "      <td>2006</td>\n",
       "      <td>Developing</td>\n",
       "      <td>57.3</td>\n",
       "      <td>295.0</td>\n",
       "      <td>84</td>\n",
       "      <td>0.03</td>\n",
       "      <td>17.171518</td>\n",
       "      <td>64.0</td>\n",
       "      <td>1990</td>\n",
       "      <td>...</td>\n",
       "      <td>58.0</td>\n",
       "      <td>7.43</td>\n",
       "      <td>58.0</td>\n",
       "      <td>0.1</td>\n",
       "      <td>272.563770</td>\n",
       "      <td>2589345.0</td>\n",
       "      <td>19.2</td>\n",
       "      <td>19.3</td>\n",
       "      <td>0.405</td>\n",
       "      <td>8.1</td>\n",
       "    </tr>\n",
       "    <tr>\n",
       "      <th>10</th>\n",
       "      <td>Afghanistan</td>\n",
       "      <td>2005</td>\n",
       "      <td>Developing</td>\n",
       "      <td>57.3</td>\n",
       "      <td>291.0</td>\n",
       "      <td>85</td>\n",
       "      <td>0.02</td>\n",
       "      <td>1.388648</td>\n",
       "      <td>66.0</td>\n",
       "      <td>1296</td>\n",
       "      <td>...</td>\n",
       "      <td>58.0</td>\n",
       "      <td>8.70</td>\n",
       "      <td>58.0</td>\n",
       "      <td>0.1</td>\n",
       "      <td>25.294130</td>\n",
       "      <td>257798.0</td>\n",
       "      <td>19.3</td>\n",
       "      <td>19.5</td>\n",
       "      <td>0.396</td>\n",
       "      <td>7.9</td>\n",
       "    </tr>\n",
       "    <tr>\n",
       "      <th>11</th>\n",
       "      <td>Afghanistan</td>\n",
       "      <td>2004</td>\n",
       "      <td>Developing</td>\n",
       "      <td>57.0</td>\n",
       "      <td>293.0</td>\n",
       "      <td>87</td>\n",
       "      <td>0.02</td>\n",
       "      <td>15.296066</td>\n",
       "      <td>67.0</td>\n",
       "      <td>466</td>\n",
       "      <td>...</td>\n",
       "      <td>5.0</td>\n",
       "      <td>8.79</td>\n",
       "      <td>5.0</td>\n",
       "      <td>0.1</td>\n",
       "      <td>219.141353</td>\n",
       "      <td>24118979.0</td>\n",
       "      <td>19.5</td>\n",
       "      <td>19.7</td>\n",
       "      <td>0.381</td>\n",
       "      <td>6.8</td>\n",
       "    </tr>\n",
       "    <tr>\n",
       "      <th>12</th>\n",
       "      <td>Afghanistan</td>\n",
       "      <td>2003</td>\n",
       "      <td>Developing</td>\n",
       "      <td>56.7</td>\n",
       "      <td>295.0</td>\n",
       "      <td>87</td>\n",
       "      <td>0.01</td>\n",
       "      <td>11.089053</td>\n",
       "      <td>65.0</td>\n",
       "      <td>798</td>\n",
       "      <td>...</td>\n",
       "      <td>41.0</td>\n",
       "      <td>8.82</td>\n",
       "      <td>41.0</td>\n",
       "      <td>0.1</td>\n",
       "      <td>198.728544</td>\n",
       "      <td>2364851.0</td>\n",
       "      <td>19.7</td>\n",
       "      <td>19.9</td>\n",
       "      <td>0.373</td>\n",
       "      <td>6.5</td>\n",
       "    </tr>\n",
       "    <tr>\n",
       "      <th>13</th>\n",
       "      <td>Afghanistan</td>\n",
       "      <td>2002</td>\n",
       "      <td>Developing</td>\n",
       "      <td>56.2</td>\n",
       "      <td>3.0</td>\n",
       "      <td>88</td>\n",
       "      <td>0.01</td>\n",
       "      <td>16.887351</td>\n",
       "      <td>64.0</td>\n",
       "      <td>2486</td>\n",
       "      <td>...</td>\n",
       "      <td>36.0</td>\n",
       "      <td>7.76</td>\n",
       "      <td>36.0</td>\n",
       "      <td>0.1</td>\n",
       "      <td>187.845950</td>\n",
       "      <td>21979923.0</td>\n",
       "      <td>19.9</td>\n",
       "      <td>2.2</td>\n",
       "      <td>0.341</td>\n",
       "      <td>6.2</td>\n",
       "    </tr>\n",
       "    <tr>\n",
       "      <th>14</th>\n",
       "      <td>Afghanistan</td>\n",
       "      <td>2001</td>\n",
       "      <td>Developing</td>\n",
       "      <td>55.3</td>\n",
       "      <td>316.0</td>\n",
       "      <td>88</td>\n",
       "      <td>0.01</td>\n",
       "      <td>10.574728</td>\n",
       "      <td>63.0</td>\n",
       "      <td>8762</td>\n",
       "      <td>...</td>\n",
       "      <td>35.0</td>\n",
       "      <td>7.80</td>\n",
       "      <td>33.0</td>\n",
       "      <td>0.1</td>\n",
       "      <td>117.496980</td>\n",
       "      <td>2966463.0</td>\n",
       "      <td>2.1</td>\n",
       "      <td>2.4</td>\n",
       "      <td>0.340</td>\n",
       "      <td>5.9</td>\n",
       "    </tr>\n",
       "    <tr>\n",
       "      <th>15</th>\n",
       "      <td>Afghanistan</td>\n",
       "      <td>2000</td>\n",
       "      <td>Developing</td>\n",
       "      <td>54.8</td>\n",
       "      <td>321.0</td>\n",
       "      <td>88</td>\n",
       "      <td>0.01</td>\n",
       "      <td>10.424960</td>\n",
       "      <td>62.0</td>\n",
       "      <td>6532</td>\n",
       "      <td>...</td>\n",
       "      <td>24.0</td>\n",
       "      <td>8.20</td>\n",
       "      <td>24.0</td>\n",
       "      <td>0.1</td>\n",
       "      <td>114.560000</td>\n",
       "      <td>293756.0</td>\n",
       "      <td>2.3</td>\n",
       "      <td>2.5</td>\n",
       "      <td>0.338</td>\n",
       "      <td>5.5</td>\n",
       "    </tr>\n",
       "    <tr>\n",
       "      <th>16</th>\n",
       "      <td>Albania</td>\n",
       "      <td>2015</td>\n",
       "      <td>Developing</td>\n",
       "      <td>77.8</td>\n",
       "      <td>74.0</td>\n",
       "      <td>0</td>\n",
       "      <td>4.60</td>\n",
       "      <td>364.975229</td>\n",
       "      <td>99.0</td>\n",
       "      <td>0</td>\n",
       "      <td>...</td>\n",
       "      <td>99.0</td>\n",
       "      <td>6.00</td>\n",
       "      <td>99.0</td>\n",
       "      <td>0.1</td>\n",
       "      <td>3954.227830</td>\n",
       "      <td>28873.0</td>\n",
       "      <td>1.2</td>\n",
       "      <td>1.3</td>\n",
       "      <td>0.762</td>\n",
       "      <td>14.2</td>\n",
       "    </tr>\n",
       "    <tr>\n",
       "      <th>17</th>\n",
       "      <td>Albania</td>\n",
       "      <td>2014</td>\n",
       "      <td>Developing</td>\n",
       "      <td>77.5</td>\n",
       "      <td>8.0</td>\n",
       "      <td>0</td>\n",
       "      <td>4.51</td>\n",
       "      <td>428.749067</td>\n",
       "      <td>98.0</td>\n",
       "      <td>0</td>\n",
       "      <td>...</td>\n",
       "      <td>98.0</td>\n",
       "      <td>5.88</td>\n",
       "      <td>98.0</td>\n",
       "      <td>0.1</td>\n",
       "      <td>4575.763787</td>\n",
       "      <td>288914.0</td>\n",
       "      <td>1.2</td>\n",
       "      <td>1.3</td>\n",
       "      <td>0.761</td>\n",
       "      <td>14.2</td>\n",
       "    </tr>\n",
       "    <tr>\n",
       "      <th>18</th>\n",
       "      <td>Albania</td>\n",
       "      <td>2013</td>\n",
       "      <td>Developing</td>\n",
       "      <td>77.2</td>\n",
       "      <td>84.0</td>\n",
       "      <td>0</td>\n",
       "      <td>4.76</td>\n",
       "      <td>430.876979</td>\n",
       "      <td>99.0</td>\n",
       "      <td>0</td>\n",
       "      <td>...</td>\n",
       "      <td>99.0</td>\n",
       "      <td>5.66</td>\n",
       "      <td>99.0</td>\n",
       "      <td>0.1</td>\n",
       "      <td>4414.723140</td>\n",
       "      <td>289592.0</td>\n",
       "      <td>1.3</td>\n",
       "      <td>1.4</td>\n",
       "      <td>0.759</td>\n",
       "      <td>14.2</td>\n",
       "    </tr>\n",
       "    <tr>\n",
       "      <th>19</th>\n",
       "      <td>Albania</td>\n",
       "      <td>2012</td>\n",
       "      <td>Developing</td>\n",
       "      <td>76.9</td>\n",
       "      <td>86.0</td>\n",
       "      <td>0</td>\n",
       "      <td>5.14</td>\n",
       "      <td>412.443356</td>\n",
       "      <td>99.0</td>\n",
       "      <td>9</td>\n",
       "      <td>...</td>\n",
       "      <td>99.0</td>\n",
       "      <td>5.59</td>\n",
       "      <td>99.0</td>\n",
       "      <td>0.1</td>\n",
       "      <td>4247.614380</td>\n",
       "      <td>2941.0</td>\n",
       "      <td>1.3</td>\n",
       "      <td>1.4</td>\n",
       "      <td>0.752</td>\n",
       "      <td>14.2</td>\n",
       "    </tr>\n",
       "  </tbody>\n",
       "</table>\n",
       "<p>20 rows × 22 columns</p>\n",
       "</div>"
      ],
      "text/plain": [
       "        Country  Year      Status  Life expectancy   Adult Mortality  \\\n",
       "0   Afghanistan  2015  Developing              65.0            263.0   \n",
       "1   Afghanistan  2014  Developing              59.9            271.0   \n",
       "2   Afghanistan  2013  Developing              59.9            268.0   \n",
       "3   Afghanistan  2012  Developing              59.5            272.0   \n",
       "4   Afghanistan  2011  Developing              59.2            275.0   \n",
       "5   Afghanistan  2010  Developing              58.8            279.0   \n",
       "6   Afghanistan  2009  Developing              58.6            281.0   \n",
       "7   Afghanistan  2008  Developing              58.1            287.0   \n",
       "8   Afghanistan  2007  Developing              57.5            295.0   \n",
       "9   Afghanistan  2006  Developing              57.3            295.0   \n",
       "10  Afghanistan  2005  Developing              57.3            291.0   \n",
       "11  Afghanistan  2004  Developing              57.0            293.0   \n",
       "12  Afghanistan  2003  Developing              56.7            295.0   \n",
       "13  Afghanistan  2002  Developing              56.2              3.0   \n",
       "14  Afghanistan  2001  Developing              55.3            316.0   \n",
       "15  Afghanistan  2000  Developing              54.8            321.0   \n",
       "16      Albania  2015  Developing              77.8             74.0   \n",
       "17      Albania  2014  Developing              77.5              8.0   \n",
       "18      Albania  2013  Developing              77.2             84.0   \n",
       "19      Albania  2012  Developing              76.9             86.0   \n",
       "\n",
       "    infant deaths  Alcohol  percentage expenditure  Hepatitis B  Measles   \\\n",
       "0              62     0.01               71.279624         65.0      1154   \n",
       "1              64     0.01               73.523582         62.0       492   \n",
       "2              66     0.01               73.219243         64.0       430   \n",
       "3              69     0.01               78.184215         67.0      2787   \n",
       "4              71     0.01                7.097109         68.0      3013   \n",
       "5              74     0.01               79.679367         66.0      1989   \n",
       "6              77     0.01               56.762217         63.0      2861   \n",
       "7              80     0.03               25.873925         64.0      1599   \n",
       "8              82     0.02               10.910156         63.0      1141   \n",
       "9              84     0.03               17.171518         64.0      1990   \n",
       "10             85     0.02                1.388648         66.0      1296   \n",
       "11             87     0.02               15.296066         67.0       466   \n",
       "12             87     0.01               11.089053         65.0       798   \n",
       "13             88     0.01               16.887351         64.0      2486   \n",
       "14             88     0.01               10.574728         63.0      8762   \n",
       "15             88     0.01               10.424960         62.0      6532   \n",
       "16              0     4.60              364.975229         99.0         0   \n",
       "17              0     4.51              428.749067         98.0         0   \n",
       "18              0     4.76              430.876979         99.0         0   \n",
       "19              0     5.14              412.443356         99.0         9   \n",
       "\n",
       "    ...  Polio  Total expenditure  Diphtheria    HIV/AIDS          GDP  \\\n",
       "0   ...    6.0               8.16         65.0        0.1   584.259210   \n",
       "1   ...   58.0               8.18         62.0        0.1   612.696514   \n",
       "2   ...   62.0               8.13         64.0        0.1   631.744976   \n",
       "3   ...   67.0               8.52         67.0        0.1   669.959000   \n",
       "4   ...   68.0               7.87         68.0        0.1    63.537231   \n",
       "5   ...   66.0               9.20         66.0        0.1   553.328940   \n",
       "6   ...   63.0               9.42         63.0        0.1   445.893298   \n",
       "7   ...   64.0               8.33         64.0        0.1   373.361116   \n",
       "8   ...   63.0               6.73         63.0        0.1   369.835796   \n",
       "9   ...   58.0               7.43         58.0        0.1   272.563770   \n",
       "10  ...   58.0               8.70         58.0        0.1    25.294130   \n",
       "11  ...    5.0               8.79          5.0        0.1   219.141353   \n",
       "12  ...   41.0               8.82         41.0        0.1   198.728544   \n",
       "13  ...   36.0               7.76         36.0        0.1   187.845950   \n",
       "14  ...   35.0               7.80         33.0        0.1   117.496980   \n",
       "15  ...   24.0               8.20         24.0        0.1   114.560000   \n",
       "16  ...   99.0               6.00         99.0        0.1  3954.227830   \n",
       "17  ...   98.0               5.88         98.0        0.1  4575.763787   \n",
       "18  ...   99.0               5.66         99.0        0.1  4414.723140   \n",
       "19  ...   99.0               5.59         99.0        0.1  4247.614380   \n",
       "\n",
       "    Population   thinness  1-19 years   thinness 5-9 years  \\\n",
       "0   33736494.0                   17.2                 17.3   \n",
       "1     327582.0                   17.5                 17.5   \n",
       "2   31731688.0                   17.7                 17.7   \n",
       "3    3696958.0                   17.9                 18.0   \n",
       "4    2978599.0                   18.2                 18.2   \n",
       "5    2883167.0                   18.4                 18.4   \n",
       "6     284331.0                   18.6                 18.7   \n",
       "7    2729431.0                   18.8                 18.9   \n",
       "8   26616792.0                   19.0                 19.1   \n",
       "9    2589345.0                   19.2                 19.3   \n",
       "10    257798.0                   19.3                 19.5   \n",
       "11  24118979.0                   19.5                 19.7   \n",
       "12   2364851.0                   19.7                 19.9   \n",
       "13  21979923.0                   19.9                  2.2   \n",
       "14   2966463.0                    2.1                  2.4   \n",
       "15    293756.0                    2.3                  2.5   \n",
       "16     28873.0                    1.2                  1.3   \n",
       "17    288914.0                    1.2                  1.3   \n",
       "18    289592.0                    1.3                  1.4   \n",
       "19      2941.0                    1.3                  1.4   \n",
       "\n",
       "    Income composition of resources  Schooling  \n",
       "0                             0.479       10.1  \n",
       "1                             0.476       10.0  \n",
       "2                             0.470        9.9  \n",
       "3                             0.463        9.8  \n",
       "4                             0.454        9.5  \n",
       "5                             0.448        9.2  \n",
       "6                             0.434        8.9  \n",
       "7                             0.433        8.7  \n",
       "8                             0.415        8.4  \n",
       "9                             0.405        8.1  \n",
       "10                            0.396        7.9  \n",
       "11                            0.381        6.8  \n",
       "12                            0.373        6.5  \n",
       "13                            0.341        6.2  \n",
       "14                            0.340        5.9  \n",
       "15                            0.338        5.5  \n",
       "16                            0.762       14.2  \n",
       "17                            0.761       14.2  \n",
       "18                            0.759       14.2  \n",
       "19                            0.752       14.2  \n",
       "\n",
       "[20 rows x 22 columns]"
      ]
     },
     "execution_count": 48,
     "metadata": {},
     "output_type": "execute_result"
    }
   ],
   "source": [
    "df.head(20)"
   ]
  },
  {
   "cell_type": "code",
   "execution_count": 5,
   "id": "bac5b412",
   "metadata": {},
   "outputs": [
    {
     "data": {
      "text/plain": [
       "Index(['Country', 'Year', 'Status', 'Life expectancy ', 'Adult Mortality',\n",
       "       'infant deaths', 'Alcohol', 'percentage expenditure', 'Hepatitis B',\n",
       "       'Measles ', ' BMI ', 'under-five deaths ', 'Polio', 'Total expenditure',\n",
       "       'Diphtheria ', ' HIV/AIDS', 'GDP', 'Population',\n",
       "       ' thinness  1-19 years', ' thinness 5-9 years',\n",
       "       'Income composition of resources', 'Schooling'],\n",
       "      dtype='object')"
      ]
     },
     "execution_count": 5,
     "metadata": {},
     "output_type": "execute_result"
    }
   ],
   "source": [
    "df.columns"
   ]
  },
  {
   "cell_type": "code",
   "execution_count": 6,
   "id": "c1d2a00a",
   "metadata": {},
   "outputs": [
    {
     "data": {
      "text/plain": [
       "69.22493169398912"
      ]
     },
     "execution_count": 6,
     "metadata": {},
     "output_type": "execute_result"
    }
   ],
   "source": [
    "df['Life expectancy '].mean()"
   ]
  },
  {
   "cell_type": "code",
   "execution_count": 7,
   "id": "41440cb2",
   "metadata": {},
   "outputs": [
    {
     "data": {
      "text/plain": [
       "72.1"
      ]
     },
     "execution_count": 7,
     "metadata": {},
     "output_type": "execute_result"
    }
   ],
   "source": [
    "df['Life expectancy '].median()"
   ]
  },
  {
   "cell_type": "code",
   "execution_count": 8,
   "id": "73e2d78e",
   "metadata": {},
   "outputs": [
    {
     "data": {
      "text/plain": [
       "63.1"
      ]
     },
     "execution_count": 8,
     "metadata": {},
     "output_type": "execute_result"
    }
   ],
   "source": [
    "df['Life expectancy '].quantile(.25)"
   ]
  },
  {
   "cell_type": "code",
   "execution_count": 9,
   "id": "41abfcf7",
   "metadata": {},
   "outputs": [
    {
     "data": {
      "text/plain": [
       "72.1"
      ]
     },
     "execution_count": 9,
     "metadata": {},
     "output_type": "execute_result"
    }
   ],
   "source": [
    "df['Life expectancy '].quantile(.5)"
   ]
  },
  {
   "cell_type": "code",
   "execution_count": 10,
   "id": "0eaea4e8",
   "metadata": {},
   "outputs": [
    {
     "data": {
      "text/plain": [
       "75.7"
      ]
     },
     "execution_count": 10,
     "metadata": {},
     "output_type": "execute_result"
    }
   ],
   "source": [
    "df['Life expectancy '].quantile(.75)"
   ]
  },
  {
   "cell_type": "code",
   "execution_count": 11,
   "id": "8cc66c98",
   "metadata": {},
   "outputs": [
    {
     "data": {
      "text/plain": [
       "90.70405192563634"
      ]
     },
     "execution_count": 11,
     "metadata": {},
     "output_type": "execute_result"
    }
   ],
   "source": [
    "df['Life expectancy '].var()"
   ]
  },
  {
   "cell_type": "code",
   "execution_count": 12,
   "id": "789c3c1a",
   "metadata": {},
   "outputs": [
    {
     "data": {
      "text/plain": [
       "9.523867487824278"
      ]
     },
     "execution_count": 12,
     "metadata": {},
     "output_type": "execute_result"
    }
   ],
   "source": [
    "df['Life expectancy '].std()"
   ]
  },
  {
   "cell_type": "code",
   "execution_count": 13,
   "id": "cbc6cd6c",
   "metadata": {},
   "outputs": [
    {
     "data": {
      "text/plain": [
       "52.7"
      ]
     },
     "execution_count": 13,
     "metadata": {},
     "output_type": "execute_result"
    }
   ],
   "source": [
    "df['Life expectancy '].max()-df['Life expectancy '].min()"
   ]
  },
  {
   "cell_type": "code",
   "execution_count": 30,
   "id": "13957453",
   "metadata": {},
   "outputs": [
    {
     "data": {
      "text/plain": [
       "738.2512954533823"
      ]
     },
     "execution_count": 30,
     "metadata": {},
     "output_type": "execute_result"
    }
   ],
   "source": [
    "df['percentage expenditure'].mean()"
   ]
  },
  {
   "cell_type": "code",
   "execution_count": 31,
   "id": "b02eef37",
   "metadata": {},
   "outputs": [
    {
     "data": {
      "text/plain": [
       "64.912906045"
      ]
     },
     "execution_count": 31,
     "metadata": {},
     "output_type": "execute_result"
    }
   ],
   "source": [
    "df['percentage expenditure'].median()"
   ]
  },
  {
   "cell_type": "code",
   "execution_count": 32,
   "id": "ee371cea",
   "metadata": {},
   "outputs": [
    {
     "data": {
      "text/plain": [
       "4.68534258525"
      ]
     },
     "execution_count": 32,
     "metadata": {},
     "output_type": "execute_result"
    }
   ],
   "source": [
    "df['percentage expenditure'].quantile(.25)"
   ]
  },
  {
   "cell_type": "code",
   "execution_count": 33,
   "id": "45c292f5",
   "metadata": {},
   "outputs": [
    {
     "data": {
      "text/plain": [
       "441.53414435"
      ]
     },
     "execution_count": 33,
     "metadata": {},
     "output_type": "execute_result"
    }
   ],
   "source": [
    "df['percentage expenditure'].quantile(.75)"
   ]
  },
  {
   "cell_type": "code",
   "execution_count": 34,
   "id": "806f54db",
   "metadata": {},
   "outputs": [
    {
     "data": {
      "text/plain": [
       "3951805.4827215625"
      ]
     },
     "execution_count": 34,
     "metadata": {},
     "output_type": "execute_result"
    }
   ],
   "source": [
    "df['percentage expenditure'].var()"
   ]
  },
  {
   "cell_type": "code",
   "execution_count": 35,
   "id": "7f3ef2bd",
   "metadata": {},
   "outputs": [
    {
     "data": {
      "text/plain": [
       "1987.9148580161984"
      ]
     },
     "execution_count": 35,
     "metadata": {},
     "output_type": "execute_result"
    }
   ],
   "source": [
    "df['percentage expenditure'].std()"
   ]
  },
  {
   "cell_type": "code",
   "execution_count": 36,
   "id": "135cf632",
   "metadata": {},
   "outputs": [
    {
     "data": {
      "text/plain": [
       "19479.91161"
      ]
     },
     "execution_count": 36,
     "metadata": {},
     "output_type": "execute_result"
    }
   ],
   "source": [
    "df['percentage expenditure'].max()-df['percentage expenditure'].min()"
   ]
  },
  {
   "cell_type": "code",
   "execution_count": 49,
   "id": "8df5c513",
   "metadata": {},
   "outputs": [
    {
     "data": {
      "text/plain": [
       "4.6028607871720375"
      ]
     },
     "execution_count": 49,
     "metadata": {},
     "output_type": "execute_result"
    }
   ],
   "source": [
    "df['Alcohol'].mean()"
   ]
  },
  {
   "cell_type": "code",
   "execution_count": 50,
   "id": "690c5f28",
   "metadata": {},
   "outputs": [
    {
     "data": {
      "text/plain": [
       "3.755"
      ]
     },
     "execution_count": 50,
     "metadata": {},
     "output_type": "execute_result"
    }
   ],
   "source": [
    "df['Alcohol'].median()"
   ]
  },
  {
   "cell_type": "code",
   "execution_count": 51,
   "id": "26184f5e",
   "metadata": {},
   "outputs": [
    {
     "data": {
      "text/plain": [
       "0.8775"
      ]
     },
     "execution_count": 51,
     "metadata": {},
     "output_type": "execute_result"
    }
   ],
   "source": [
    "df['Alcohol'].quantile(.25)"
   ]
  },
  {
   "cell_type": "code",
   "execution_count": 52,
   "id": "7cb471ba",
   "metadata": {},
   "outputs": [
    {
     "data": {
      "text/plain": [
       "7.702500000000001"
      ]
     },
     "execution_count": 52,
     "metadata": {},
     "output_type": "execute_result"
    }
   ],
   "source": [
    "df['Alcohol'].quantile(.75)"
   ]
  },
  {
   "cell_type": "code",
   "execution_count": 59,
   "id": "609c76aa",
   "metadata": {},
   "outputs": [
    {
     "data": {
      "text/plain": [
       "17.86"
      ]
     },
     "execution_count": 59,
     "metadata": {},
     "output_type": "execute_result"
    }
   ],
   "source": [
    "df['Alcohol'].max()-df['Alcohol'].min()"
   ]
  },
  {
   "cell_type": "code",
   "execution_count": 60,
   "id": "f40d9172",
   "metadata": {},
   "outputs": [
    {
     "data": {
      "text/plain": [
       "16.422048356843053"
      ]
     },
     "execution_count": 60,
     "metadata": {},
     "output_type": "execute_result"
    }
   ],
   "source": [
    "df['Alcohol'].var()"
   ]
  },
  {
   "cell_type": "code",
   "execution_count": 61,
   "id": "bd9bd2a0",
   "metadata": {},
   "outputs": [
    {
     "data": {
      "text/plain": [
       "4.052412658755652"
      ]
     },
     "execution_count": 61,
     "metadata": {},
     "output_type": "execute_result"
    }
   ],
   "source": [
    "df['Alcohol'].std()"
   ]
  },
  {
   "cell_type": "code",
   "execution_count": 62,
   "id": "1780a7a3",
   "metadata": {},
   "outputs": [
    {
     "data": {
      "text/plain": [
       "38.32124655647373"
      ]
     },
     "execution_count": 62,
     "metadata": {},
     "output_type": "execute_result"
    }
   ],
   "source": [
    "df[' BMI '].mean()"
   ]
  },
  {
   "cell_type": "code",
   "execution_count": 63,
   "id": "2a55058f",
   "metadata": {},
   "outputs": [
    {
     "data": {
      "text/plain": [
       "43.5"
      ]
     },
     "execution_count": 63,
     "metadata": {},
     "output_type": "execute_result"
    }
   ],
   "source": [
    "df[' BMI '].median()"
   ]
  },
  {
   "cell_type": "code",
   "execution_count": 68,
   "id": "9614039c",
   "metadata": {},
   "outputs": [
    {
     "data": {
      "text/plain": [
       "86.3"
      ]
     },
     "execution_count": 68,
     "metadata": {},
     "output_type": "execute_result"
    }
   ],
   "source": [
    "df[' BMI '].max()-df[' BMI '].min()"
   ]
  },
  {
   "cell_type": "code",
   "execution_count": 64,
   "id": "eef53340",
   "metadata": {},
   "outputs": [
    {
     "data": {
      "text/plain": [
       "19.3"
      ]
     },
     "execution_count": 64,
     "metadata": {},
     "output_type": "execute_result"
    }
   ],
   "source": [
    "df[' BMI '].quantile(.25)"
   ]
  },
  {
   "cell_type": "code",
   "execution_count": 65,
   "id": "c50ede1a",
   "metadata": {},
   "outputs": [
    {
     "data": {
      "text/plain": [
       "56.2"
      ]
     },
     "execution_count": 65,
     "metadata": {},
     "output_type": "execute_result"
    }
   ],
   "source": [
    "df[' BMI '].quantile(.75)"
   ]
  },
  {
   "cell_type": "code",
   "execution_count": 66,
   "id": "c75c427d",
   "metadata": {},
   "outputs": [
    {
     "data": {
      "text/plain": [
       "401.7632790518308"
      ]
     },
     "execution_count": 66,
     "metadata": {},
     "output_type": "execute_result"
    }
   ],
   "source": [
    "df[' BMI '].var()"
   ]
  },
  {
   "cell_type": "code",
   "execution_count": 67,
   "id": "743bc225",
   "metadata": {},
   "outputs": [
    {
     "data": {
      "text/plain": [
       "20.044033502562073"
      ]
     },
     "execution_count": 67,
     "metadata": {},
     "output_type": "execute_result"
    }
   ],
   "source": [
    "df[' BMI '].std()"
   ]
  },
  {
   "cell_type": "code",
   "execution_count": 82,
   "id": "888e6fec",
   "metadata": {},
   "outputs": [
    {
     "data": {
      "text/plain": [
       "5.9381895280235915"
      ]
     },
     "execution_count": 82,
     "metadata": {},
     "output_type": "execute_result"
    }
   ],
   "source": [
    "df['Total expenditure'].mean()"
   ]
  },
  {
   "cell_type": "code",
   "execution_count": 83,
   "id": "538c2690",
   "metadata": {},
   "outputs": [
    {
     "data": {
      "text/plain": [
       "5.755"
      ]
     },
     "execution_count": 83,
     "metadata": {},
     "output_type": "execute_result"
    }
   ],
   "source": [
    "df['Total expenditure'].median()"
   ]
  },
  {
   "cell_type": "code",
   "execution_count": 84,
   "id": "00fcf1e6",
   "metadata": {},
   "outputs": [
    {
     "data": {
      "text/plain": [
       "4.26"
      ]
     },
     "execution_count": 84,
     "metadata": {},
     "output_type": "execute_result"
    }
   ],
   "source": [
    "df['Total expenditure'].quantile(.25)"
   ]
  },
  {
   "cell_type": "code",
   "execution_count": 85,
   "id": "b030d56b",
   "metadata": {},
   "outputs": [
    {
     "data": {
      "text/plain": [
       "7.4925"
      ]
     },
     "execution_count": 85,
     "metadata": {},
     "output_type": "execute_result"
    }
   ],
   "source": [
    "df['Total expenditure'].quantile(.75)"
   ]
  },
  {
   "cell_type": "code",
   "execution_count": 86,
   "id": "b8c05cd5",
   "metadata": {},
   "outputs": [
    {
     "data": {
      "text/plain": [
       "17.23"
      ]
     },
     "execution_count": 86,
     "metadata": {},
     "output_type": "execute_result"
    }
   ],
   "source": [
    "df['Total expenditure'].max()-df['Total expenditure'].min()"
   ]
  },
  {
   "cell_type": "code",
   "execution_count": 87,
   "id": "2a949289",
   "metadata": {},
   "outputs": [
    {
     "data": {
      "text/plain": [
       "6.2416011842798165"
      ]
     },
     "execution_count": 87,
     "metadata": {},
     "output_type": "execute_result"
    }
   ],
   "source": [
    "df['Total expenditure'].var()"
   ]
  },
  {
   "cell_type": "code",
   "execution_count": 88,
   "id": "862d7a9f",
   "metadata": {},
   "outputs": [
    {
     "data": {
      "text/plain": [
       "2.4983196721556302"
      ]
     },
     "execution_count": 88,
     "metadata": {},
     "output_type": "execute_result"
    }
   ],
   "source": [
    "df['Total expenditure'].std()"
   ]
  },
  {
   "cell_type": "code",
   "execution_count": 96,
   "id": "1601bf92",
   "metadata": {},
   "outputs": [
    {
     "data": {
      "text/plain": [
       "1.7421034717494939"
      ]
     },
     "execution_count": 96,
     "metadata": {},
     "output_type": "execute_result"
    }
   ],
   "source": [
    "df[' HIV/AIDS'].mean()"
   ]
  },
  {
   "cell_type": "code",
   "execution_count": 97,
   "id": "d1bbdae6",
   "metadata": {},
   "outputs": [
    {
     "data": {
      "text/plain": [
       "0.1"
      ]
     },
     "execution_count": 97,
     "metadata": {},
     "output_type": "execute_result"
    }
   ],
   "source": [
    "df[' HIV/AIDS'].median()"
   ]
  },
  {
   "cell_type": "code",
   "execution_count": 98,
   "id": "8428dc18",
   "metadata": {},
   "outputs": [
    {
     "data": {
      "text/plain": [
       "50.5"
      ]
     },
     "execution_count": 98,
     "metadata": {},
     "output_type": "execute_result"
    }
   ],
   "source": [
    "df[' HIV/AIDS'].max()-df[' HIV/AIDS'].min()"
   ]
  },
  {
   "cell_type": "code",
   "execution_count": 99,
   "id": "52007b2c",
   "metadata": {},
   "outputs": [
    {
     "data": {
      "text/plain": [
       "0.1"
      ]
     },
     "execution_count": 99,
     "metadata": {},
     "output_type": "execute_result"
    }
   ],
   "source": [
    "df[' HIV/AIDS'].quantile(.25)"
   ]
  },
  {
   "cell_type": "code",
   "execution_count": 100,
   "id": "4ae55186",
   "metadata": {},
   "outputs": [
    {
     "data": {
      "text/plain": [
       "0.8"
      ]
     },
     "execution_count": 100,
     "metadata": {},
     "output_type": "execute_result"
    }
   ],
   "source": [
    "df[' HIV/AIDS'].quantile(.75)"
   ]
  },
  {
   "cell_type": "code",
   "execution_count": 116,
   "id": "827df451",
   "metadata": {},
   "outputs": [
    {
     "data": {
      "text/plain": [
       "7483.158469138481"
      ]
     },
     "execution_count": 116,
     "metadata": {},
     "output_type": "execute_result"
    }
   ],
   "source": [
    "df['GDP'].mean()"
   ]
  },
  {
   "cell_type": "code",
   "execution_count": 117,
   "id": "1522e6be",
   "metadata": {},
   "outputs": [
    {
     "data": {
      "text/plain": [
       "1766.947595"
      ]
     },
     "execution_count": 117,
     "metadata": {},
     "output_type": "execute_result"
    }
   ],
   "source": [
    "df['GDP'].median()"
   ]
  },
  {
   "cell_type": "code",
   "execution_count": 118,
   "id": "69bc275d",
   "metadata": {},
   "outputs": [
    {
     "data": {
      "text/plain": [
       "203637733.03554288"
      ]
     },
     "execution_count": 118,
     "metadata": {},
     "output_type": "execute_result"
    }
   ],
   "source": [
    "df['GDP'].var()"
   ]
  },
  {
   "cell_type": "code",
   "execution_count": 119,
   "id": "2f4b45d8",
   "metadata": {},
   "outputs": [
    {
     "data": {
      "text/plain": [
       "14270.16934151599"
      ]
     },
     "execution_count": 119,
     "metadata": {},
     "output_type": "execute_result"
    }
   ],
   "source": [
    "df['GDP'].std()"
   ]
  },
  {
   "cell_type": "code",
   "execution_count": 120,
   "id": "0885a905",
   "metadata": {},
   "outputs": [
    {
     "data": {
      "text/plain": [
       "463.935626"
      ]
     },
     "execution_count": 120,
     "metadata": {},
     "output_type": "execute_result"
    }
   ],
   "source": [
    "df['GDP'].quantile(.25)"
   ]
  },
  {
   "cell_type": "code",
   "execution_count": 121,
   "id": "d5509026",
   "metadata": {},
   "outputs": [
    {
     "data": {
      "text/plain": [
       "5910.806335"
      ]
     },
     "execution_count": 121,
     "metadata": {},
     "output_type": "execute_result"
    }
   ],
   "source": [
    "df['GDP'].quantile(.75)"
   ]
  },
  {
   "cell_type": "code",
   "execution_count": 122,
   "id": "37a2d9ff",
   "metadata": {},
   "outputs": [
    {
     "data": {
      "text/plain": [
       "119171.06045"
      ]
     },
     "execution_count": 122,
     "metadata": {},
     "output_type": "execute_result"
    }
   ],
   "source": [
    "df['GDP'].max()-df['GDP'].min()"
   ]
  },
  {
   "cell_type": "code",
   "execution_count": 123,
   "id": "b581687b",
   "metadata": {},
   "outputs": [
    {
     "data": {
      "text/plain": [
       "12753375.120052498"
      ]
     },
     "execution_count": 123,
     "metadata": {},
     "output_type": "execute_result"
    }
   ],
   "source": [
    "df['Population'].mean()"
   ]
  },
  {
   "cell_type": "code",
   "execution_count": 124,
   "id": "3ccb72ec",
   "metadata": {},
   "outputs": [
    {
     "data": {
      "text/plain": [
       "1386542.0"
      ]
     },
     "execution_count": 124,
     "metadata": {},
     "output_type": "execute_result"
    }
   ],
   "source": [
    "df['Population'].median()"
   ]
  },
  {
   "cell_type": "code",
   "execution_count": 125,
   "id": "d3473d1f",
   "metadata": {},
   "outputs": [
    {
     "data": {
      "text/plain": [
       "1293859260.0"
      ]
     },
     "execution_count": 125,
     "metadata": {},
     "output_type": "execute_result"
    }
   ],
   "source": [
    "df['Population'].max()-df['Population'].min()"
   ]
  },
  {
   "cell_type": "code",
   "execution_count": 126,
   "id": "ef7cd1cb",
   "metadata": {},
   "outputs": [
    {
     "data": {
      "text/plain": [
       "195793.25"
      ]
     },
     "execution_count": 126,
     "metadata": {},
     "output_type": "execute_result"
    }
   ],
   "source": [
    "df['Population'].quantile(.25)"
   ]
  },
  {
   "cell_type": "code",
   "execution_count": 127,
   "id": "d4242e51",
   "metadata": {},
   "outputs": [
    {
     "data": {
      "text/plain": [
       "7420359.0"
      ]
     },
     "execution_count": 127,
     "metadata": {},
     "output_type": "execute_result"
    }
   ],
   "source": [
    "df['Population'].quantile(.75)"
   ]
  },
  {
   "cell_type": "code",
   "execution_count": 128,
   "id": "a5a252a8",
   "metadata": {},
   "outputs": [
    {
     "data": {
      "text/plain": [
       "3722475920353729.0"
      ]
     },
     "execution_count": 128,
     "metadata": {},
     "output_type": "execute_result"
    }
   ],
   "source": [
    "df['Population'].var()"
   ]
  },
  {
   "cell_type": "code",
   "execution_count": 129,
   "id": "57364103",
   "metadata": {},
   "outputs": [
    {
     "data": {
      "text/plain": [
       "61012096.50842798"
      ]
     },
     "execution_count": 129,
     "metadata": {},
     "output_type": "execute_result"
    }
   ],
   "source": [
    "df['Population'].std()"
   ]
  },
  {
   "cell_type": "code",
   "execution_count": 130,
   "id": "cc718a87",
   "metadata": {},
   "outputs": [
    {
     "data": {
      "text/plain": [
       "0.6275510645976166"
      ]
     },
     "execution_count": 130,
     "metadata": {},
     "output_type": "execute_result"
    }
   ],
   "source": [
    "df['Income composition of resources'].mean()"
   ]
  },
  {
   "cell_type": "code",
   "execution_count": 131,
   "id": "008343d8",
   "metadata": {},
   "outputs": [
    {
     "data": {
      "text/plain": [
       "0.677"
      ]
     },
     "execution_count": 131,
     "metadata": {},
     "output_type": "execute_result"
    }
   ],
   "source": [
    "df['Income composition of resources'].median()"
   ]
  },
  {
   "cell_type": "code",
   "execution_count": 132,
   "id": "3d724b38",
   "metadata": {},
   "outputs": [
    {
     "data": {
      "text/plain": [
       "0.04448030957558118"
      ]
     },
     "execution_count": 132,
     "metadata": {},
     "output_type": "execute_result"
    }
   ],
   "source": [
    "df['Income composition of resources'].var()"
   ]
  },
  {
   "cell_type": "code",
   "execution_count": 133,
   "id": "b9321ad0",
   "metadata": {},
   "outputs": [
    {
     "data": {
      "text/plain": [
       "0.21090355515159337"
      ]
     },
     "execution_count": 133,
     "metadata": {},
     "output_type": "execute_result"
    }
   ],
   "source": [
    "df['Income composition of resources'].std()"
   ]
  },
  {
   "cell_type": "code",
   "execution_count": 134,
   "id": "73733171",
   "metadata": {},
   "outputs": [
    {
     "data": {
      "text/plain": [
       "0.493"
      ]
     },
     "execution_count": 134,
     "metadata": {},
     "output_type": "execute_result"
    }
   ],
   "source": [
    "df['Income composition of resources'].quantile(.25)"
   ]
  },
  {
   "cell_type": "code",
   "execution_count": 135,
   "id": "80ae9fa4",
   "metadata": {},
   "outputs": [
    {
     "data": {
      "text/plain": [
       "0.779"
      ]
     },
     "execution_count": 135,
     "metadata": {},
     "output_type": "execute_result"
    }
   ],
   "source": [
    "df['Income composition of resources'].quantile(.75)"
   ]
  },
  {
   "cell_type": "code",
   "execution_count": 136,
   "id": "e6550b47",
   "metadata": {},
   "outputs": [
    {
     "data": {
      "text/plain": [
       "0.948"
      ]
     },
     "execution_count": 136,
     "metadata": {},
     "output_type": "execute_result"
    }
   ],
   "source": [
    "df['Income composition of resources'].max()-df['Income composition of resources'].min()"
   ]
  },
  {
   "cell_type": "code",
   "execution_count": 137,
   "id": "42bd1e4b",
   "metadata": {},
   "outputs": [
    {
     "data": {
      "text/plain": [
       "4.8397038567493205"
      ]
     },
     "execution_count": 137,
     "metadata": {},
     "output_type": "execute_result"
    }
   ],
   "source": [
    "df[' thinness  1-19 years'].mean()"
   ]
  },
  {
   "cell_type": "code",
   "execution_count": 138,
   "id": "1d194983",
   "metadata": {},
   "outputs": [
    {
     "data": {
      "text/plain": [
       "3.3"
      ]
     },
     "execution_count": 138,
     "metadata": {},
     "output_type": "execute_result"
    }
   ],
   "source": [
    "df[' thinness  1-19 years'].median()"
   ]
  },
  {
   "cell_type": "code",
   "execution_count": 139,
   "id": "836b30d2",
   "metadata": {},
   "outputs": [
    {
     "data": {
      "text/plain": [
       "19.538123370760047"
      ]
     },
     "execution_count": 139,
     "metadata": {},
     "output_type": "execute_result"
    }
   ],
   "source": [
    "df[' thinness  1-19 years'].var()"
   ]
  },
  {
   "cell_type": "code",
   "execution_count": 140,
   "id": "16423030",
   "metadata": {},
   "outputs": [
    {
     "data": {
      "text/plain": [
       "4.420194947144306"
      ]
     },
     "execution_count": 140,
     "metadata": {},
     "output_type": "execute_result"
    }
   ],
   "source": [
    "df[' thinness  1-19 years'].std()"
   ]
  },
  {
   "cell_type": "code",
   "execution_count": 141,
   "id": "dbc40a99",
   "metadata": {},
   "outputs": [
    {
     "data": {
      "text/plain": [
       "1.6"
      ]
     },
     "execution_count": 141,
     "metadata": {},
     "output_type": "execute_result"
    }
   ],
   "source": [
    "df[' thinness  1-19 years'].quantile(.25)"
   ]
  },
  {
   "cell_type": "code",
   "execution_count": 142,
   "id": "de80a520",
   "metadata": {},
   "outputs": [
    {
     "data": {
      "text/plain": [
       "7.2"
      ]
     },
     "execution_count": 142,
     "metadata": {},
     "output_type": "execute_result"
    }
   ],
   "source": [
    "df[' thinness  1-19 years'].quantile(.75)"
   ]
  },
  {
   "cell_type": "code",
   "execution_count": 144,
   "id": "3e582ae7",
   "metadata": {},
   "outputs": [
    {
     "data": {
      "text/plain": [
       "27.599999999999998"
      ]
     },
     "execution_count": 144,
     "metadata": {},
     "output_type": "execute_result"
    }
   ],
   "source": [
    "df[' thinness  1-19 years'].max() - df[' thinness  1-19 years'].min()"
   ]
  },
  {
   "cell_type": "code",
   "execution_count": 145,
   "id": "69d9dc47",
   "metadata": {},
   "outputs": [
    {
     "data": {
      "text/plain": [
       "4.870316804407711"
      ]
     },
     "execution_count": 145,
     "metadata": {},
     "output_type": "execute_result"
    }
   ],
   "source": [
    "df[' thinness 5-9 years'].mean()"
   ]
  },
  {
   "cell_type": "code",
   "execution_count": 146,
   "id": "a66b9136",
   "metadata": {},
   "outputs": [
    {
     "data": {
      "text/plain": [
       "3.3"
      ]
     },
     "execution_count": 146,
     "metadata": {},
     "output_type": "execute_result"
    }
   ],
   "source": [
    "df[' thinness 5-9 years'].median()"
   ]
  },
  {
   "cell_type": "code",
   "execution_count": 147,
   "id": "1fcb3388",
   "metadata": {},
   "outputs": [
    {
     "data": {
      "text/plain": [
       "20.330017674316203"
      ]
     },
     "execution_count": 147,
     "metadata": {},
     "output_type": "execute_result"
    }
   ],
   "source": [
    "df[' thinness 5-9 years'].var()"
   ]
  },
  {
   "cell_type": "code",
   "execution_count": 148,
   "id": "de231cbf",
   "metadata": {},
   "outputs": [
    {
     "data": {
      "text/plain": [
       "4.508882086983003"
      ]
     },
     "execution_count": 148,
     "metadata": {},
     "output_type": "execute_result"
    }
   ],
   "source": [
    "df[' thinness 5-9 years'].std()"
   ]
  },
  {
   "cell_type": "code",
   "execution_count": 149,
   "id": "0b95ba5f",
   "metadata": {},
   "outputs": [
    {
     "data": {
      "text/plain": [
       "28.5"
      ]
     },
     "execution_count": 149,
     "metadata": {},
     "output_type": "execute_result"
    }
   ],
   "source": [
    "df[' thinness 5-9 years'].max()-df[' thinness 5-9 years'].min()"
   ]
  },
  {
   "cell_type": "code",
   "execution_count": 150,
   "id": "13f315e0",
   "metadata": {},
   "outputs": [
    {
     "data": {
      "text/plain": [
       "1.5"
      ]
     },
     "execution_count": 150,
     "metadata": {},
     "output_type": "execute_result"
    }
   ],
   "source": [
    "df[' thinness 5-9 years'].quantile(.25)"
   ]
  },
  {
   "cell_type": "code",
   "execution_count": 151,
   "id": "4e176e81",
   "metadata": {},
   "outputs": [
    {
     "data": {
      "text/plain": [
       "7.2"
      ]
     },
     "execution_count": 151,
     "metadata": {},
     "output_type": "execute_result"
    }
   ],
   "source": [
    "df[' thinness 5-9 years'].quantile(.75)"
   ]
  },
  {
   "cell_type": "code",
   "execution_count": 152,
   "id": "caf4a713",
   "metadata": {},
   "outputs": [
    {
     "data": {
      "text/plain": [
       "11.992792792792786"
      ]
     },
     "execution_count": 152,
     "metadata": {},
     "output_type": "execute_result"
    }
   ],
   "source": [
    "df['Schooling'].mean()"
   ]
  },
  {
   "cell_type": "code",
   "execution_count": 153,
   "id": "ee97b223",
   "metadata": {},
   "outputs": [
    {
     "data": {
      "text/plain": [
       "12.3"
      ]
     },
     "execution_count": 153,
     "metadata": {},
     "output_type": "execute_result"
    }
   ],
   "source": [
    "df['Schooling'].median()"
   ]
  },
  {
   "cell_type": "code",
   "execution_count": 154,
   "id": "61a32f4f",
   "metadata": {},
   "outputs": [
    {
     "data": {
      "text/plain": [
       "20.7"
      ]
     },
     "execution_count": 154,
     "metadata": {},
     "output_type": "execute_result"
    }
   ],
   "source": [
    "df['Schooling'].max()-df['Schooling'].min()"
   ]
  },
  {
   "cell_type": "code",
   "execution_count": 155,
   "id": "e3b68faf",
   "metadata": {},
   "outputs": [
    {
     "data": {
      "text/plain": [
       "10.1"
      ]
     },
     "execution_count": 155,
     "metadata": {},
     "output_type": "execute_result"
    }
   ],
   "source": [
    "df['Schooling'].quantile(.25)"
   ]
  },
  {
   "cell_type": "code",
   "execution_count": 107,
   "id": "1d1c3e87",
   "metadata": {},
   "outputs": [
    {
     "data": {
      "text/plain": [
       "Year                               2.012000e+03\n",
       "Life expectancy                    7.570000e+01\n",
       "Adult Mortality                    2.280000e+02\n",
       "infant deaths                      2.200000e+01\n",
       "Alcohol                            7.702500e+00\n",
       "percentage expenditure             4.415341e+02\n",
       "Hepatitis B                        9.700000e+01\n",
       "Measles                            3.602500e+02\n",
       " BMI                               5.620000e+01\n",
       "under-five deaths                  2.800000e+01\n",
       "Polio                              9.700000e+01\n",
       "Total expenditure                  7.492500e+00\n",
       "Diphtheria                         9.700000e+01\n",
       " HIV/AIDS                          8.000000e-01\n",
       "GDP                                5.910806e+03\n",
       "Population                         7.420359e+06\n",
       " thinness  1-19 years              7.200000e+00\n",
       " thinness 5-9 years                7.200000e+00\n",
       "Income composition of resources    7.790000e-01\n",
       "Schooling                          1.430000e+01\n",
       "Name: 0.75, dtype: float64"
      ]
     },
     "execution_count": 107,
     "metadata": {},
     "output_type": "execute_result"
    }
   ],
   "source": [
    "df.quantile(.75)"
   ]
  },
  {
   "cell_type": "code",
   "execution_count": 156,
   "id": "128a94ce",
   "metadata": {},
   "outputs": [
    {
     "data": {
      "text/plain": [
       "14.3"
      ]
     },
     "execution_count": 156,
     "metadata": {},
     "output_type": "execute_result"
    }
   ],
   "source": [
    "df['Schooling'].quantile(.75)"
   ]
  },
  {
   "cell_type": "code",
   "execution_count": 157,
   "id": "c0b64f8d",
   "metadata": {},
   "outputs": [
    {
     "data": {
      "text/plain": [
       "11.282341692810395"
      ]
     },
     "execution_count": 157,
     "metadata": {},
     "output_type": "execute_result"
    }
   ],
   "source": [
    "df['Schooling'].var()"
   ]
  },
  {
   "cell_type": "code",
   "execution_count": 158,
   "id": "bebf2f93",
   "metadata": {},
   "outputs": [
    {
     "data": {
      "text/plain": [
       "3.3589197211023656"
      ]
     },
     "execution_count": 158,
     "metadata": {},
     "output_type": "execute_result"
    }
   ],
   "source": [
    "df['Schooling'].std()"
   ]
  },
  {
   "cell_type": "code",
   "execution_count": 162,
   "id": "76ff98f1",
   "metadata": {
    "scrolled": true
   },
   "outputs": [
    {
     "data": {
      "text/html": [
       "<div>\n",
       "<style scoped>\n",
       "    .dataframe tbody tr th:only-of-type {\n",
       "        vertical-align: middle;\n",
       "    }\n",
       "\n",
       "    .dataframe tbody tr th {\n",
       "        vertical-align: top;\n",
       "    }\n",
       "\n",
       "    .dataframe thead th {\n",
       "        text-align: right;\n",
       "    }\n",
       "</style>\n",
       "<table border=\"1\" class=\"dataframe\">\n",
       "  <thead>\n",
       "    <tr style=\"text-align: right;\">\n",
       "      <th></th>\n",
       "      <th>Year</th>\n",
       "      <th>Life expectancy</th>\n",
       "      <th>Adult Mortality</th>\n",
       "      <th>infant deaths</th>\n",
       "      <th>Alcohol</th>\n",
       "      <th>percentage expenditure</th>\n",
       "      <th>Hepatitis B</th>\n",
       "      <th>Measles</th>\n",
       "      <th>BMI</th>\n",
       "      <th>under-five deaths</th>\n",
       "      <th>Polio</th>\n",
       "      <th>Total expenditure</th>\n",
       "      <th>Diphtheria</th>\n",
       "      <th>HIV/AIDS</th>\n",
       "      <th>GDP</th>\n",
       "      <th>Population</th>\n",
       "      <th>thinness  1-19 years</th>\n",
       "      <th>thinness 5-9 years</th>\n",
       "      <th>Income composition of resources</th>\n",
       "      <th>Schooling</th>\n",
       "    </tr>\n",
       "  </thead>\n",
       "  <tbody>\n",
       "    <tr>\n",
       "      <th>Year</th>\n",
       "      <td>1.000</td>\n",
       "      <td>0.170</td>\n",
       "      <td>-0.079</td>\n",
       "      <td>-0.037</td>\n",
       "      <td>-0.053</td>\n",
       "      <td>0.031</td>\n",
       "      <td>0.104</td>\n",
       "      <td>-0.082</td>\n",
       "      <td>0.109</td>\n",
       "      <td>-0.043</td>\n",
       "      <td>0.094</td>\n",
       "      <td>0.091</td>\n",
       "      <td>0.134</td>\n",
       "      <td>-0.140</td>\n",
       "      <td>0.102</td>\n",
       "      <td>0.017</td>\n",
       "      <td>-0.048</td>\n",
       "      <td>-0.051</td>\n",
       "      <td>0.243</td>\n",
       "      <td>0.209</td>\n",
       "    </tr>\n",
       "    <tr>\n",
       "      <th>Life expectancy</th>\n",
       "      <td>0.170</td>\n",
       "      <td>1.000</td>\n",
       "      <td>-0.696</td>\n",
       "      <td>-0.197</td>\n",
       "      <td>0.405</td>\n",
       "      <td>0.382</td>\n",
       "      <td>0.257</td>\n",
       "      <td>-0.158</td>\n",
       "      <td>0.568</td>\n",
       "      <td>-0.223</td>\n",
       "      <td>0.466</td>\n",
       "      <td>0.218</td>\n",
       "      <td>0.479</td>\n",
       "      <td>-0.557</td>\n",
       "      <td>0.461</td>\n",
       "      <td>-0.022</td>\n",
       "      <td>-0.477</td>\n",
       "      <td>-0.472</td>\n",
       "      <td>0.725</td>\n",
       "      <td>0.752</td>\n",
       "    </tr>\n",
       "    <tr>\n",
       "      <th>Adult Mortality</th>\n",
       "      <td>-0.079</td>\n",
       "      <td>-0.696</td>\n",
       "      <td>1.000</td>\n",
       "      <td>0.079</td>\n",
       "      <td>-0.196</td>\n",
       "      <td>-0.243</td>\n",
       "      <td>-0.162</td>\n",
       "      <td>0.031</td>\n",
       "      <td>-0.387</td>\n",
       "      <td>0.094</td>\n",
       "      <td>-0.275</td>\n",
       "      <td>-0.115</td>\n",
       "      <td>-0.275</td>\n",
       "      <td>0.524</td>\n",
       "      <td>-0.296</td>\n",
       "      <td>-0.014</td>\n",
       "      <td>0.303</td>\n",
       "      <td>0.308</td>\n",
       "      <td>-0.458</td>\n",
       "      <td>-0.455</td>\n",
       "    </tr>\n",
       "    <tr>\n",
       "      <th>infant deaths</th>\n",
       "      <td>-0.037</td>\n",
       "      <td>-0.197</td>\n",
       "      <td>0.079</td>\n",
       "      <td>1.000</td>\n",
       "      <td>-0.116</td>\n",
       "      <td>-0.086</td>\n",
       "      <td>-0.224</td>\n",
       "      <td>0.501</td>\n",
       "      <td>-0.227</td>\n",
       "      <td>0.997</td>\n",
       "      <td>-0.171</td>\n",
       "      <td>-0.129</td>\n",
       "      <td>-0.175</td>\n",
       "      <td>0.025</td>\n",
       "      <td>-0.108</td>\n",
       "      <td>0.557</td>\n",
       "      <td>0.466</td>\n",
       "      <td>0.471</td>\n",
       "      <td>-0.145</td>\n",
       "      <td>-0.194</td>\n",
       "    </tr>\n",
       "    <tr>\n",
       "      <th>Alcohol</th>\n",
       "      <td>-0.053</td>\n",
       "      <td>0.405</td>\n",
       "      <td>-0.196</td>\n",
       "      <td>-0.116</td>\n",
       "      <td>1.000</td>\n",
       "      <td>0.341</td>\n",
       "      <td>0.088</td>\n",
       "      <td>-0.052</td>\n",
       "      <td>0.330</td>\n",
       "      <td>-0.112</td>\n",
       "      <td>0.222</td>\n",
       "      <td>0.297</td>\n",
       "      <td>0.222</td>\n",
       "      <td>-0.049</td>\n",
       "      <td>0.355</td>\n",
       "      <td>-0.035</td>\n",
       "      <td>-0.429</td>\n",
       "      <td>-0.417</td>\n",
       "      <td>0.450</td>\n",
       "      <td>0.547</td>\n",
       "    </tr>\n",
       "    <tr>\n",
       "      <th>percentage expenditure</th>\n",
       "      <td>0.031</td>\n",
       "      <td>0.382</td>\n",
       "      <td>-0.243</td>\n",
       "      <td>-0.086</td>\n",
       "      <td>0.341</td>\n",
       "      <td>1.000</td>\n",
       "      <td>0.016</td>\n",
       "      <td>-0.057</td>\n",
       "      <td>0.229</td>\n",
       "      <td>-0.088</td>\n",
       "      <td>0.147</td>\n",
       "      <td>0.174</td>\n",
       "      <td>0.144</td>\n",
       "      <td>-0.098</td>\n",
       "      <td>0.899</td>\n",
       "      <td>-0.026</td>\n",
       "      <td>-0.251</td>\n",
       "      <td>-0.253</td>\n",
       "      <td>0.382</td>\n",
       "      <td>0.390</td>\n",
       "    </tr>\n",
       "    <tr>\n",
       "      <th>Hepatitis B</th>\n",
       "      <td>0.104</td>\n",
       "      <td>0.257</td>\n",
       "      <td>-0.162</td>\n",
       "      <td>-0.224</td>\n",
       "      <td>0.088</td>\n",
       "      <td>0.016</td>\n",
       "      <td>1.000</td>\n",
       "      <td>-0.121</td>\n",
       "      <td>0.150</td>\n",
       "      <td>-0.233</td>\n",
       "      <td>0.486</td>\n",
       "      <td>0.058</td>\n",
       "      <td>0.611</td>\n",
       "      <td>-0.113</td>\n",
       "      <td>0.084</td>\n",
       "      <td>-0.123</td>\n",
       "      <td>-0.120</td>\n",
       "      <td>-0.125</td>\n",
       "      <td>0.200</td>\n",
       "      <td>0.231</td>\n",
       "    </tr>\n",
       "    <tr>\n",
       "      <th>Measles</th>\n",
       "      <td>-0.082</td>\n",
       "      <td>-0.158</td>\n",
       "      <td>0.031</td>\n",
       "      <td>0.501</td>\n",
       "      <td>-0.052</td>\n",
       "      <td>-0.057</td>\n",
       "      <td>-0.121</td>\n",
       "      <td>1.000</td>\n",
       "      <td>-0.176</td>\n",
       "      <td>0.508</td>\n",
       "      <td>-0.136</td>\n",
       "      <td>-0.106</td>\n",
       "      <td>-0.142</td>\n",
       "      <td>0.031</td>\n",
       "      <td>-0.076</td>\n",
       "      <td>0.266</td>\n",
       "      <td>0.225</td>\n",
       "      <td>0.221</td>\n",
       "      <td>-0.130</td>\n",
       "      <td>-0.137</td>\n",
       "    </tr>\n",
       "    <tr>\n",
       "      <th>BMI</th>\n",
       "      <td>0.109</td>\n",
       "      <td>0.568</td>\n",
       "      <td>-0.387</td>\n",
       "      <td>-0.227</td>\n",
       "      <td>0.330</td>\n",
       "      <td>0.229</td>\n",
       "      <td>0.150</td>\n",
       "      <td>-0.176</td>\n",
       "      <td>1.000</td>\n",
       "      <td>-0.238</td>\n",
       "      <td>0.285</td>\n",
       "      <td>0.243</td>\n",
       "      <td>0.283</td>\n",
       "      <td>-0.244</td>\n",
       "      <td>0.302</td>\n",
       "      <td>-0.072</td>\n",
       "      <td>-0.532</td>\n",
       "      <td>-0.539</td>\n",
       "      <td>0.509</td>\n",
       "      <td>0.547</td>\n",
       "    </tr>\n",
       "    <tr>\n",
       "      <th>under-five deaths</th>\n",
       "      <td>-0.043</td>\n",
       "      <td>-0.223</td>\n",
       "      <td>0.094</td>\n",
       "      <td>0.997</td>\n",
       "      <td>-0.112</td>\n",
       "      <td>-0.088</td>\n",
       "      <td>-0.233</td>\n",
       "      <td>0.508</td>\n",
       "      <td>-0.238</td>\n",
       "      <td>1.000</td>\n",
       "      <td>-0.189</td>\n",
       "      <td>-0.130</td>\n",
       "      <td>-0.196</td>\n",
       "      <td>0.038</td>\n",
       "      <td>-0.112</td>\n",
       "      <td>0.544</td>\n",
       "      <td>0.468</td>\n",
       "      <td>0.472</td>\n",
       "      <td>-0.163</td>\n",
       "      <td>-0.209</td>\n",
       "    </tr>\n",
       "    <tr>\n",
       "      <th>Polio</th>\n",
       "      <td>0.094</td>\n",
       "      <td>0.466</td>\n",
       "      <td>-0.275</td>\n",
       "      <td>-0.171</td>\n",
       "      <td>0.222</td>\n",
       "      <td>0.147</td>\n",
       "      <td>0.486</td>\n",
       "      <td>-0.136</td>\n",
       "      <td>0.285</td>\n",
       "      <td>-0.189</td>\n",
       "      <td>1.000</td>\n",
       "      <td>0.137</td>\n",
       "      <td>0.674</td>\n",
       "      <td>-0.160</td>\n",
       "      <td>0.212</td>\n",
       "      <td>-0.039</td>\n",
       "      <td>-0.222</td>\n",
       "      <td>-0.223</td>\n",
       "      <td>0.381</td>\n",
       "      <td>0.418</td>\n",
       "    </tr>\n",
       "    <tr>\n",
       "      <th>Total expenditure</th>\n",
       "      <td>0.091</td>\n",
       "      <td>0.218</td>\n",
       "      <td>-0.115</td>\n",
       "      <td>-0.129</td>\n",
       "      <td>0.297</td>\n",
       "      <td>0.174</td>\n",
       "      <td>0.058</td>\n",
       "      <td>-0.106</td>\n",
       "      <td>0.243</td>\n",
       "      <td>-0.130</td>\n",
       "      <td>0.137</td>\n",
       "      <td>1.000</td>\n",
       "      <td>0.153</td>\n",
       "      <td>-0.001</td>\n",
       "      <td>0.138</td>\n",
       "      <td>-0.080</td>\n",
       "      <td>-0.277</td>\n",
       "      <td>-0.284</td>\n",
       "      <td>0.167</td>\n",
       "      <td>0.246</td>\n",
       "    </tr>\n",
       "    <tr>\n",
       "      <th>Diphtheria</th>\n",
       "      <td>0.134</td>\n",
       "      <td>0.479</td>\n",
       "      <td>-0.275</td>\n",
       "      <td>-0.175</td>\n",
       "      <td>0.222</td>\n",
       "      <td>0.144</td>\n",
       "      <td>0.611</td>\n",
       "      <td>-0.142</td>\n",
       "      <td>0.283</td>\n",
       "      <td>-0.196</td>\n",
       "      <td>0.674</td>\n",
       "      <td>0.153</td>\n",
       "      <td>1.000</td>\n",
       "      <td>-0.165</td>\n",
       "      <td>0.201</td>\n",
       "      <td>-0.028</td>\n",
       "      <td>-0.230</td>\n",
       "      <td>-0.223</td>\n",
       "      <td>0.401</td>\n",
       "      <td>0.425</td>\n",
       "    </tr>\n",
       "    <tr>\n",
       "      <th>HIV/AIDS</th>\n",
       "      <td>-0.140</td>\n",
       "      <td>-0.557</td>\n",
       "      <td>0.524</td>\n",
       "      <td>0.025</td>\n",
       "      <td>-0.049</td>\n",
       "      <td>-0.098</td>\n",
       "      <td>-0.113</td>\n",
       "      <td>0.031</td>\n",
       "      <td>-0.244</td>\n",
       "      <td>0.038</td>\n",
       "      <td>-0.160</td>\n",
       "      <td>-0.001</td>\n",
       "      <td>-0.165</td>\n",
       "      <td>1.000</td>\n",
       "      <td>-0.136</td>\n",
       "      <td>-0.028</td>\n",
       "      <td>0.204</td>\n",
       "      <td>0.207</td>\n",
       "      <td>-0.250</td>\n",
       "      <td>-0.220</td>\n",
       "    </tr>\n",
       "    <tr>\n",
       "      <th>GDP</th>\n",
       "      <td>0.102</td>\n",
       "      <td>0.461</td>\n",
       "      <td>-0.296</td>\n",
       "      <td>-0.108</td>\n",
       "      <td>0.355</td>\n",
       "      <td>0.899</td>\n",
       "      <td>0.084</td>\n",
       "      <td>-0.076</td>\n",
       "      <td>0.302</td>\n",
       "      <td>-0.112</td>\n",
       "      <td>0.212</td>\n",
       "      <td>0.138</td>\n",
       "      <td>0.201</td>\n",
       "      <td>-0.136</td>\n",
       "      <td>1.000</td>\n",
       "      <td>-0.028</td>\n",
       "      <td>-0.286</td>\n",
       "      <td>-0.291</td>\n",
       "      <td>0.460</td>\n",
       "      <td>0.448</td>\n",
       "    </tr>\n",
       "    <tr>\n",
       "      <th>Population</th>\n",
       "      <td>0.017</td>\n",
       "      <td>-0.022</td>\n",
       "      <td>-0.014</td>\n",
       "      <td>0.557</td>\n",
       "      <td>-0.035</td>\n",
       "      <td>-0.026</td>\n",
       "      <td>-0.123</td>\n",
       "      <td>0.266</td>\n",
       "      <td>-0.072</td>\n",
       "      <td>0.544</td>\n",
       "      <td>-0.039</td>\n",
       "      <td>-0.080</td>\n",
       "      <td>-0.028</td>\n",
       "      <td>-0.028</td>\n",
       "      <td>-0.028</td>\n",
       "      <td>1.000</td>\n",
       "      <td>0.254</td>\n",
       "      <td>0.251</td>\n",
       "      <td>-0.009</td>\n",
       "      <td>-0.032</td>\n",
       "    </tr>\n",
       "    <tr>\n",
       "      <th>thinness  1-19 years</th>\n",
       "      <td>-0.048</td>\n",
       "      <td>-0.477</td>\n",
       "      <td>0.303</td>\n",
       "      <td>0.466</td>\n",
       "      <td>-0.429</td>\n",
       "      <td>-0.251</td>\n",
       "      <td>-0.120</td>\n",
       "      <td>0.225</td>\n",
       "      <td>-0.532</td>\n",
       "      <td>0.468</td>\n",
       "      <td>-0.222</td>\n",
       "      <td>-0.277</td>\n",
       "      <td>-0.230</td>\n",
       "      <td>0.204</td>\n",
       "      <td>-0.286</td>\n",
       "      <td>0.254</td>\n",
       "      <td>1.000</td>\n",
       "      <td>0.939</td>\n",
       "      <td>-0.422</td>\n",
       "      <td>-0.472</td>\n",
       "    </tr>\n",
       "    <tr>\n",
       "      <th>thinness 5-9 years</th>\n",
       "      <td>-0.051</td>\n",
       "      <td>-0.472</td>\n",
       "      <td>0.308</td>\n",
       "      <td>0.471</td>\n",
       "      <td>-0.417</td>\n",
       "      <td>-0.253</td>\n",
       "      <td>-0.125</td>\n",
       "      <td>0.221</td>\n",
       "      <td>-0.539</td>\n",
       "      <td>0.472</td>\n",
       "      <td>-0.223</td>\n",
       "      <td>-0.284</td>\n",
       "      <td>-0.223</td>\n",
       "      <td>0.207</td>\n",
       "      <td>-0.291</td>\n",
       "      <td>0.251</td>\n",
       "      <td>0.939</td>\n",
       "      <td>1.000</td>\n",
       "      <td>-0.411</td>\n",
       "      <td>-0.461</td>\n",
       "    </tr>\n",
       "    <tr>\n",
       "      <th>Income composition of resources</th>\n",
       "      <td>0.243</td>\n",
       "      <td>0.725</td>\n",
       "      <td>-0.458</td>\n",
       "      <td>-0.145</td>\n",
       "      <td>0.450</td>\n",
       "      <td>0.382</td>\n",
       "      <td>0.200</td>\n",
       "      <td>-0.130</td>\n",
       "      <td>0.509</td>\n",
       "      <td>-0.163</td>\n",
       "      <td>0.381</td>\n",
       "      <td>0.167</td>\n",
       "      <td>0.401</td>\n",
       "      <td>-0.250</td>\n",
       "      <td>0.460</td>\n",
       "      <td>-0.009</td>\n",
       "      <td>-0.422</td>\n",
       "      <td>-0.411</td>\n",
       "      <td>1.000</td>\n",
       "      <td>0.800</td>\n",
       "    </tr>\n",
       "    <tr>\n",
       "      <th>Schooling</th>\n",
       "      <td>0.209</td>\n",
       "      <td>0.752</td>\n",
       "      <td>-0.455</td>\n",
       "      <td>-0.194</td>\n",
       "      <td>0.547</td>\n",
       "      <td>0.390</td>\n",
       "      <td>0.231</td>\n",
       "      <td>-0.137</td>\n",
       "      <td>0.547</td>\n",
       "      <td>-0.209</td>\n",
       "      <td>0.418</td>\n",
       "      <td>0.246</td>\n",
       "      <td>0.425</td>\n",
       "      <td>-0.220</td>\n",
       "      <td>0.448</td>\n",
       "      <td>-0.032</td>\n",
       "      <td>-0.472</td>\n",
       "      <td>-0.461</td>\n",
       "      <td>0.800</td>\n",
       "      <td>1.000</td>\n",
       "    </tr>\n",
       "  </tbody>\n",
       "</table>\n",
       "</div>"
      ],
      "text/plain": [
       "                                  Year  Life expectancy   Adult Mortality  \\\n",
       "Year                             1.000             0.170           -0.079   \n",
       "Life expectancy                  0.170             1.000           -0.696   \n",
       "Adult Mortality                 -0.079            -0.696            1.000   \n",
       "infant deaths                   -0.037            -0.197            0.079   \n",
       "Alcohol                         -0.053             0.405           -0.196   \n",
       "percentage expenditure           0.031             0.382           -0.243   \n",
       "Hepatitis B                      0.104             0.257           -0.162   \n",
       "Measles                         -0.082            -0.158            0.031   \n",
       " BMI                             0.109             0.568           -0.387   \n",
       "under-five deaths               -0.043            -0.223            0.094   \n",
       "Polio                            0.094             0.466           -0.275   \n",
       "Total expenditure                0.091             0.218           -0.115   \n",
       "Diphtheria                       0.134             0.479           -0.275   \n",
       " HIV/AIDS                       -0.140            -0.557            0.524   \n",
       "GDP                              0.102             0.461           -0.296   \n",
       "Population                       0.017            -0.022           -0.014   \n",
       " thinness  1-19 years           -0.048            -0.477            0.303   \n",
       " thinness 5-9 years             -0.051            -0.472            0.308   \n",
       "Income composition of resources  0.243             0.725           -0.458   \n",
       "Schooling                        0.209             0.752           -0.455   \n",
       "\n",
       "                                 infant deaths  Alcohol  \\\n",
       "Year                                    -0.037   -0.053   \n",
       "Life expectancy                         -0.197    0.405   \n",
       "Adult Mortality                          0.079   -0.196   \n",
       "infant deaths                            1.000   -0.116   \n",
       "Alcohol                                 -0.116    1.000   \n",
       "percentage expenditure                  -0.086    0.341   \n",
       "Hepatitis B                             -0.224    0.088   \n",
       "Measles                                  0.501   -0.052   \n",
       " BMI                                    -0.227    0.330   \n",
       "under-five deaths                        0.997   -0.112   \n",
       "Polio                                   -0.171    0.222   \n",
       "Total expenditure                       -0.129    0.297   \n",
       "Diphtheria                              -0.175    0.222   \n",
       " HIV/AIDS                                0.025   -0.049   \n",
       "GDP                                     -0.108    0.355   \n",
       "Population                               0.557   -0.035   \n",
       " thinness  1-19 years                    0.466   -0.429   \n",
       " thinness 5-9 years                      0.471   -0.417   \n",
       "Income composition of resources         -0.145    0.450   \n",
       "Schooling                               -0.194    0.547   \n",
       "\n",
       "                                 percentage expenditure  Hepatitis B  \\\n",
       "Year                                              0.031        0.104   \n",
       "Life expectancy                                   0.382        0.257   \n",
       "Adult Mortality                                  -0.243       -0.162   \n",
       "infant deaths                                    -0.086       -0.224   \n",
       "Alcohol                                           0.341        0.088   \n",
       "percentage expenditure                            1.000        0.016   \n",
       "Hepatitis B                                       0.016        1.000   \n",
       "Measles                                          -0.057       -0.121   \n",
       " BMI                                              0.229        0.150   \n",
       "under-five deaths                                -0.088       -0.233   \n",
       "Polio                                             0.147        0.486   \n",
       "Total expenditure                                 0.174        0.058   \n",
       "Diphtheria                                        0.144        0.611   \n",
       " HIV/AIDS                                        -0.098       -0.113   \n",
       "GDP                                               0.899        0.084   \n",
       "Population                                       -0.026       -0.123   \n",
       " thinness  1-19 years                            -0.251       -0.120   \n",
       " thinness 5-9 years                              -0.253       -0.125   \n",
       "Income composition of resources                   0.382        0.200   \n",
       "Schooling                                         0.390        0.231   \n",
       "\n",
       "                                 Measles    BMI   under-five deaths   Polio  \\\n",
       "Year                               -0.082  0.109              -0.043  0.094   \n",
       "Life expectancy                    -0.158  0.568              -0.223  0.466   \n",
       "Adult Mortality                     0.031 -0.387               0.094 -0.275   \n",
       "infant deaths                       0.501 -0.227               0.997 -0.171   \n",
       "Alcohol                            -0.052  0.330              -0.112  0.222   \n",
       "percentage expenditure             -0.057  0.229              -0.088  0.147   \n",
       "Hepatitis B                        -0.121  0.150              -0.233  0.486   \n",
       "Measles                             1.000 -0.176               0.508 -0.136   \n",
       " BMI                               -0.176  1.000              -0.238  0.285   \n",
       "under-five deaths                   0.508 -0.238               1.000 -0.189   \n",
       "Polio                              -0.136  0.285              -0.189  1.000   \n",
       "Total expenditure                  -0.106  0.243              -0.130  0.137   \n",
       "Diphtheria                         -0.142  0.283              -0.196  0.674   \n",
       " HIV/AIDS                           0.031 -0.244               0.038 -0.160   \n",
       "GDP                                -0.076  0.302              -0.112  0.212   \n",
       "Population                          0.266 -0.072               0.544 -0.039   \n",
       " thinness  1-19 years               0.225 -0.532               0.468 -0.222   \n",
       " thinness 5-9 years                 0.221 -0.539               0.472 -0.223   \n",
       "Income composition of resources    -0.130  0.509              -0.163  0.381   \n",
       "Schooling                          -0.137  0.547              -0.209  0.418   \n",
       "\n",
       "                                 Total expenditure  Diphtheria    HIV/AIDS  \\\n",
       "Year                                         0.091        0.134     -0.140   \n",
       "Life expectancy                              0.218        0.479     -0.557   \n",
       "Adult Mortality                             -0.115       -0.275      0.524   \n",
       "infant deaths                               -0.129       -0.175      0.025   \n",
       "Alcohol                                      0.297        0.222     -0.049   \n",
       "percentage expenditure                       0.174        0.144     -0.098   \n",
       "Hepatitis B                                  0.058        0.611     -0.113   \n",
       "Measles                                     -0.106       -0.142      0.031   \n",
       " BMI                                         0.243        0.283     -0.244   \n",
       "under-five deaths                           -0.130       -0.196      0.038   \n",
       "Polio                                        0.137        0.674     -0.160   \n",
       "Total expenditure                            1.000        0.153     -0.001   \n",
       "Diphtheria                                   0.153        1.000     -0.165   \n",
       " HIV/AIDS                                   -0.001       -0.165      1.000   \n",
       "GDP                                          0.138        0.201     -0.136   \n",
       "Population                                  -0.080       -0.028     -0.028   \n",
       " thinness  1-19 years                       -0.277       -0.230      0.204   \n",
       " thinness 5-9 years                         -0.284       -0.223      0.207   \n",
       "Income composition of resources              0.167        0.401     -0.250   \n",
       "Schooling                                    0.246        0.425     -0.220   \n",
       "\n",
       "                                   GDP  Population   thinness  1-19 years  \\\n",
       "Year                             0.102       0.017                 -0.048   \n",
       "Life expectancy                  0.461      -0.022                 -0.477   \n",
       "Adult Mortality                 -0.296      -0.014                  0.303   \n",
       "infant deaths                   -0.108       0.557                  0.466   \n",
       "Alcohol                          0.355      -0.035                 -0.429   \n",
       "percentage expenditure           0.899      -0.026                 -0.251   \n",
       "Hepatitis B                      0.084      -0.123                 -0.120   \n",
       "Measles                         -0.076       0.266                  0.225   \n",
       " BMI                             0.302      -0.072                 -0.532   \n",
       "under-five deaths               -0.112       0.544                  0.468   \n",
       "Polio                            0.212      -0.039                 -0.222   \n",
       "Total expenditure                0.138      -0.080                 -0.277   \n",
       "Diphtheria                       0.201      -0.028                 -0.230   \n",
       " HIV/AIDS                       -0.136      -0.028                  0.204   \n",
       "GDP                              1.000      -0.028                 -0.286   \n",
       "Population                      -0.028       1.000                  0.254   \n",
       " thinness  1-19 years           -0.286       0.254                  1.000   \n",
       " thinness 5-9 years             -0.291       0.251                  0.939   \n",
       "Income composition of resources  0.460      -0.009                 -0.422   \n",
       "Schooling                        0.448      -0.032                 -0.472   \n",
       "\n",
       "                                  thinness 5-9 years  \\\n",
       "Year                                          -0.051   \n",
       "Life expectancy                               -0.472   \n",
       "Adult Mortality                                0.308   \n",
       "infant deaths                                  0.471   \n",
       "Alcohol                                       -0.417   \n",
       "percentage expenditure                        -0.253   \n",
       "Hepatitis B                                   -0.125   \n",
       "Measles                                        0.221   \n",
       " BMI                                          -0.539   \n",
       "under-five deaths                              0.472   \n",
       "Polio                                         -0.223   \n",
       "Total expenditure                             -0.284   \n",
       "Diphtheria                                    -0.223   \n",
       " HIV/AIDS                                      0.207   \n",
       "GDP                                           -0.291   \n",
       "Population                                     0.251   \n",
       " thinness  1-19 years                          0.939   \n",
       " thinness 5-9 years                            1.000   \n",
       "Income composition of resources               -0.411   \n",
       "Schooling                                     -0.461   \n",
       "\n",
       "                                 Income composition of resources  Schooling  \n",
       "Year                                                       0.243      0.209  \n",
       "Life expectancy                                            0.725      0.752  \n",
       "Adult Mortality                                           -0.458     -0.455  \n",
       "infant deaths                                             -0.145     -0.194  \n",
       "Alcohol                                                    0.450      0.547  \n",
       "percentage expenditure                                     0.382      0.390  \n",
       "Hepatitis B                                                0.200      0.231  \n",
       "Measles                                                   -0.130     -0.137  \n",
       " BMI                                                       0.509      0.547  \n",
       "under-five deaths                                         -0.163     -0.209  \n",
       "Polio                                                      0.381      0.418  \n",
       "Total expenditure                                          0.167      0.246  \n",
       "Diphtheria                                                 0.401      0.425  \n",
       " HIV/AIDS                                                 -0.250     -0.220  \n",
       "GDP                                                        0.460      0.448  \n",
       "Population                                                -0.009     -0.032  \n",
       " thinness  1-19 years                                     -0.422     -0.472  \n",
       " thinness 5-9 years                                       -0.411     -0.461  \n",
       "Income composition of resources                            1.000      0.800  \n",
       "Schooling                                                  0.800      1.000  "
      ]
     },
     "execution_count": 162,
     "metadata": {},
     "output_type": "execute_result"
    }
   ],
   "source": [
    "df.corr().round(3)"
   ]
  },
  {
   "cell_type": "code",
   "execution_count": 163,
   "id": "0ec3f229",
   "metadata": {
    "scrolled": true
   },
   "outputs": [
    {
     "data": {
      "text/html": [
       "<div>\n",
       "<style scoped>\n",
       "    .dataframe tbody tr th:only-of-type {\n",
       "        vertical-align: middle;\n",
       "    }\n",
       "\n",
       "    .dataframe tbody tr th {\n",
       "        vertical-align: top;\n",
       "    }\n",
       "\n",
       "    .dataframe thead th {\n",
       "        text-align: right;\n",
       "    }\n",
       "</style>\n",
       "<table border=\"1\" class=\"dataframe\">\n",
       "  <thead>\n",
       "    <tr style=\"text-align: right;\">\n",
       "      <th></th>\n",
       "      <th></th>\n",
       "      <th>Year</th>\n",
       "      <th>Life expectancy</th>\n",
       "      <th>Adult Mortality</th>\n",
       "      <th>infant deaths</th>\n",
       "      <th>Alcohol</th>\n",
       "      <th>percentage expenditure</th>\n",
       "      <th>Hepatitis B</th>\n",
       "      <th>Measles</th>\n",
       "      <th>BMI</th>\n",
       "      <th>under-five deaths</th>\n",
       "      <th>Polio</th>\n",
       "      <th>Total expenditure</th>\n",
       "      <th>Diphtheria</th>\n",
       "      <th>HIV/AIDS</th>\n",
       "      <th>GDP</th>\n",
       "      <th>Population</th>\n",
       "      <th>thinness  1-19 years</th>\n",
       "      <th>thinness 5-9 years</th>\n",
       "      <th>Income composition of resources</th>\n",
       "      <th>Schooling</th>\n",
       "    </tr>\n",
       "    <tr>\n",
       "      <th>Status</th>\n",
       "      <th></th>\n",
       "      <th></th>\n",
       "      <th></th>\n",
       "      <th></th>\n",
       "      <th></th>\n",
       "      <th></th>\n",
       "      <th></th>\n",
       "      <th></th>\n",
       "      <th></th>\n",
       "      <th></th>\n",
       "      <th></th>\n",
       "      <th></th>\n",
       "      <th></th>\n",
       "      <th></th>\n",
       "      <th></th>\n",
       "      <th></th>\n",
       "      <th></th>\n",
       "      <th></th>\n",
       "      <th></th>\n",
       "      <th></th>\n",
       "      <th></th>\n",
       "    </tr>\n",
       "  </thead>\n",
       "  <tbody>\n",
       "    <tr>\n",
       "      <th rowspan=\"20\" valign=\"top\">Developed</th>\n",
       "      <th>Year</th>\n",
       "      <td>1.000</td>\n",
       "      <td>0.333</td>\n",
       "      <td>-0.146</td>\n",
       "      <td>-0.041</td>\n",
       "      <td>-0.128</td>\n",
       "      <td>0.030</td>\n",
       "      <td>0.126</td>\n",
       "      <td>-0.088</td>\n",
       "      <td>0.098</td>\n",
       "      <td>-0.039</td>\n",
       "      <td>0.090</td>\n",
       "      <td>0.132</td>\n",
       "      <td>0.138</td>\n",
       "      <td>NaN</td>\n",
       "      <td>0.117</td>\n",
       "      <td>-0.009</td>\n",
       "      <td>-0.086</td>\n",
       "      <td>-0.089</td>\n",
       "      <td>0.385</td>\n",
       "      <td>0.259</td>\n",
       "    </tr>\n",
       "    <tr>\n",
       "      <th>Life expectancy</th>\n",
       "      <td>0.333</td>\n",
       "      <td>1.000</td>\n",
       "      <td>-0.485</td>\n",
       "      <td>-0.055</td>\n",
       "      <td>-0.288</td>\n",
       "      <td>0.350</td>\n",
       "      <td>-0.086</td>\n",
       "      <td>0.038</td>\n",
       "      <td>-0.044</td>\n",
       "      <td>-0.048</td>\n",
       "      <td>0.018</td>\n",
       "      <td>0.072</td>\n",
       "      <td>-0.020</td>\n",
       "      <td>NaN</td>\n",
       "      <td>0.353</td>\n",
       "      <td>0.080</td>\n",
       "      <td>-0.588</td>\n",
       "      <td>-0.597</td>\n",
       "      <td>0.724</td>\n",
       "      <td>0.395</td>\n",
       "    </tr>\n",
       "    <tr>\n",
       "      <th>Adult Mortality</th>\n",
       "      <td>-0.146</td>\n",
       "      <td>-0.485</td>\n",
       "      <td>1.000</td>\n",
       "      <td>-0.048</td>\n",
       "      <td>0.136</td>\n",
       "      <td>-0.204</td>\n",
       "      <td>0.118</td>\n",
       "      <td>-0.036</td>\n",
       "      <td>-0.010</td>\n",
       "      <td>-0.049</td>\n",
       "      <td>0.023</td>\n",
       "      <td>-0.155</td>\n",
       "      <td>0.010</td>\n",
       "      <td>NaN</td>\n",
       "      <td>-0.250</td>\n",
       "      <td>-0.040</td>\n",
       "      <td>0.472</td>\n",
       "      <td>0.481</td>\n",
       "      <td>-0.481</td>\n",
       "      <td>-0.243</td>\n",
       "    </tr>\n",
       "    <tr>\n",
       "      <th>infant deaths</th>\n",
       "      <td>-0.041</td>\n",
       "      <td>-0.055</td>\n",
       "      <td>-0.048</td>\n",
       "      <td>1.000</td>\n",
       "      <td>-0.078</td>\n",
       "      <td>-0.151</td>\n",
       "      <td>-0.072</td>\n",
       "      <td>0.051</td>\n",
       "      <td>0.048</td>\n",
       "      <td>0.998</td>\n",
       "      <td>-0.188</td>\n",
       "      <td>0.463</td>\n",
       "      <td>0.035</td>\n",
       "      <td>NaN</td>\n",
       "      <td>-0.122</td>\n",
       "      <td>0.429</td>\n",
       "      <td>-0.107</td>\n",
       "      <td>-0.119</td>\n",
       "      <td>-0.163</td>\n",
       "      <td>-0.096</td>\n",
       "    </tr>\n",
       "    <tr>\n",
       "      <th>Alcohol</th>\n",
       "      <td>-0.128</td>\n",
       "      <td>-0.288</td>\n",
       "      <td>0.136</td>\n",
       "      <td>-0.078</td>\n",
       "      <td>1.000</td>\n",
       "      <td>-0.012</td>\n",
       "      <td>-0.029</td>\n",
       "      <td>-0.058</td>\n",
       "      <td>0.145</td>\n",
       "      <td>-0.077</td>\n",
       "      <td>-0.020</td>\n",
       "      <td>-0.021</td>\n",
       "      <td>0.003</td>\n",
       "      <td>NaN</td>\n",
       "      <td>-0.046</td>\n",
       "      <td>0.027</td>\n",
       "      <td>0.003</td>\n",
       "      <td>0.023</td>\n",
       "      <td>-0.208</td>\n",
       "      <td>-0.003</td>\n",
       "    </tr>\n",
       "    <tr>\n",
       "      <th>percentage expenditure</th>\n",
       "      <td>0.030</td>\n",
       "      <td>0.350</td>\n",
       "      <td>-0.204</td>\n",
       "      <td>-0.151</td>\n",
       "      <td>-0.012</td>\n",
       "      <td>1.000</td>\n",
       "      <td>-0.073</td>\n",
       "      <td>0.050</td>\n",
       "      <td>-0.018</td>\n",
       "      <td>-0.153</td>\n",
       "      <td>0.000</td>\n",
       "      <td>0.035</td>\n",
       "      <td>-0.045</td>\n",
       "      <td>NaN</td>\n",
       "      <td>0.913</td>\n",
       "      <td>0.017</td>\n",
       "      <td>-0.291</td>\n",
       "      <td>-0.291</td>\n",
       "      <td>0.464</td>\n",
       "      <td>0.195</td>\n",
       "    </tr>\n",
       "    <tr>\n",
       "      <th>Hepatitis B</th>\n",
       "      <td>0.126</td>\n",
       "      <td>-0.086</td>\n",
       "      <td>0.118</td>\n",
       "      <td>-0.072</td>\n",
       "      <td>-0.029</td>\n",
       "      <td>-0.073</td>\n",
       "      <td>1.000</td>\n",
       "      <td>0.036</td>\n",
       "      <td>0.071</td>\n",
       "      <td>-0.067</td>\n",
       "      <td>0.213</td>\n",
       "      <td>-0.045</td>\n",
       "      <td>0.244</td>\n",
       "      <td>NaN</td>\n",
       "      <td>-0.039</td>\n",
       "      <td>-0.070</td>\n",
       "      <td>0.195</td>\n",
       "      <td>0.194</td>\n",
       "      <td>-0.189</td>\n",
       "      <td>-0.226</td>\n",
       "    </tr>\n",
       "    <tr>\n",
       "      <th>Measles</th>\n",
       "      <td>-0.088</td>\n",
       "      <td>0.038</td>\n",
       "      <td>-0.036</td>\n",
       "      <td>0.051</td>\n",
       "      <td>-0.058</td>\n",
       "      <td>0.050</td>\n",
       "      <td>0.036</td>\n",
       "      <td>1.000</td>\n",
       "      <td>-0.102</td>\n",
       "      <td>0.064</td>\n",
       "      <td>-0.008</td>\n",
       "      <td>-0.018</td>\n",
       "      <td>0.009</td>\n",
       "      <td>NaN</td>\n",
       "      <td>0.034</td>\n",
       "      <td>0.066</td>\n",
       "      <td>0.044</td>\n",
       "      <td>0.018</td>\n",
       "      <td>-0.017</td>\n",
       "      <td>-0.078</td>\n",
       "    </tr>\n",
       "    <tr>\n",
       "      <th>BMI</th>\n",
       "      <td>0.098</td>\n",
       "      <td>-0.044</td>\n",
       "      <td>-0.010</td>\n",
       "      <td>0.048</td>\n",
       "      <td>0.145</td>\n",
       "      <td>-0.018</td>\n",
       "      <td>0.071</td>\n",
       "      <td>-0.102</td>\n",
       "      <td>1.000</td>\n",
       "      <td>0.044</td>\n",
       "      <td>0.059</td>\n",
       "      <td>0.152</td>\n",
       "      <td>0.072</td>\n",
       "      <td>NaN</td>\n",
       "      <td>-0.039</td>\n",
       "      <td>0.108</td>\n",
       "      <td>-0.131</td>\n",
       "      <td>-0.103</td>\n",
       "      <td>-0.012</td>\n",
       "      <td>0.120</td>\n",
       "    </tr>\n",
       "    <tr>\n",
       "      <th>under-five deaths</th>\n",
       "      <td>-0.039</td>\n",
       "      <td>-0.048</td>\n",
       "      <td>-0.049</td>\n",
       "      <td>0.998</td>\n",
       "      <td>-0.077</td>\n",
       "      <td>-0.153</td>\n",
       "      <td>-0.067</td>\n",
       "      <td>0.064</td>\n",
       "      <td>0.044</td>\n",
       "      <td>1.000</td>\n",
       "      <td>-0.187</td>\n",
       "      <td>0.459</td>\n",
       "      <td>0.035</td>\n",
       "      <td>NaN</td>\n",
       "      <td>-0.141</td>\n",
       "      <td>0.386</td>\n",
       "      <td>-0.107</td>\n",
       "      <td>-0.120</td>\n",
       "      <td>-0.136</td>\n",
       "      <td>-0.084</td>\n",
       "    </tr>\n",
       "    <tr>\n",
       "      <th>Polio</th>\n",
       "      <td>0.090</td>\n",
       "      <td>0.018</td>\n",
       "      <td>0.023</td>\n",
       "      <td>-0.188</td>\n",
       "      <td>-0.020</td>\n",
       "      <td>0.000</td>\n",
       "      <td>0.213</td>\n",
       "      <td>-0.008</td>\n",
       "      <td>0.059</td>\n",
       "      <td>-0.187</td>\n",
       "      <td>1.000</td>\n",
       "      <td>-0.089</td>\n",
       "      <td>0.584</td>\n",
       "      <td>NaN</td>\n",
       "      <td>0.019</td>\n",
       "      <td>0.060</td>\n",
       "      <td>0.088</td>\n",
       "      <td>0.090</td>\n",
       "      <td>-0.089</td>\n",
       "      <td>-0.209</td>\n",
       "    </tr>\n",
       "    <tr>\n",
       "      <th>Total expenditure</th>\n",
       "      <td>0.132</td>\n",
       "      <td>0.072</td>\n",
       "      <td>-0.155</td>\n",
       "      <td>0.463</td>\n",
       "      <td>-0.021</td>\n",
       "      <td>0.035</td>\n",
       "      <td>-0.045</td>\n",
       "      <td>-0.018</td>\n",
       "      <td>0.152</td>\n",
       "      <td>0.459</td>\n",
       "      <td>-0.089</td>\n",
       "      <td>1.000</td>\n",
       "      <td>0.014</td>\n",
       "      <td>NaN</td>\n",
       "      <td>0.089</td>\n",
       "      <td>-0.156</td>\n",
       "      <td>-0.311</td>\n",
       "      <td>-0.318</td>\n",
       "      <td>0.162</td>\n",
       "      <td>0.261</td>\n",
       "    </tr>\n",
       "    <tr>\n",
       "      <th>Diphtheria</th>\n",
       "      <td>0.138</td>\n",
       "      <td>-0.020</td>\n",
       "      <td>0.010</td>\n",
       "      <td>0.035</td>\n",
       "      <td>0.003</td>\n",
       "      <td>-0.045</td>\n",
       "      <td>0.244</td>\n",
       "      <td>0.009</td>\n",
       "      <td>0.072</td>\n",
       "      <td>0.035</td>\n",
       "      <td>0.584</td>\n",
       "      <td>0.014</td>\n",
       "      <td>1.000</td>\n",
       "      <td>NaN</td>\n",
       "      <td>0.006</td>\n",
       "      <td>0.050</td>\n",
       "      <td>0.168</td>\n",
       "      <td>0.158</td>\n",
       "      <td>-0.117</td>\n",
       "      <td>-0.214</td>\n",
       "    </tr>\n",
       "    <tr>\n",
       "      <th>HIV/AIDS</th>\n",
       "      <td>NaN</td>\n",
       "      <td>NaN</td>\n",
       "      <td>NaN</td>\n",
       "      <td>NaN</td>\n",
       "      <td>NaN</td>\n",
       "      <td>NaN</td>\n",
       "      <td>NaN</td>\n",
       "      <td>NaN</td>\n",
       "      <td>NaN</td>\n",
       "      <td>NaN</td>\n",
       "      <td>NaN</td>\n",
       "      <td>NaN</td>\n",
       "      <td>NaN</td>\n",
       "      <td>NaN</td>\n",
       "      <td>NaN</td>\n",
       "      <td>NaN</td>\n",
       "      <td>NaN</td>\n",
       "      <td>NaN</td>\n",
       "      <td>NaN</td>\n",
       "      <td>NaN</td>\n",
       "    </tr>\n",
       "    <tr>\n",
       "      <th>GDP</th>\n",
       "      <td>0.117</td>\n",
       "      <td>0.353</td>\n",
       "      <td>-0.250</td>\n",
       "      <td>-0.122</td>\n",
       "      <td>-0.046</td>\n",
       "      <td>0.913</td>\n",
       "      <td>-0.039</td>\n",
       "      <td>0.034</td>\n",
       "      <td>-0.039</td>\n",
       "      <td>-0.141</td>\n",
       "      <td>0.019</td>\n",
       "      <td>0.089</td>\n",
       "      <td>0.006</td>\n",
       "      <td>NaN</td>\n",
       "      <td>1.000</td>\n",
       "      <td>0.036</td>\n",
       "      <td>-0.303</td>\n",
       "      <td>-0.308</td>\n",
       "      <td>0.488</td>\n",
       "      <td>0.157</td>\n",
       "    </tr>\n",
       "    <tr>\n",
       "      <th>Population</th>\n",
       "      <td>-0.009</td>\n",
       "      <td>0.080</td>\n",
       "      <td>-0.040</td>\n",
       "      <td>0.429</td>\n",
       "      <td>0.027</td>\n",
       "      <td>0.017</td>\n",
       "      <td>-0.070</td>\n",
       "      <td>0.066</td>\n",
       "      <td>0.108</td>\n",
       "      <td>0.386</td>\n",
       "      <td>0.060</td>\n",
       "      <td>-0.156</td>\n",
       "      <td>0.050</td>\n",
       "      <td>NaN</td>\n",
       "      <td>0.036</td>\n",
       "      <td>1.000</td>\n",
       "      <td>-0.093</td>\n",
       "      <td>-0.073</td>\n",
       "      <td>0.061</td>\n",
       "      <td>0.063</td>\n",
       "    </tr>\n",
       "    <tr>\n",
       "      <th>thinness  1-19 years</th>\n",
       "      <td>-0.086</td>\n",
       "      <td>-0.588</td>\n",
       "      <td>0.472</td>\n",
       "      <td>-0.107</td>\n",
       "      <td>0.003</td>\n",
       "      <td>-0.291</td>\n",
       "      <td>0.195</td>\n",
       "      <td>0.044</td>\n",
       "      <td>-0.131</td>\n",
       "      <td>-0.107</td>\n",
       "      <td>0.088</td>\n",
       "      <td>-0.311</td>\n",
       "      <td>0.168</td>\n",
       "      <td>NaN</td>\n",
       "      <td>-0.303</td>\n",
       "      <td>-0.093</td>\n",
       "      <td>1.000</td>\n",
       "      <td>0.990</td>\n",
       "      <td>-0.610</td>\n",
       "      <td>-0.468</td>\n",
       "    </tr>\n",
       "    <tr>\n",
       "      <th>thinness 5-9 years</th>\n",
       "      <td>-0.089</td>\n",
       "      <td>-0.597</td>\n",
       "      <td>0.481</td>\n",
       "      <td>-0.119</td>\n",
       "      <td>0.023</td>\n",
       "      <td>-0.291</td>\n",
       "      <td>0.194</td>\n",
       "      <td>0.018</td>\n",
       "      <td>-0.103</td>\n",
       "      <td>-0.120</td>\n",
       "      <td>0.090</td>\n",
       "      <td>-0.318</td>\n",
       "      <td>0.158</td>\n",
       "      <td>NaN</td>\n",
       "      <td>-0.308</td>\n",
       "      <td>-0.073</td>\n",
       "      <td>0.990</td>\n",
       "      <td>1.000</td>\n",
       "      <td>-0.626</td>\n",
       "      <td>-0.473</td>\n",
       "    </tr>\n",
       "    <tr>\n",
       "      <th>Income composition of resources</th>\n",
       "      <td>0.385</td>\n",
       "      <td>0.724</td>\n",
       "      <td>-0.481</td>\n",
       "      <td>-0.163</td>\n",
       "      <td>-0.208</td>\n",
       "      <td>0.464</td>\n",
       "      <td>-0.189</td>\n",
       "      <td>-0.017</td>\n",
       "      <td>-0.012</td>\n",
       "      <td>-0.136</td>\n",
       "      <td>-0.089</td>\n",
       "      <td>0.162</td>\n",
       "      <td>-0.117</td>\n",
       "      <td>NaN</td>\n",
       "      <td>0.488</td>\n",
       "      <td>0.061</td>\n",
       "      <td>-0.610</td>\n",
       "      <td>-0.626</td>\n",
       "      <td>1.000</td>\n",
       "      <td>0.676</td>\n",
       "    </tr>\n",
       "    <tr>\n",
       "      <th>Schooling</th>\n",
       "      <td>0.259</td>\n",
       "      <td>0.395</td>\n",
       "      <td>-0.243</td>\n",
       "      <td>-0.096</td>\n",
       "      <td>-0.003</td>\n",
       "      <td>0.195</td>\n",
       "      <td>-0.226</td>\n",
       "      <td>-0.078</td>\n",
       "      <td>0.120</td>\n",
       "      <td>-0.084</td>\n",
       "      <td>-0.209</td>\n",
       "      <td>0.261</td>\n",
       "      <td>-0.214</td>\n",
       "      <td>NaN</td>\n",
       "      <td>0.157</td>\n",
       "      <td>0.063</td>\n",
       "      <td>-0.468</td>\n",
       "      <td>-0.473</td>\n",
       "      <td>0.676</td>\n",
       "      <td>1.000</td>\n",
       "    </tr>\n",
       "    <tr>\n",
       "      <th rowspan=\"20\" valign=\"top\">Developing</th>\n",
       "      <th>Year</th>\n",
       "      <td>1.000</td>\n",
       "      <td>0.187</td>\n",
       "      <td>-0.081</td>\n",
       "      <td>-0.041</td>\n",
       "      <td>-0.058</td>\n",
       "      <td>0.063</td>\n",
       "      <td>0.107</td>\n",
       "      <td>-0.088</td>\n",
       "      <td>0.119</td>\n",
       "      <td>-0.048</td>\n",
       "      <td>0.101</td>\n",
       "      <td>0.087</td>\n",
       "      <td>0.142</td>\n",
       "      <td>-0.156</td>\n",
       "      <td>0.136</td>\n",
       "      <td>0.019</td>\n",
       "      <td>-0.054</td>\n",
       "      <td>-0.058</td>\n",
       "      <td>0.286</td>\n",
       "      <td>0.247</td>\n",
       "    </tr>\n",
       "    <tr>\n",
       "      <th>Life expectancy</th>\n",
       "      <td>0.187</td>\n",
       "      <td>1.000</td>\n",
       "      <td>-0.661</td>\n",
       "      <td>-0.166</td>\n",
       "      <td>0.203</td>\n",
       "      <td>0.344</td>\n",
       "      <td>0.254</td>\n",
       "      <td>-0.142</td>\n",
       "      <td>0.556</td>\n",
       "      <td>-0.195</td>\n",
       "      <td>0.437</td>\n",
       "      <td>0.094</td>\n",
       "      <td>0.460</td>\n",
       "      <td>-0.571</td>\n",
       "      <td>0.390</td>\n",
       "      <td>0.000</td>\n",
       "      <td>-0.367</td>\n",
       "      <td>-0.360</td>\n",
       "      <td>0.644</td>\n",
       "      <td>0.688</td>\n",
       "    </tr>\n",
       "    <tr>\n",
       "      <th>Adult Mortality</th>\n",
       "      <td>-0.081</td>\n",
       "      <td>-0.661</td>\n",
       "      <td>1.000</td>\n",
       "      <td>0.047</td>\n",
       "      <td>-0.022</td>\n",
       "      <td>-0.203</td>\n",
       "      <td>-0.153</td>\n",
       "      <td>0.008</td>\n",
       "      <td>-0.351</td>\n",
       "      <td>0.062</td>\n",
       "      <td>-0.230</td>\n",
       "      <td>-0.010</td>\n",
       "      <td>-0.233</td>\n",
       "      <td>0.516</td>\n",
       "      <td>-0.234</td>\n",
       "      <td>-0.030</td>\n",
       "      <td>0.209</td>\n",
       "      <td>0.216</td>\n",
       "      <td>-0.374</td>\n",
       "      <td>-0.374</td>\n",
       "    </tr>\n",
       "    <tr>\n",
       "      <th>infant deaths</th>\n",
       "      <td>-0.041</td>\n",
       "      <td>-0.166</td>\n",
       "      <td>0.047</td>\n",
       "      <td>1.000</td>\n",
       "      <td>-0.065</td>\n",
       "      <td>-0.085</td>\n",
       "      <td>-0.225</td>\n",
       "      <td>0.499</td>\n",
       "      <td>-0.221</td>\n",
       "      <td>0.997</td>\n",
       "      <td>-0.153</td>\n",
       "      <td>-0.122</td>\n",
       "      <td>-0.160</td>\n",
       "      <td>0.009</td>\n",
       "      <td>-0.097</td>\n",
       "      <td>0.559</td>\n",
       "      <td>0.461</td>\n",
       "      <td>0.467</td>\n",
       "      <td>-0.108</td>\n",
       "      <td>-0.168</td>\n",
       "    </tr>\n",
       "    <tr>\n",
       "      <th>Alcohol</th>\n",
       "      <td>-0.058</td>\n",
       "      <td>0.203</td>\n",
       "      <td>-0.022</td>\n",
       "      <td>-0.065</td>\n",
       "      <td>1.000</td>\n",
       "      <td>0.223</td>\n",
       "      <td>0.033</td>\n",
       "      <td>-0.005</td>\n",
       "      <td>0.194</td>\n",
       "      <td>-0.058</td>\n",
       "      <td>0.128</td>\n",
       "      <td>0.199</td>\n",
       "      <td>0.130</td>\n",
       "      <td>0.055</td>\n",
       "      <td>0.184</td>\n",
       "      <td>-0.008</td>\n",
       "      <td>-0.300</td>\n",
       "      <td>-0.286</td>\n",
       "      <td>0.264</td>\n",
       "      <td>0.387</td>\n",
       "    </tr>\n",
       "    <tr>\n",
       "      <th>percentage expenditure</th>\n",
       "      <td>0.063</td>\n",
       "      <td>0.344</td>\n",
       "      <td>-0.203</td>\n",
       "      <td>-0.085</td>\n",
       "      <td>0.223</td>\n",
       "      <td>1.000</td>\n",
       "      <td>-0.026</td>\n",
       "      <td>-0.066</td>\n",
       "      <td>0.273</td>\n",
       "      <td>-0.088</td>\n",
       "      <td>0.128</td>\n",
       "      <td>0.063</td>\n",
       "      <td>0.145</td>\n",
       "      <td>-0.079</td>\n",
       "      <td>0.839</td>\n",
       "      <td>-0.012</td>\n",
       "      <td>-0.189</td>\n",
       "      <td>-0.191</td>\n",
       "      <td>0.335</td>\n",
       "      <td>0.335</td>\n",
       "    </tr>\n",
       "    <tr>\n",
       "      <th>Hepatitis B</th>\n",
       "      <td>0.107</td>\n",
       "      <td>0.254</td>\n",
       "      <td>-0.153</td>\n",
       "      <td>-0.225</td>\n",
       "      <td>0.033</td>\n",
       "      <td>-0.026</td>\n",
       "      <td>1.000</td>\n",
       "      <td>-0.121</td>\n",
       "      <td>0.133</td>\n",
       "      <td>-0.235</td>\n",
       "      <td>0.496</td>\n",
       "      <td>0.046</td>\n",
       "      <td>0.633</td>\n",
       "      <td>-0.106</td>\n",
       "      <td>0.077</td>\n",
       "      <td>-0.124</td>\n",
       "      <td>-0.099</td>\n",
       "      <td>-0.104</td>\n",
       "      <td>0.186</td>\n",
       "      <td>0.243</td>\n",
       "    </tr>\n",
       "    <tr>\n",
       "      <th>Measles</th>\n",
       "      <td>-0.088</td>\n",
       "      <td>-0.142</td>\n",
       "      <td>0.008</td>\n",
       "      <td>0.499</td>\n",
       "      <td>-0.005</td>\n",
       "      <td>-0.066</td>\n",
       "      <td>-0.121</td>\n",
       "      <td>1.000</td>\n",
       "      <td>-0.170</td>\n",
       "      <td>0.506</td>\n",
       "      <td>-0.125</td>\n",
       "      <td>-0.102</td>\n",
       "      <td>-0.133</td>\n",
       "      <td>0.020</td>\n",
       "      <td>-0.076</td>\n",
       "      <td>0.266</td>\n",
       "      <td>0.213</td>\n",
       "      <td>0.209</td>\n",
       "      <td>-0.110</td>\n",
       "      <td>-0.120</td>\n",
       "    </tr>\n",
       "    <tr>\n",
       "      <th>BMI</th>\n",
       "      <td>0.119</td>\n",
       "      <td>0.556</td>\n",
       "      <td>-0.351</td>\n",
       "      <td>-0.221</td>\n",
       "      <td>0.194</td>\n",
       "      <td>0.273</td>\n",
       "      <td>0.133</td>\n",
       "      <td>-0.170</td>\n",
       "      <td>1.000</td>\n",
       "      <td>-0.231</td>\n",
       "      <td>0.252</td>\n",
       "      <td>0.171</td>\n",
       "      <td>0.251</td>\n",
       "      <td>-0.227</td>\n",
       "      <td>0.339</td>\n",
       "      <td>-0.070</td>\n",
       "      <td>-0.508</td>\n",
       "      <td>-0.517</td>\n",
       "      <td>0.477</td>\n",
       "      <td>0.527</td>\n",
       "    </tr>\n",
       "    <tr>\n",
       "      <th>under-five deaths</th>\n",
       "      <td>-0.048</td>\n",
       "      <td>-0.195</td>\n",
       "      <td>0.062</td>\n",
       "      <td>0.997</td>\n",
       "      <td>-0.058</td>\n",
       "      <td>-0.088</td>\n",
       "      <td>-0.235</td>\n",
       "      <td>0.506</td>\n",
       "      <td>-0.231</td>\n",
       "      <td>1.000</td>\n",
       "      <td>-0.171</td>\n",
       "      <td>-0.123</td>\n",
       "      <td>-0.181</td>\n",
       "      <td>0.021</td>\n",
       "      <td>-0.102</td>\n",
       "      <td>0.546</td>\n",
       "      <td>0.462</td>\n",
       "      <td>0.467</td>\n",
       "      <td>-0.128</td>\n",
       "      <td>-0.186</td>\n",
       "    </tr>\n",
       "    <tr>\n",
       "      <th>Polio</th>\n",
       "      <td>0.101</td>\n",
       "      <td>0.437</td>\n",
       "      <td>-0.230</td>\n",
       "      <td>-0.153</td>\n",
       "      <td>0.128</td>\n",
       "      <td>0.128</td>\n",
       "      <td>0.496</td>\n",
       "      <td>-0.125</td>\n",
       "      <td>0.252</td>\n",
       "      <td>-0.171</td>\n",
       "      <td>1.000</td>\n",
       "      <td>0.104</td>\n",
       "      <td>0.661</td>\n",
       "      <td>-0.134</td>\n",
       "      <td>0.188</td>\n",
       "      <td>-0.030</td>\n",
       "      <td>-0.160</td>\n",
       "      <td>-0.162</td>\n",
       "      <td>0.332</td>\n",
       "      <td>0.394</td>\n",
       "    </tr>\n",
       "    <tr>\n",
       "      <th>Total expenditure</th>\n",
       "      <td>0.087</td>\n",
       "      <td>0.094</td>\n",
       "      <td>-0.010</td>\n",
       "      <td>-0.122</td>\n",
       "      <td>0.199</td>\n",
       "      <td>0.063</td>\n",
       "      <td>0.046</td>\n",
       "      <td>-0.102</td>\n",
       "      <td>0.171</td>\n",
       "      <td>-0.123</td>\n",
       "      <td>0.104</td>\n",
       "      <td>1.000</td>\n",
       "      <td>0.113</td>\n",
       "      <td>0.055</td>\n",
       "      <td>-0.042</td>\n",
       "      <td>-0.072</td>\n",
       "      <td>-0.207</td>\n",
       "      <td>-0.215</td>\n",
       "      <td>0.045</td>\n",
       "      <td>0.122</td>\n",
       "    </tr>\n",
       "    <tr>\n",
       "      <th>Diphtheria</th>\n",
       "      <td>0.142</td>\n",
       "      <td>0.460</td>\n",
       "      <td>-0.233</td>\n",
       "      <td>-0.160</td>\n",
       "      <td>0.130</td>\n",
       "      <td>0.145</td>\n",
       "      <td>0.633</td>\n",
       "      <td>-0.133</td>\n",
       "      <td>0.251</td>\n",
       "      <td>-0.181</td>\n",
       "      <td>0.661</td>\n",
       "      <td>0.113</td>\n",
       "      <td>1.000</td>\n",
       "      <td>-0.141</td>\n",
       "      <td>0.186</td>\n",
       "      <td>-0.019</td>\n",
       "      <td>-0.173</td>\n",
       "      <td>-0.166</td>\n",
       "      <td>0.370</td>\n",
       "      <td>0.421</td>\n",
       "    </tr>\n",
       "    <tr>\n",
       "      <th>HIV/AIDS</th>\n",
       "      <td>-0.156</td>\n",
       "      <td>-0.571</td>\n",
       "      <td>0.516</td>\n",
       "      <td>0.009</td>\n",
       "      <td>0.055</td>\n",
       "      <td>-0.079</td>\n",
       "      <td>-0.106</td>\n",
       "      <td>0.020</td>\n",
       "      <td>-0.227</td>\n",
       "      <td>0.021</td>\n",
       "      <td>-0.134</td>\n",
       "      <td>0.055</td>\n",
       "      <td>-0.141</td>\n",
       "      <td>1.000</td>\n",
       "      <td>-0.114</td>\n",
       "      <td>-0.036</td>\n",
       "      <td>0.163</td>\n",
       "      <td>0.167</td>\n",
       "      <td>-0.210</td>\n",
       "      <td>-0.179</td>\n",
       "    </tr>\n",
       "    <tr>\n",
       "      <th>GDP</th>\n",
       "      <td>0.136</td>\n",
       "      <td>0.390</td>\n",
       "      <td>-0.234</td>\n",
       "      <td>-0.097</td>\n",
       "      <td>0.184</td>\n",
       "      <td>0.839</td>\n",
       "      <td>0.077</td>\n",
       "      <td>-0.076</td>\n",
       "      <td>0.339</td>\n",
       "      <td>-0.102</td>\n",
       "      <td>0.188</td>\n",
       "      <td>-0.042</td>\n",
       "      <td>0.186</td>\n",
       "      <td>-0.114</td>\n",
       "      <td>1.000</td>\n",
       "      <td>-0.015</td>\n",
       "      <td>-0.185</td>\n",
       "      <td>-0.193</td>\n",
       "      <td>0.397</td>\n",
       "      <td>0.379</td>\n",
       "    </tr>\n",
       "    <tr>\n",
       "      <th>Population</th>\n",
       "      <td>0.019</td>\n",
       "      <td>0.000</td>\n",
       "      <td>-0.030</td>\n",
       "      <td>0.559</td>\n",
       "      <td>-0.008</td>\n",
       "      <td>-0.012</td>\n",
       "      <td>-0.124</td>\n",
       "      <td>0.266</td>\n",
       "      <td>-0.070</td>\n",
       "      <td>0.546</td>\n",
       "      <td>-0.030</td>\n",
       "      <td>-0.072</td>\n",
       "      <td>-0.019</td>\n",
       "      <td>-0.036</td>\n",
       "      <td>-0.015</td>\n",
       "      <td>1.000</td>\n",
       "      <td>0.258</td>\n",
       "      <td>0.255</td>\n",
       "      <td>0.017</td>\n",
       "      <td>-0.010</td>\n",
       "    </tr>\n",
       "    <tr>\n",
       "      <th>thinness  1-19 years</th>\n",
       "      <td>-0.054</td>\n",
       "      <td>-0.367</td>\n",
       "      <td>0.209</td>\n",
       "      <td>0.461</td>\n",
       "      <td>-0.300</td>\n",
       "      <td>-0.189</td>\n",
       "      <td>-0.099</td>\n",
       "      <td>0.213</td>\n",
       "      <td>-0.508</td>\n",
       "      <td>0.462</td>\n",
       "      <td>-0.160</td>\n",
       "      <td>-0.207</td>\n",
       "      <td>-0.173</td>\n",
       "      <td>0.163</td>\n",
       "      <td>-0.185</td>\n",
       "      <td>0.258</td>\n",
       "      <td>1.000</td>\n",
       "      <td>0.929</td>\n",
       "      <td>-0.304</td>\n",
       "      <td>-0.363</td>\n",
       "    </tr>\n",
       "    <tr>\n",
       "      <th>thinness 5-9 years</th>\n",
       "      <td>-0.058</td>\n",
       "      <td>-0.360</td>\n",
       "      <td>0.216</td>\n",
       "      <td>0.467</td>\n",
       "      <td>-0.286</td>\n",
       "      <td>-0.191</td>\n",
       "      <td>-0.104</td>\n",
       "      <td>0.209</td>\n",
       "      <td>-0.517</td>\n",
       "      <td>0.467</td>\n",
       "      <td>-0.162</td>\n",
       "      <td>-0.215</td>\n",
       "      <td>-0.166</td>\n",
       "      <td>0.167</td>\n",
       "      <td>-0.193</td>\n",
       "      <td>0.255</td>\n",
       "      <td>0.929</td>\n",
       "      <td>1.000</td>\n",
       "      <td>-0.290</td>\n",
       "      <td>-0.349</td>\n",
       "    </tr>\n",
       "    <tr>\n",
       "      <th>Income composition of resources</th>\n",
       "      <td>0.286</td>\n",
       "      <td>0.644</td>\n",
       "      <td>-0.374</td>\n",
       "      <td>-0.108</td>\n",
       "      <td>0.264</td>\n",
       "      <td>0.335</td>\n",
       "      <td>0.186</td>\n",
       "      <td>-0.110</td>\n",
       "      <td>0.477</td>\n",
       "      <td>-0.128</td>\n",
       "      <td>0.332</td>\n",
       "      <td>0.045</td>\n",
       "      <td>0.370</td>\n",
       "      <td>-0.210</td>\n",
       "      <td>0.397</td>\n",
       "      <td>0.017</td>\n",
       "      <td>-0.304</td>\n",
       "      <td>-0.290</td>\n",
       "      <td>1.000</td>\n",
       "      <td>0.745</td>\n",
       "    </tr>\n",
       "    <tr>\n",
       "      <th>Schooling</th>\n",
       "      <td>0.247</td>\n",
       "      <td>0.688</td>\n",
       "      <td>-0.374</td>\n",
       "      <td>-0.168</td>\n",
       "      <td>0.387</td>\n",
       "      <td>0.335</td>\n",
       "      <td>0.243</td>\n",
       "      <td>-0.120</td>\n",
       "      <td>0.527</td>\n",
       "      <td>-0.186</td>\n",
       "      <td>0.394</td>\n",
       "      <td>0.122</td>\n",
       "      <td>0.421</td>\n",
       "      <td>-0.179</td>\n",
       "      <td>0.379</td>\n",
       "      <td>-0.010</td>\n",
       "      <td>-0.363</td>\n",
       "      <td>-0.349</td>\n",
       "      <td>0.745</td>\n",
       "      <td>1.000</td>\n",
       "    </tr>\n",
       "  </tbody>\n",
       "</table>\n",
       "</div>"
      ],
      "text/plain": [
       "                                             Year  Life expectancy   \\\n",
       "Status                                                                \n",
       "Developed  Year                             1.000             0.333   \n",
       "           Life expectancy                  0.333             1.000   \n",
       "           Adult Mortality                 -0.146            -0.485   \n",
       "           infant deaths                   -0.041            -0.055   \n",
       "           Alcohol                         -0.128            -0.288   \n",
       "           percentage expenditure           0.030             0.350   \n",
       "           Hepatitis B                      0.126            -0.086   \n",
       "           Measles                         -0.088             0.038   \n",
       "            BMI                             0.098            -0.044   \n",
       "           under-five deaths               -0.039            -0.048   \n",
       "           Polio                            0.090             0.018   \n",
       "           Total expenditure                0.132             0.072   \n",
       "           Diphtheria                       0.138            -0.020   \n",
       "            HIV/AIDS                          NaN               NaN   \n",
       "           GDP                              0.117             0.353   \n",
       "           Population                      -0.009             0.080   \n",
       "            thinness  1-19 years           -0.086            -0.588   \n",
       "            thinness 5-9 years             -0.089            -0.597   \n",
       "           Income composition of resources  0.385             0.724   \n",
       "           Schooling                        0.259             0.395   \n",
       "Developing Year                             1.000             0.187   \n",
       "           Life expectancy                  0.187             1.000   \n",
       "           Adult Mortality                 -0.081            -0.661   \n",
       "           infant deaths                   -0.041            -0.166   \n",
       "           Alcohol                         -0.058             0.203   \n",
       "           percentage expenditure           0.063             0.344   \n",
       "           Hepatitis B                      0.107             0.254   \n",
       "           Measles                         -0.088            -0.142   \n",
       "            BMI                             0.119             0.556   \n",
       "           under-five deaths               -0.048            -0.195   \n",
       "           Polio                            0.101             0.437   \n",
       "           Total expenditure                0.087             0.094   \n",
       "           Diphtheria                       0.142             0.460   \n",
       "            HIV/AIDS                       -0.156            -0.571   \n",
       "           GDP                              0.136             0.390   \n",
       "           Population                       0.019             0.000   \n",
       "            thinness  1-19 years           -0.054            -0.367   \n",
       "            thinness 5-9 years             -0.058            -0.360   \n",
       "           Income composition of resources  0.286             0.644   \n",
       "           Schooling                        0.247             0.688   \n",
       "\n",
       "                                            Adult Mortality  infant deaths  \\\n",
       "Status                                                                       \n",
       "Developed  Year                                      -0.146         -0.041   \n",
       "           Life expectancy                           -0.485         -0.055   \n",
       "           Adult Mortality                            1.000         -0.048   \n",
       "           infant deaths                             -0.048          1.000   \n",
       "           Alcohol                                    0.136         -0.078   \n",
       "           percentage expenditure                    -0.204         -0.151   \n",
       "           Hepatitis B                                0.118         -0.072   \n",
       "           Measles                                   -0.036          0.051   \n",
       "            BMI                                      -0.010          0.048   \n",
       "           under-five deaths                         -0.049          0.998   \n",
       "           Polio                                      0.023         -0.188   \n",
       "           Total expenditure                         -0.155          0.463   \n",
       "           Diphtheria                                 0.010          0.035   \n",
       "            HIV/AIDS                                    NaN            NaN   \n",
       "           GDP                                       -0.250         -0.122   \n",
       "           Population                                -0.040          0.429   \n",
       "            thinness  1-19 years                      0.472         -0.107   \n",
       "            thinness 5-9 years                        0.481         -0.119   \n",
       "           Income composition of resources           -0.481         -0.163   \n",
       "           Schooling                                 -0.243         -0.096   \n",
       "Developing Year                                      -0.081         -0.041   \n",
       "           Life expectancy                           -0.661         -0.166   \n",
       "           Adult Mortality                            1.000          0.047   \n",
       "           infant deaths                              0.047          1.000   \n",
       "           Alcohol                                   -0.022         -0.065   \n",
       "           percentage expenditure                    -0.203         -0.085   \n",
       "           Hepatitis B                               -0.153         -0.225   \n",
       "           Measles                                    0.008          0.499   \n",
       "            BMI                                      -0.351         -0.221   \n",
       "           under-five deaths                          0.062          0.997   \n",
       "           Polio                                     -0.230         -0.153   \n",
       "           Total expenditure                         -0.010         -0.122   \n",
       "           Diphtheria                                -0.233         -0.160   \n",
       "            HIV/AIDS                                  0.516          0.009   \n",
       "           GDP                                       -0.234         -0.097   \n",
       "           Population                                -0.030          0.559   \n",
       "            thinness  1-19 years                      0.209          0.461   \n",
       "            thinness 5-9 years                        0.216          0.467   \n",
       "           Income composition of resources           -0.374         -0.108   \n",
       "           Schooling                                 -0.374         -0.168   \n",
       "\n",
       "                                            Alcohol  percentage expenditure  \\\n",
       "Status                                                                        \n",
       "Developed  Year                              -0.128                   0.030   \n",
       "           Life expectancy                   -0.288                   0.350   \n",
       "           Adult Mortality                    0.136                  -0.204   \n",
       "           infant deaths                     -0.078                  -0.151   \n",
       "           Alcohol                            1.000                  -0.012   \n",
       "           percentage expenditure            -0.012                   1.000   \n",
       "           Hepatitis B                       -0.029                  -0.073   \n",
       "           Measles                           -0.058                   0.050   \n",
       "            BMI                               0.145                  -0.018   \n",
       "           under-five deaths                 -0.077                  -0.153   \n",
       "           Polio                             -0.020                   0.000   \n",
       "           Total expenditure                 -0.021                   0.035   \n",
       "           Diphtheria                         0.003                  -0.045   \n",
       "            HIV/AIDS                            NaN                     NaN   \n",
       "           GDP                               -0.046                   0.913   \n",
       "           Population                         0.027                   0.017   \n",
       "            thinness  1-19 years              0.003                  -0.291   \n",
       "            thinness 5-9 years                0.023                  -0.291   \n",
       "           Income composition of resources   -0.208                   0.464   \n",
       "           Schooling                         -0.003                   0.195   \n",
       "Developing Year                              -0.058                   0.063   \n",
       "           Life expectancy                    0.203                   0.344   \n",
       "           Adult Mortality                   -0.022                  -0.203   \n",
       "           infant deaths                     -0.065                  -0.085   \n",
       "           Alcohol                            1.000                   0.223   \n",
       "           percentage expenditure             0.223                   1.000   \n",
       "           Hepatitis B                        0.033                  -0.026   \n",
       "           Measles                           -0.005                  -0.066   \n",
       "            BMI                               0.194                   0.273   \n",
       "           under-five deaths                 -0.058                  -0.088   \n",
       "           Polio                              0.128                   0.128   \n",
       "           Total expenditure                  0.199                   0.063   \n",
       "           Diphtheria                         0.130                   0.145   \n",
       "            HIV/AIDS                          0.055                  -0.079   \n",
       "           GDP                                0.184                   0.839   \n",
       "           Population                        -0.008                  -0.012   \n",
       "            thinness  1-19 years             -0.300                  -0.189   \n",
       "            thinness 5-9 years               -0.286                  -0.191   \n",
       "           Income composition of resources    0.264                   0.335   \n",
       "           Schooling                          0.387                   0.335   \n",
       "\n",
       "                                            Hepatitis B  Measles    BMI   \\\n",
       "Status                                                                     \n",
       "Developed  Year                                   0.126    -0.088  0.098   \n",
       "           Life expectancy                       -0.086     0.038 -0.044   \n",
       "           Adult Mortality                        0.118    -0.036 -0.010   \n",
       "           infant deaths                         -0.072     0.051  0.048   \n",
       "           Alcohol                               -0.029    -0.058  0.145   \n",
       "           percentage expenditure                -0.073     0.050 -0.018   \n",
       "           Hepatitis B                            1.000     0.036  0.071   \n",
       "           Measles                                0.036     1.000 -0.102   \n",
       "            BMI                                   0.071    -0.102  1.000   \n",
       "           under-five deaths                     -0.067     0.064  0.044   \n",
       "           Polio                                  0.213    -0.008  0.059   \n",
       "           Total expenditure                     -0.045    -0.018  0.152   \n",
       "           Diphtheria                             0.244     0.009  0.072   \n",
       "            HIV/AIDS                                NaN       NaN    NaN   \n",
       "           GDP                                   -0.039     0.034 -0.039   \n",
       "           Population                            -0.070     0.066  0.108   \n",
       "            thinness  1-19 years                  0.195     0.044 -0.131   \n",
       "            thinness 5-9 years                    0.194     0.018 -0.103   \n",
       "           Income composition of resources       -0.189    -0.017 -0.012   \n",
       "           Schooling                             -0.226    -0.078  0.120   \n",
       "Developing Year                                   0.107    -0.088  0.119   \n",
       "           Life expectancy                        0.254    -0.142  0.556   \n",
       "           Adult Mortality                       -0.153     0.008 -0.351   \n",
       "           infant deaths                         -0.225     0.499 -0.221   \n",
       "           Alcohol                                0.033    -0.005  0.194   \n",
       "           percentage expenditure                -0.026    -0.066  0.273   \n",
       "           Hepatitis B                            1.000    -0.121  0.133   \n",
       "           Measles                               -0.121     1.000 -0.170   \n",
       "            BMI                                   0.133    -0.170  1.000   \n",
       "           under-five deaths                     -0.235     0.506 -0.231   \n",
       "           Polio                                  0.496    -0.125  0.252   \n",
       "           Total expenditure                      0.046    -0.102  0.171   \n",
       "           Diphtheria                             0.633    -0.133  0.251   \n",
       "            HIV/AIDS                             -0.106     0.020 -0.227   \n",
       "           GDP                                    0.077    -0.076  0.339   \n",
       "           Population                            -0.124     0.266 -0.070   \n",
       "            thinness  1-19 years                 -0.099     0.213 -0.508   \n",
       "            thinness 5-9 years                   -0.104     0.209 -0.517   \n",
       "           Income composition of resources        0.186    -0.110  0.477   \n",
       "           Schooling                              0.243    -0.120  0.527   \n",
       "\n",
       "                                            under-five deaths   Polio  \\\n",
       "Status                                                                  \n",
       "Developed  Year                                         -0.039  0.090   \n",
       "           Life expectancy                              -0.048  0.018   \n",
       "           Adult Mortality                              -0.049  0.023   \n",
       "           infant deaths                                 0.998 -0.188   \n",
       "           Alcohol                                      -0.077 -0.020   \n",
       "           percentage expenditure                       -0.153  0.000   \n",
       "           Hepatitis B                                  -0.067  0.213   \n",
       "           Measles                                       0.064 -0.008   \n",
       "            BMI                                          0.044  0.059   \n",
       "           under-five deaths                             1.000 -0.187   \n",
       "           Polio                                        -0.187  1.000   \n",
       "           Total expenditure                             0.459 -0.089   \n",
       "           Diphtheria                                    0.035  0.584   \n",
       "            HIV/AIDS                                       NaN    NaN   \n",
       "           GDP                                          -0.141  0.019   \n",
       "           Population                                    0.386  0.060   \n",
       "            thinness  1-19 years                        -0.107  0.088   \n",
       "            thinness 5-9 years                          -0.120  0.090   \n",
       "           Income composition of resources              -0.136 -0.089   \n",
       "           Schooling                                    -0.084 -0.209   \n",
       "Developing Year                                         -0.048  0.101   \n",
       "           Life expectancy                              -0.195  0.437   \n",
       "           Adult Mortality                               0.062 -0.230   \n",
       "           infant deaths                                 0.997 -0.153   \n",
       "           Alcohol                                      -0.058  0.128   \n",
       "           percentage expenditure                       -0.088  0.128   \n",
       "           Hepatitis B                                  -0.235  0.496   \n",
       "           Measles                                       0.506 -0.125   \n",
       "            BMI                                         -0.231  0.252   \n",
       "           under-five deaths                             1.000 -0.171   \n",
       "           Polio                                        -0.171  1.000   \n",
       "           Total expenditure                            -0.123  0.104   \n",
       "           Diphtheria                                   -0.181  0.661   \n",
       "            HIV/AIDS                                     0.021 -0.134   \n",
       "           GDP                                          -0.102  0.188   \n",
       "           Population                                    0.546 -0.030   \n",
       "            thinness  1-19 years                         0.462 -0.160   \n",
       "            thinness 5-9 years                           0.467 -0.162   \n",
       "           Income composition of resources              -0.128  0.332   \n",
       "           Schooling                                    -0.186  0.394   \n",
       "\n",
       "                                            Total expenditure  Diphtheria   \\\n",
       "Status                                                                       \n",
       "Developed  Year                                         0.132        0.138   \n",
       "           Life expectancy                              0.072       -0.020   \n",
       "           Adult Mortality                             -0.155        0.010   \n",
       "           infant deaths                                0.463        0.035   \n",
       "           Alcohol                                     -0.021        0.003   \n",
       "           percentage expenditure                       0.035       -0.045   \n",
       "           Hepatitis B                                 -0.045        0.244   \n",
       "           Measles                                     -0.018        0.009   \n",
       "            BMI                                         0.152        0.072   \n",
       "           under-five deaths                            0.459        0.035   \n",
       "           Polio                                       -0.089        0.584   \n",
       "           Total expenditure                            1.000        0.014   \n",
       "           Diphtheria                                   0.014        1.000   \n",
       "            HIV/AIDS                                      NaN          NaN   \n",
       "           GDP                                          0.089        0.006   \n",
       "           Population                                  -0.156        0.050   \n",
       "            thinness  1-19 years                       -0.311        0.168   \n",
       "            thinness 5-9 years                         -0.318        0.158   \n",
       "           Income composition of resources              0.162       -0.117   \n",
       "           Schooling                                    0.261       -0.214   \n",
       "Developing Year                                         0.087        0.142   \n",
       "           Life expectancy                              0.094        0.460   \n",
       "           Adult Mortality                             -0.010       -0.233   \n",
       "           infant deaths                               -0.122       -0.160   \n",
       "           Alcohol                                      0.199        0.130   \n",
       "           percentage expenditure                       0.063        0.145   \n",
       "           Hepatitis B                                  0.046        0.633   \n",
       "           Measles                                     -0.102       -0.133   \n",
       "            BMI                                         0.171        0.251   \n",
       "           under-five deaths                           -0.123       -0.181   \n",
       "           Polio                                        0.104        0.661   \n",
       "           Total expenditure                            1.000        0.113   \n",
       "           Diphtheria                                   0.113        1.000   \n",
       "            HIV/AIDS                                    0.055       -0.141   \n",
       "           GDP                                         -0.042        0.186   \n",
       "           Population                                  -0.072       -0.019   \n",
       "            thinness  1-19 years                       -0.207       -0.173   \n",
       "            thinness 5-9 years                         -0.215       -0.166   \n",
       "           Income composition of resources              0.045        0.370   \n",
       "           Schooling                                    0.122        0.421   \n",
       "\n",
       "                                             HIV/AIDS    GDP  Population  \\\n",
       "Status                                                                     \n",
       "Developed  Year                                   NaN  0.117      -0.009   \n",
       "           Life expectancy                        NaN  0.353       0.080   \n",
       "           Adult Mortality                        NaN -0.250      -0.040   \n",
       "           infant deaths                          NaN -0.122       0.429   \n",
       "           Alcohol                                NaN -0.046       0.027   \n",
       "           percentage expenditure                 NaN  0.913       0.017   \n",
       "           Hepatitis B                            NaN -0.039      -0.070   \n",
       "           Measles                                NaN  0.034       0.066   \n",
       "            BMI                                   NaN -0.039       0.108   \n",
       "           under-five deaths                      NaN -0.141       0.386   \n",
       "           Polio                                  NaN  0.019       0.060   \n",
       "           Total expenditure                      NaN  0.089      -0.156   \n",
       "           Diphtheria                             NaN  0.006       0.050   \n",
       "            HIV/AIDS                              NaN    NaN         NaN   \n",
       "           GDP                                    NaN  1.000       0.036   \n",
       "           Population                             NaN  0.036       1.000   \n",
       "            thinness  1-19 years                  NaN -0.303      -0.093   \n",
       "            thinness 5-9 years                    NaN -0.308      -0.073   \n",
       "           Income composition of resources        NaN  0.488       0.061   \n",
       "           Schooling                              NaN  0.157       0.063   \n",
       "Developing Year                                -0.156  0.136       0.019   \n",
       "           Life expectancy                     -0.571  0.390       0.000   \n",
       "           Adult Mortality                      0.516 -0.234      -0.030   \n",
       "           infant deaths                        0.009 -0.097       0.559   \n",
       "           Alcohol                              0.055  0.184      -0.008   \n",
       "           percentage expenditure              -0.079  0.839      -0.012   \n",
       "           Hepatitis B                         -0.106  0.077      -0.124   \n",
       "           Measles                              0.020 -0.076       0.266   \n",
       "            BMI                                -0.227  0.339      -0.070   \n",
       "           under-five deaths                    0.021 -0.102       0.546   \n",
       "           Polio                               -0.134  0.188      -0.030   \n",
       "           Total expenditure                    0.055 -0.042      -0.072   \n",
       "           Diphtheria                          -0.141  0.186      -0.019   \n",
       "            HIV/AIDS                            1.000 -0.114      -0.036   \n",
       "           GDP                                 -0.114  1.000      -0.015   \n",
       "           Population                          -0.036 -0.015       1.000   \n",
       "            thinness  1-19 years                0.163 -0.185       0.258   \n",
       "            thinness 5-9 years                  0.167 -0.193       0.255   \n",
       "           Income composition of resources     -0.210  0.397       0.017   \n",
       "           Schooling                           -0.179  0.379      -0.010   \n",
       "\n",
       "                                             thinness  1-19 years  \\\n",
       "Status                                                              \n",
       "Developed  Year                                            -0.086   \n",
       "           Life expectancy                                 -0.588   \n",
       "           Adult Mortality                                  0.472   \n",
       "           infant deaths                                   -0.107   \n",
       "           Alcohol                                          0.003   \n",
       "           percentage expenditure                          -0.291   \n",
       "           Hepatitis B                                      0.195   \n",
       "           Measles                                          0.044   \n",
       "            BMI                                            -0.131   \n",
       "           under-five deaths                               -0.107   \n",
       "           Polio                                            0.088   \n",
       "           Total expenditure                               -0.311   \n",
       "           Diphtheria                                       0.168   \n",
       "            HIV/AIDS                                          NaN   \n",
       "           GDP                                             -0.303   \n",
       "           Population                                      -0.093   \n",
       "            thinness  1-19 years                            1.000   \n",
       "            thinness 5-9 years                              0.990   \n",
       "           Income composition of resources                 -0.610   \n",
       "           Schooling                                       -0.468   \n",
       "Developing Year                                            -0.054   \n",
       "           Life expectancy                                 -0.367   \n",
       "           Adult Mortality                                  0.209   \n",
       "           infant deaths                                    0.461   \n",
       "           Alcohol                                         -0.300   \n",
       "           percentage expenditure                          -0.189   \n",
       "           Hepatitis B                                     -0.099   \n",
       "           Measles                                          0.213   \n",
       "            BMI                                            -0.508   \n",
       "           under-five deaths                                0.462   \n",
       "           Polio                                           -0.160   \n",
       "           Total expenditure                               -0.207   \n",
       "           Diphtheria                                      -0.173   \n",
       "            HIV/AIDS                                        0.163   \n",
       "           GDP                                             -0.185   \n",
       "           Population                                       0.258   \n",
       "            thinness  1-19 years                            1.000   \n",
       "            thinness 5-9 years                              0.929   \n",
       "           Income composition of resources                 -0.304   \n",
       "           Schooling                                       -0.363   \n",
       "\n",
       "                                             thinness 5-9 years  \\\n",
       "Status                                                            \n",
       "Developed  Year                                          -0.089   \n",
       "           Life expectancy                               -0.597   \n",
       "           Adult Mortality                                0.481   \n",
       "           infant deaths                                 -0.119   \n",
       "           Alcohol                                        0.023   \n",
       "           percentage expenditure                        -0.291   \n",
       "           Hepatitis B                                    0.194   \n",
       "           Measles                                        0.018   \n",
       "            BMI                                          -0.103   \n",
       "           under-five deaths                             -0.120   \n",
       "           Polio                                          0.090   \n",
       "           Total expenditure                             -0.318   \n",
       "           Diphtheria                                     0.158   \n",
       "            HIV/AIDS                                        NaN   \n",
       "           GDP                                           -0.308   \n",
       "           Population                                    -0.073   \n",
       "            thinness  1-19 years                          0.990   \n",
       "            thinness 5-9 years                            1.000   \n",
       "           Income composition of resources               -0.626   \n",
       "           Schooling                                     -0.473   \n",
       "Developing Year                                          -0.058   \n",
       "           Life expectancy                               -0.360   \n",
       "           Adult Mortality                                0.216   \n",
       "           infant deaths                                  0.467   \n",
       "           Alcohol                                       -0.286   \n",
       "           percentage expenditure                        -0.191   \n",
       "           Hepatitis B                                   -0.104   \n",
       "           Measles                                        0.209   \n",
       "            BMI                                          -0.517   \n",
       "           under-five deaths                              0.467   \n",
       "           Polio                                         -0.162   \n",
       "           Total expenditure                             -0.215   \n",
       "           Diphtheria                                    -0.166   \n",
       "            HIV/AIDS                                      0.167   \n",
       "           GDP                                           -0.193   \n",
       "           Population                                     0.255   \n",
       "            thinness  1-19 years                          0.929   \n",
       "            thinness 5-9 years                            1.000   \n",
       "           Income composition of resources               -0.290   \n",
       "           Schooling                                     -0.349   \n",
       "\n",
       "                                            Income composition of resources  \\\n",
       "Status                                                                        \n",
       "Developed  Year                                                       0.385   \n",
       "           Life expectancy                                            0.724   \n",
       "           Adult Mortality                                           -0.481   \n",
       "           infant deaths                                             -0.163   \n",
       "           Alcohol                                                   -0.208   \n",
       "           percentage expenditure                                     0.464   \n",
       "           Hepatitis B                                               -0.189   \n",
       "           Measles                                                   -0.017   \n",
       "            BMI                                                      -0.012   \n",
       "           under-five deaths                                         -0.136   \n",
       "           Polio                                                     -0.089   \n",
       "           Total expenditure                                          0.162   \n",
       "           Diphtheria                                                -0.117   \n",
       "            HIV/AIDS                                                    NaN   \n",
       "           GDP                                                        0.488   \n",
       "           Population                                                 0.061   \n",
       "            thinness  1-19 years                                     -0.610   \n",
       "            thinness 5-9 years                                       -0.626   \n",
       "           Income composition of resources                            1.000   \n",
       "           Schooling                                                  0.676   \n",
       "Developing Year                                                       0.286   \n",
       "           Life expectancy                                            0.644   \n",
       "           Adult Mortality                                           -0.374   \n",
       "           infant deaths                                             -0.108   \n",
       "           Alcohol                                                    0.264   \n",
       "           percentage expenditure                                     0.335   \n",
       "           Hepatitis B                                                0.186   \n",
       "           Measles                                                   -0.110   \n",
       "            BMI                                                       0.477   \n",
       "           under-five deaths                                         -0.128   \n",
       "           Polio                                                      0.332   \n",
       "           Total expenditure                                          0.045   \n",
       "           Diphtheria                                                 0.370   \n",
       "            HIV/AIDS                                                 -0.210   \n",
       "           GDP                                                        0.397   \n",
       "           Population                                                 0.017   \n",
       "            thinness  1-19 years                                     -0.304   \n",
       "            thinness 5-9 years                                       -0.290   \n",
       "           Income composition of resources                            1.000   \n",
       "           Schooling                                                  0.745   \n",
       "\n",
       "                                            Schooling  \n",
       "Status                                                 \n",
       "Developed  Year                                 0.259  \n",
       "           Life expectancy                      0.395  \n",
       "           Adult Mortality                     -0.243  \n",
       "           infant deaths                       -0.096  \n",
       "           Alcohol                             -0.003  \n",
       "           percentage expenditure               0.195  \n",
       "           Hepatitis B                         -0.226  \n",
       "           Measles                             -0.078  \n",
       "            BMI                                 0.120  \n",
       "           under-five deaths                   -0.084  \n",
       "           Polio                               -0.209  \n",
       "           Total expenditure                    0.261  \n",
       "           Diphtheria                          -0.214  \n",
       "            HIV/AIDS                              NaN  \n",
       "           GDP                                  0.157  \n",
       "           Population                           0.063  \n",
       "            thinness  1-19 years               -0.468  \n",
       "            thinness 5-9 years                 -0.473  \n",
       "           Income composition of resources      0.676  \n",
       "           Schooling                            1.000  \n",
       "Developing Year                                 0.247  \n",
       "           Life expectancy                      0.688  \n",
       "           Adult Mortality                     -0.374  \n",
       "           infant deaths                       -0.168  \n",
       "           Alcohol                              0.387  \n",
       "           percentage expenditure               0.335  \n",
       "           Hepatitis B                          0.243  \n",
       "           Measles                             -0.120  \n",
       "            BMI                                 0.527  \n",
       "           under-five deaths                   -0.186  \n",
       "           Polio                                0.394  \n",
       "           Total expenditure                    0.122  \n",
       "           Diphtheria                           0.421  \n",
       "            HIV/AIDS                           -0.179  \n",
       "           GDP                                  0.379  \n",
       "           Population                          -0.010  \n",
       "            thinness  1-19 years               -0.363  \n",
       "            thinness 5-9 years                 -0.349  \n",
       "           Income composition of resources      0.745  \n",
       "           Schooling                            1.000  "
      ]
     },
     "execution_count": 163,
     "metadata": {},
     "output_type": "execute_result"
    }
   ],
   "source": [
    "df.groupby('Status').corr().round(3)"
   ]
  },
  {
   "cell_type": "code",
   "execution_count": 170,
   "id": "09751dc4",
   "metadata": {},
   "outputs": [
    {
     "data": {
      "text/html": [
       "<div>\n",
       "<style scoped>\n",
       "    .dataframe tbody tr th:only-of-type {\n",
       "        vertical-align: middle;\n",
       "    }\n",
       "\n",
       "    .dataframe tbody tr th {\n",
       "        vertical-align: top;\n",
       "    }\n",
       "\n",
       "    .dataframe thead th {\n",
       "        text-align: right;\n",
       "    }\n",
       "</style>\n",
       "<table border=\"1\" class=\"dataframe\">\n",
       "  <thead>\n",
       "    <tr style=\"text-align: right;\">\n",
       "      <th></th>\n",
       "      <th>Life expectancy</th>\n",
       "      <th>Income composition of resources</th>\n",
       "      <th>Schooling</th>\n",
       "    </tr>\n",
       "  </thead>\n",
       "  <tbody>\n",
       "    <tr>\n",
       "      <th>Life expectancy</th>\n",
       "      <td>1.000</td>\n",
       "      <td>0.725</td>\n",
       "      <td>0.752</td>\n",
       "    </tr>\n",
       "    <tr>\n",
       "      <th>Income composition of resources</th>\n",
       "      <td>0.725</td>\n",
       "      <td>1.000</td>\n",
       "      <td>0.800</td>\n",
       "    </tr>\n",
       "    <tr>\n",
       "      <th>Schooling</th>\n",
       "      <td>0.752</td>\n",
       "      <td>0.800</td>\n",
       "      <td>1.000</td>\n",
       "    </tr>\n",
       "  </tbody>\n",
       "</table>\n",
       "</div>"
      ],
      "text/plain": [
       "                                 Life expectancy   \\\n",
       "Life expectancy                             1.000   \n",
       "Income composition of resources             0.725   \n",
       "Schooling                                   0.752   \n",
       "\n",
       "                                 Income composition of resources  Schooling  \n",
       "Life expectancy                                            0.725      0.752  \n",
       "Income composition of resources                            1.000      0.800  \n",
       "Schooling                                                  0.800      1.000  "
      ]
     },
     "execution_count": 170,
     "metadata": {},
     "output_type": "execute_result"
    }
   ],
   "source": [
    "df[['Life expectancy ', 'Income composition of resources', 'Schooling']].corr().round(3)"
   ]
  },
  {
   "cell_type": "code",
   "execution_count": 171,
   "id": "b43f1224",
   "metadata": {},
   "outputs": [],
   "source": [
    "cormat = df[['Life expectancy ', 'Income composition of resources', 'Schooling']].corr().round(3)"
   ]
  },
  {
   "cell_type": "code",
   "execution_count": 172,
   "id": "7f3afab6",
   "metadata": {},
   "outputs": [],
   "source": [
    "import seaborn as sns"
   ]
  },
  {
   "cell_type": "code",
   "execution_count": 173,
   "id": "c4b28d9a",
   "metadata": {},
   "outputs": [
    {
     "data": {
      "text/plain": [
       "<AxesSubplot:>"
      ]
     },
     "execution_count": 173,
     "metadata": {},
     "output_type": "execute_result"
    },
    {
     "data": {
      "image/png": "[encoded data removed]",
      "text/plain": [
       "<Figure size 432x288 with 2 Axes>"
      ]
     },
     "metadata": {
      "needs_background": "light"
     },
     "output_type": "display_data"
    }
   ],
   "source": [
    "sns.heatmap(cormat, annot=True)"
   ]
  },
  {
   "cell_type": "code",
   "execution_count": 176,
   "id": "169b8413",
   "metadata": {},
   "outputs": [
    {
     "data": {
      "text/html": [
       "<div>\n",
       "<style scoped>\n",
       "    .dataframe tbody tr th:only-of-type {\n",
       "        vertical-align: middle;\n",
       "    }\n",
       "\n",
       "    .dataframe tbody tr th {\n",
       "        vertical-align: top;\n",
       "    }\n",
       "\n",
       "    .dataframe thead th {\n",
       "        text-align: right;\n",
       "    }\n",
       "</style>\n",
       "<table border=\"1\" class=\"dataframe\">\n",
       "  <thead>\n",
       "    <tr style=\"text-align: right;\">\n",
       "      <th></th>\n",
       "      <th>Life expectancy</th>\n",
       "      <th>GDP</th>\n",
       "    </tr>\n",
       "  </thead>\n",
       "  <tbody>\n",
       "    <tr>\n",
       "      <th>Life expectancy</th>\n",
       "      <td>1.000</td>\n",
       "      <td>0.461</td>\n",
       "    </tr>\n",
       "    <tr>\n",
       "      <th>GDP</th>\n",
       "      <td>0.461</td>\n",
       "      <td>1.000</td>\n",
       "    </tr>\n",
       "  </tbody>\n",
       "</table>\n",
       "</div>"
      ],
      "text/plain": [
       "                  Life expectancy     GDP\n",
       "Life expectancy              1.000  0.461\n",
       "GDP                          0.461  1.000"
      ]
     },
     "execution_count": 176,
     "metadata": {},
     "output_type": "execute_result"
    }
   ],
   "source": [
    "df[['Life expectancy ', 'GDP']].corr().round(3)"
   ]
  },
  {
   "cell_type": "code",
   "execution_count": 177,
   "id": "a1ba59f3",
   "metadata": {},
   "outputs": [],
   "source": [
    "import matplotlib.pyplot as plt"
   ]
  },
  {
   "cell_type": "code",
   "execution_count": 178,
   "id": "e0d9f842",
   "metadata": {},
   "outputs": [
    {
     "data": {
      "text/plain": [
       "<matplotlib.collections.PathCollection at 0x7f789d42bc10>"
      ]
     },
     "execution_count": 178,
     "metadata": {},
     "output_type": "execute_result"
    },
    {
     "data": {
      "image/png": "[encoded data removed]",
      "text/plain": [
       "<Figure size 432x288 with 1 Axes>"
      ]
     },
     "metadata": {
      "needs_background": "light"
     },
     "output_type": "display_data"
    }
   ],
   "source": [
    "plt.scatter(df['Life expectancy '],df['GDP'])"
   ]
  },
  {
   "cell_type": "code",
   "execution_count": null,
   "id": "b5944d76",
   "metadata": {},
   "outputs": [],
   "source": []
  }
 ],
 "metadata": {
  "kernelspec": {
   "display_name": "Python 3 (ipykernel)",
   "language": "python",
   "name": "python3"
  },
  "language_info": {
   "codemirror_mode": {
    "name": "ipython",
    "version": 3
   },
   "file_extension": ".py",
   "mimetype": "text/x-python",
   "name": "python",
   "nbconvert_exporter": "python",
   "pygments_lexer": "ipython3",
   "version": "3.9.7"
  }
 },
 "nbformat": 4,
 "nbformat_minor": 5
}
