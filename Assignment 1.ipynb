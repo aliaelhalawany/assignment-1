{
 "cells": [
  {
   "cell_type": "markdown",
   "id": "1498de21",
   "metadata": {},
   "source": [
    "# Assignment 1"
   ]
  },
  {
   "cell_type": "markdown",
   "id": "84dbf07d",
   "metadata": {},
   "source": [
    "### By: Alia ElHalawany and Malak Selim"
   ]
  },
  {
   "cell_type": "code",
   "execution_count": 2,
   "id": "cab5a12d",
   "metadata": {},
   "outputs": [],
   "source": [
    "import pandas as pd"
   ]
  },
  {
   "cell_type": "code",
   "execution_count": 3,
   "id": "441c5349",
   "metadata": {},
   "outputs": [],
   "source": [
    "df = pd.read_csv(\"Life Expectancy Data.csv\")"
   ]
  },
  {
   "cell_type": "code",
   "execution_count": 48,
   "id": "d1444a2a",
   "metadata": {
    "scrolled": true
   },
   "outputs": [
    {
     "data": {
      "text/html": [
       "<div>\n",
       "<style scoped>\n",
       "    .dataframe tbody tr th:only-of-type {\n",
       "        vertical-align: middle;\n",
       "    }\n",
       "\n",
       "    .dataframe tbody tr th {\n",
       "        vertical-align: top;\n",
       "    }\n",
       "\n",
       "    .dataframe thead th {\n",
       "        text-align: right;\n",
       "    }\n",
       "</style>\n",
       "<table border=\"1\" class=\"dataframe\">\n",
       "  <thead>\n",
       "    <tr style=\"text-align: right;\">\n",
       "      <th></th>\n",
       "      <th>Country</th>\n",
       "      <th>Year</th>\n",
       "      <th>Status</th>\n",
       "      <th>Life expectancy</th>\n",
       "      <th>Adult Mortality</th>\n",
       "      <th>infant deaths</th>\n",
       "      <th>Alcohol</th>\n",
       "      <th>percentage expenditure</th>\n",
       "      <th>Hepatitis B</th>\n",
       "      <th>Measles</th>\n",
       "      <th>...</th>\n",
       "      <th>Polio</th>\n",
       "      <th>Total expenditure</th>\n",
       "      <th>Diphtheria</th>\n",
       "      <th>HIV/AIDS</th>\n",
       "      <th>GDP</th>\n",
       "      <th>Population</th>\n",
       "      <th>thinness  1-19 years</th>\n",
       "      <th>thinness 5-9 years</th>\n",
       "      <th>Income composition of resources</th>\n",
       "      <th>Schooling</th>\n",
       "    </tr>\n",
       "  </thead>\n",
       "  <tbody>\n",
       "    <tr>\n",
       "      <th>0</th>\n",
       "      <td>Afghanistan</td>\n",
       "      <td>2015</td>\n",
       "      <td>Developing</td>\n",
       "      <td>65.0</td>\n",
       "      <td>263.0</td>\n",
       "      <td>62</td>\n",
       "      <td>0.01</td>\n",
       "      <td>71.279624</td>\n",
       "      <td>65.0</td>\n",
       "      <td>1154</td>\n",
       "      <td>...</td>\n",
       "      <td>6.0</td>\n",
       "      <td>8.16</td>\n",
       "      <td>65.0</td>\n",
       "      <td>0.1</td>\n",
       "      <td>584.259210</td>\n",
       "      <td>33736494.0</td>\n",
       "      <td>17.2</td>\n",
       "      <td>17.3</td>\n",
       "      <td>0.479</td>\n",
       "      <td>10.1</td>\n",
       "    </tr>\n",
       "    <tr>\n",
       "      <th>1</th>\n",
       "      <td>Afghanistan</td>\n",
       "      <td>2014</td>\n",
       "      <td>Developing</td>\n",
       "      <td>59.9</td>\n",
       "      <td>271.0</td>\n",
       "      <td>64</td>\n",
       "      <td>0.01</td>\n",
       "      <td>73.523582</td>\n",
       "      <td>62.0</td>\n",
       "      <td>492</td>\n",
       "      <td>...</td>\n",
       "      <td>58.0</td>\n",
       "      <td>8.18</td>\n",
       "      <td>62.0</td>\n",
       "      <td>0.1</td>\n",
       "      <td>612.696514</td>\n",
       "      <td>327582.0</td>\n",
       "      <td>17.5</td>\n",
       "      <td>17.5</td>\n",
       "      <td>0.476</td>\n",
       "      <td>10.0</td>\n",
       "    </tr>\n",
       "    <tr>\n",
       "      <th>2</th>\n",
       "      <td>Afghanistan</td>\n",
       "      <td>2013</td>\n",
       "      <td>Developing</td>\n",
       "      <td>59.9</td>\n",
       "      <td>268.0</td>\n",
       "      <td>66</td>\n",
       "      <td>0.01</td>\n",
       "      <td>73.219243</td>\n",
       "      <td>64.0</td>\n",
       "      <td>430</td>\n",
       "      <td>...</td>\n",
       "      <td>62.0</td>\n",
       "      <td>8.13</td>\n",
       "      <td>64.0</td>\n",
       "      <td>0.1</td>\n",
       "      <td>631.744976</td>\n",
       "      <td>31731688.0</td>\n",
       "      <td>17.7</td>\n",
       "      <td>17.7</td>\n",
       "      <td>0.470</td>\n",
       "      <td>9.9</td>\n",
       "    </tr>\n",
       "    <tr>\n",
       "      <th>3</th>\n",
       "      <td>Afghanistan</td>\n",
       "      <td>2012</td>\n",
       "      <td>Developing</td>\n",
       "      <td>59.5</td>\n",
       "      <td>272.0</td>\n",
       "      <td>69</td>\n",
       "      <td>0.01</td>\n",
       "      <td>78.184215</td>\n",
       "      <td>67.0</td>\n",
       "      <td>2787</td>\n",
       "      <td>...</td>\n",
       "      <td>67.0</td>\n",
       "      <td>8.52</td>\n",
       "      <td>67.0</td>\n",
       "      <td>0.1</td>\n",
       "      <td>669.959000</td>\n",
       "      <td>3696958.0</td>\n",
       "      <td>17.9</td>\n",
       "      <td>18.0</td>\n",
       "      <td>0.463</td>\n",
       "      <td>9.8</td>\n",
       "    </tr>\n",
       "    <tr>\n",
       "      <th>4</th>\n",
       "      <td>Afghanistan</td>\n",
       "      <td>2011</td>\n",
       "      <td>Developing</td>\n",
       "      <td>59.2</td>\n",
       "      <td>275.0</td>\n",
       "      <td>71</td>\n",
       "      <td>0.01</td>\n",
       "      <td>7.097109</td>\n",
       "      <td>68.0</td>\n",
       "      <td>3013</td>\n",
       "      <td>...</td>\n",
       "      <td>68.0</td>\n",
       "      <td>7.87</td>\n",
       "      <td>68.0</td>\n",
       "      <td>0.1</td>\n",
       "      <td>63.537231</td>\n",
       "      <td>2978599.0</td>\n",
       "      <td>18.2</td>\n",
       "      <td>18.2</td>\n",
       "      <td>0.454</td>\n",
       "      <td>9.5</td>\n",
       "    </tr>\n",
       "    <tr>\n",
       "      <th>5</th>\n",
       "      <td>Afghanistan</td>\n",
       "      <td>2010</td>\n",
       "      <td>Developing</td>\n",
       "      <td>58.8</td>\n",
       "      <td>279.0</td>\n",
       "      <td>74</td>\n",
       "      <td>0.01</td>\n",
       "      <td>79.679367</td>\n",
       "      <td>66.0</td>\n",
       "      <td>1989</td>\n",
       "      <td>...</td>\n",
       "      <td>66.0</td>\n",
       "      <td>9.20</td>\n",
       "      <td>66.0</td>\n",
       "      <td>0.1</td>\n",
       "      <td>553.328940</td>\n",
       "      <td>2883167.0</td>\n",
       "      <td>18.4</td>\n",
       "      <td>18.4</td>\n",
       "      <td>0.448</td>\n",
       "      <td>9.2</td>\n",
       "    </tr>\n",
       "    <tr>\n",
       "      <th>6</th>\n",
       "      <td>Afghanistan</td>\n",
       "      <td>2009</td>\n",
       "      <td>Developing</td>\n",
       "      <td>58.6</td>\n",
       "      <td>281.0</td>\n",
       "      <td>77</td>\n",
       "      <td>0.01</td>\n",
       "      <td>56.762217</td>\n",
       "      <td>63.0</td>\n",
       "      <td>2861</td>\n",
       "      <td>...</td>\n",
       "      <td>63.0</td>\n",
       "      <td>9.42</td>\n",
       "      <td>63.0</td>\n",
       "      <td>0.1</td>\n",
       "      <td>445.893298</td>\n",
       "      <td>284331.0</td>\n",
       "      <td>18.6</td>\n",
       "      <td>18.7</td>\n",
       "      <td>0.434</td>\n",
       "      <td>8.9</td>\n",
       "    </tr>\n",
       "    <tr>\n",
       "      <th>7</th>\n",
       "      <td>Afghanistan</td>\n",
       "      <td>2008</td>\n",
       "      <td>Developing</td>\n",
       "      <td>58.1</td>\n",
       "      <td>287.0</td>\n",
       "      <td>80</td>\n",
       "      <td>0.03</td>\n",
       "      <td>25.873925</td>\n",
       "      <td>64.0</td>\n",
       "      <td>1599</td>\n",
       "      <td>...</td>\n",
       "      <td>64.0</td>\n",
       "      <td>8.33</td>\n",
       "      <td>64.0</td>\n",
       "      <td>0.1</td>\n",
       "      <td>373.361116</td>\n",
       "      <td>2729431.0</td>\n",
       "      <td>18.8</td>\n",
       "      <td>18.9</td>\n",
       "      <td>0.433</td>\n",
       "      <td>8.7</td>\n",
       "    </tr>\n",
       "    <tr>\n",
       "      <th>8</th>\n",
       "      <td>Afghanistan</td>\n",
       "      <td>2007</td>\n",
       "      <td>Developing</td>\n",
       "      <td>57.5</td>\n",
       "      <td>295.0</td>\n",
       "      <td>82</td>\n",
       "      <td>0.02</td>\n",
       "      <td>10.910156</td>\n",
       "      <td>63.0</td>\n",
       "      <td>1141</td>\n",
       "      <td>...</td>\n",
       "      <td>63.0</td>\n",
       "      <td>6.73</td>\n",
       "      <td>63.0</td>\n",
       "      <td>0.1</td>\n",
       "      <td>369.835796</td>\n",
       "      <td>26616792.0</td>\n",
       "      <td>19.0</td>\n",
       "      <td>19.1</td>\n",
       "      <td>0.415</td>\n",
       "      <td>8.4</td>\n",
       "    </tr>\n",
       "    <tr>\n",
       "      <th>9</th>\n",
       "      <td>Afghanistan</td>\n",
       "      <td>2006</td>\n",
       "      <td>Developing</td>\n",
       "      <td>57.3</td>\n",
       "      <td>295.0</td>\n",
       "      <td>84</td>\n",
       "      <td>0.03</td>\n",
       "      <td>17.171518</td>\n",
       "      <td>64.0</td>\n",
       "      <td>1990</td>\n",
       "      <td>...</td>\n",
       "      <td>58.0</td>\n",
       "      <td>7.43</td>\n",
       "      <td>58.0</td>\n",
       "      <td>0.1</td>\n",
       "      <td>272.563770</td>\n",
       "      <td>2589345.0</td>\n",
       "      <td>19.2</td>\n",
       "      <td>19.3</td>\n",
       "      <td>0.405</td>\n",
       "      <td>8.1</td>\n",
       "    </tr>\n",
       "    <tr>\n",
       "      <th>10</th>\n",
       "      <td>Afghanistan</td>\n",
       "      <td>2005</td>\n",
       "      <td>Developing</td>\n",
       "      <td>57.3</td>\n",
       "      <td>291.0</td>\n",
       "      <td>85</td>\n",
       "      <td>0.02</td>\n",
       "      <td>1.388648</td>\n",
       "      <td>66.0</td>\n",
       "      <td>1296</td>\n",
       "      <td>...</td>\n",
       "      <td>58.0</td>\n",
       "      <td>8.70</td>\n",
       "      <td>58.0</td>\n",
       "      <td>0.1</td>\n",
       "      <td>25.294130</td>\n",
       "      <td>257798.0</td>\n",
       "      <td>19.3</td>\n",
       "      <td>19.5</td>\n",
       "      <td>0.396</td>\n",
       "      <td>7.9</td>\n",
       "    </tr>\n",
       "    <tr>\n",
       "      <th>11</th>\n",
       "      <td>Afghanistan</td>\n",
       "      <td>2004</td>\n",
       "      <td>Developing</td>\n",
       "      <td>57.0</td>\n",
       "      <td>293.0</td>\n",
       "      <td>87</td>\n",
       "      <td>0.02</td>\n",
       "      <td>15.296066</td>\n",
       "      <td>67.0</td>\n",
       "      <td>466</td>\n",
       "      <td>...</td>\n",
       "      <td>5.0</td>\n",
       "      <td>8.79</td>\n",
       "      <td>5.0</td>\n",
       "      <td>0.1</td>\n",
       "      <td>219.141353</td>\n",
       "      <td>24118979.0</td>\n",
       "      <td>19.5</td>\n",
       "      <td>19.7</td>\n",
       "      <td>0.381</td>\n",
       "      <td>6.8</td>\n",
       "    </tr>\n",
       "    <tr>\n",
       "      <th>12</th>\n",
       "      <td>Afghanistan</td>\n",
       "      <td>2003</td>\n",
       "      <td>Developing</td>\n",
       "      <td>56.7</td>\n",
       "      <td>295.0</td>\n",
       "      <td>87</td>\n",
       "      <td>0.01</td>\n",
       "      <td>11.089053</td>\n",
       "      <td>65.0</td>\n",
       "      <td>798</td>\n",
       "      <td>...</td>\n",
       "      <td>41.0</td>\n",
       "      <td>8.82</td>\n",
       "      <td>41.0</td>\n",
       "      <td>0.1</td>\n",
       "      <td>198.728544</td>\n",
       "      <td>2364851.0</td>\n",
       "      <td>19.7</td>\n",
       "      <td>19.9</td>\n",
       "      <td>0.373</td>\n",
       "      <td>6.5</td>\n",
       "    </tr>\n",
       "    <tr>\n",
       "      <th>13</th>\n",
       "      <td>Afghanistan</td>\n",
       "      <td>2002</td>\n",
       "      <td>Developing</td>\n",
       "      <td>56.2</td>\n",
       "      <td>3.0</td>\n",
       "      <td>88</td>\n",
       "      <td>0.01</td>\n",
       "      <td>16.887351</td>\n",
       "      <td>64.0</td>\n",
       "      <td>2486</td>\n",
       "      <td>...</td>\n",
       "      <td>36.0</td>\n",
       "      <td>7.76</td>\n",
       "      <td>36.0</td>\n",
       "      <td>0.1</td>\n",
       "      <td>187.845950</td>\n",
       "      <td>21979923.0</td>\n",
       "      <td>19.9</td>\n",
       "      <td>2.2</td>\n",
       "      <td>0.341</td>\n",
       "      <td>6.2</td>\n",
       "    </tr>\n",
       "    <tr>\n",
       "      <th>14</th>\n",
       "      <td>Afghanistan</td>\n",
       "      <td>2001</td>\n",
       "      <td>Developing</td>\n",
       "      <td>55.3</td>\n",
       "      <td>316.0</td>\n",
       "      <td>88</td>\n",
       "      <td>0.01</td>\n",
       "      <td>10.574728</td>\n",
       "      <td>63.0</td>\n",
       "      <td>8762</td>\n",
       "      <td>...</td>\n",
       "      <td>35.0</td>\n",
       "      <td>7.80</td>\n",
       "      <td>33.0</td>\n",
       "      <td>0.1</td>\n",
       "      <td>117.496980</td>\n",
       "      <td>2966463.0</td>\n",
       "      <td>2.1</td>\n",
       "      <td>2.4</td>\n",
       "      <td>0.340</td>\n",
       "      <td>5.9</td>\n",
       "    </tr>\n",
       "    <tr>\n",
       "      <th>15</th>\n",
       "      <td>Afghanistan</td>\n",
       "      <td>2000</td>\n",
       "      <td>Developing</td>\n",
       "      <td>54.8</td>\n",
       "      <td>321.0</td>\n",
       "      <td>88</td>\n",
       "      <td>0.01</td>\n",
       "      <td>10.424960</td>\n",
       "      <td>62.0</td>\n",
       "      <td>6532</td>\n",
       "      <td>...</td>\n",
       "      <td>24.0</td>\n",
       "      <td>8.20</td>\n",
       "      <td>24.0</td>\n",
       "      <td>0.1</td>\n",
       "      <td>114.560000</td>\n",
       "      <td>293756.0</td>\n",
       "      <td>2.3</td>\n",
       "      <td>2.5</td>\n",
       "      <td>0.338</td>\n",
       "      <td>5.5</td>\n",
       "    </tr>\n",
       "    <tr>\n",
       "      <th>16</th>\n",
       "      <td>Albania</td>\n",
       "      <td>2015</td>\n",
       "      <td>Developing</td>\n",
       "      <td>77.8</td>\n",
       "      <td>74.0</td>\n",
       "      <td>0</td>\n",
       "      <td>4.60</td>\n",
       "      <td>364.975229</td>\n",
       "      <td>99.0</td>\n",
       "      <td>0</td>\n",
       "      <td>...</td>\n",
       "      <td>99.0</td>\n",
       "      <td>6.00</td>\n",
       "      <td>99.0</td>\n",
       "      <td>0.1</td>\n",
       "      <td>3954.227830</td>\n",
       "      <td>28873.0</td>\n",
       "      <td>1.2</td>\n",
       "      <td>1.3</td>\n",
       "      <td>0.762</td>\n",
       "      <td>14.2</td>\n",
       "    </tr>\n",
       "    <tr>\n",
       "      <th>17</th>\n",
       "      <td>Albania</td>\n",
       "      <td>2014</td>\n",
       "      <td>Developing</td>\n",
       "      <td>77.5</td>\n",
       "      <td>8.0</td>\n",
       "      <td>0</td>\n",
       "      <td>4.51</td>\n",
       "      <td>428.749067</td>\n",
       "      <td>98.0</td>\n",
       "      <td>0</td>\n",
       "      <td>...</td>\n",
       "      <td>98.0</td>\n",
       "      <td>5.88</td>\n",
       "      <td>98.0</td>\n",
       "      <td>0.1</td>\n",
       "      <td>4575.763787</td>\n",
       "      <td>288914.0</td>\n",
       "      <td>1.2</td>\n",
       "      <td>1.3</td>\n",
       "      <td>0.761</td>\n",
       "      <td>14.2</td>\n",
       "    </tr>\n",
       "    <tr>\n",
       "      <th>18</th>\n",
       "      <td>Albania</td>\n",
       "      <td>2013</td>\n",
       "      <td>Developing</td>\n",
       "      <td>77.2</td>\n",
       "      <td>84.0</td>\n",
       "      <td>0</td>\n",
       "      <td>4.76</td>\n",
       "      <td>430.876979</td>\n",
       "      <td>99.0</td>\n",
       "      <td>0</td>\n",
       "      <td>...</td>\n",
       "      <td>99.0</td>\n",
       "      <td>5.66</td>\n",
       "      <td>99.0</td>\n",
       "      <td>0.1</td>\n",
       "      <td>4414.723140</td>\n",
       "      <td>289592.0</td>\n",
       "      <td>1.3</td>\n",
       "      <td>1.4</td>\n",
       "      <td>0.759</td>\n",
       "      <td>14.2</td>\n",
       "    </tr>\n",
       "    <tr>\n",
       "      <th>19</th>\n",
       "      <td>Albania</td>\n",
       "      <td>2012</td>\n",
       "      <td>Developing</td>\n",
       "      <td>76.9</td>\n",
       "      <td>86.0</td>\n",
       "      <td>0</td>\n",
       "      <td>5.14</td>\n",
       "      <td>412.443356</td>\n",
       "      <td>99.0</td>\n",
       "      <td>9</td>\n",
       "      <td>...</td>\n",
       "      <td>99.0</td>\n",
       "      <td>5.59</td>\n",
       "      <td>99.0</td>\n",
       "      <td>0.1</td>\n",
       "      <td>4247.614380</td>\n",
       "      <td>2941.0</td>\n",
       "      <td>1.3</td>\n",
       "      <td>1.4</td>\n",
       "      <td>0.752</td>\n",
       "      <td>14.2</td>\n",
       "    </tr>\n",
       "  </tbody>\n",
       "</table>\n",
       "<p>20 rows × 22 columns</p>\n",
       "</div>"
      ],
      "text/plain": [
       "        Country  Year      Status  Life expectancy   Adult Mortality  \\\n",
       "0   Afghanistan  2015  Developing              65.0            263.0   \n",
       "1   Afghanistan  2014  Developing              59.9            271.0   \n",
       "2   Afghanistan  2013  Developing              59.9            268.0   \n",
       "3   Afghanistan  2012  Developing              59.5            272.0   \n",
       "4   Afghanistan  2011  Developing              59.2            275.0   \n",
       "5   Afghanistan  2010  Developing              58.8            279.0   \n",
       "6   Afghanistan  2009  Developing              58.6            281.0   \n",
       "7   Afghanistan  2008  Developing              58.1            287.0   \n",
       "8   Afghanistan  2007  Developing              57.5            295.0   \n",
       "9   Afghanistan  2006  Developing              57.3            295.0   \n",
       "10  Afghanistan  2005  Developing              57.3            291.0   \n",
       "11  Afghanistan  2004  Developing              57.0            293.0   \n",
       "12  Afghanistan  2003  Developing              56.7            295.0   \n",
       "13  Afghanistan  2002  Developing              56.2              3.0   \n",
       "14  Afghanistan  2001  Developing              55.3            316.0   \n",
       "15  Afghanistan  2000  Developing              54.8            321.0   \n",
       "16      Albania  2015  Developing              77.8             74.0   \n",
       "17      Albania  2014  Developing              77.5              8.0   \n",
       "18      Albania  2013  Developing              77.2             84.0   \n",
       "19      Albania  2012  Developing              76.9             86.0   \n",
       "\n",
       "    infant deaths  Alcohol  percentage expenditure  Hepatitis B  Measles   \\\n",
       "0              62     0.01               71.279624         65.0      1154   \n",
       "1              64     0.01               73.523582         62.0       492   \n",
       "2              66     0.01               73.219243         64.0       430   \n",
       "3              69     0.01               78.184215         67.0      2787   \n",
       "4              71     0.01                7.097109         68.0      3013   \n",
       "5              74     0.01               79.679367         66.0      1989   \n",
       "6              77     0.01               56.762217         63.0      2861   \n",
       "7              80     0.03               25.873925         64.0      1599   \n",
       "8              82     0.02               10.910156         63.0      1141   \n",
       "9              84     0.03               17.171518         64.0      1990   \n",
       "10             85     0.02                1.388648         66.0      1296   \n",
       "11             87     0.02               15.296066         67.0       466   \n",
       "12             87     0.01               11.089053         65.0       798   \n",
       "13             88     0.01               16.887351         64.0      2486   \n",
       "14             88     0.01               10.574728         63.0      8762   \n",
       "15             88     0.01               10.424960         62.0      6532   \n",
       "16              0     4.60              364.975229         99.0         0   \n",
       "17              0     4.51              428.749067         98.0         0   \n",
       "18              0     4.76              430.876979         99.0         0   \n",
       "19              0     5.14              412.443356         99.0         9   \n",
       "\n",
       "    ...  Polio  Total expenditure  Diphtheria    HIV/AIDS          GDP  \\\n",
       "0   ...    6.0               8.16         65.0        0.1   584.259210   \n",
       "1   ...   58.0               8.18         62.0        0.1   612.696514   \n",
       "2   ...   62.0               8.13         64.0        0.1   631.744976   \n",
       "3   ...   67.0               8.52         67.0        0.1   669.959000   \n",
       "4   ...   68.0               7.87         68.0        0.1    63.537231   \n",
       "5   ...   66.0               9.20         66.0        0.1   553.328940   \n",
       "6   ...   63.0               9.42         63.0        0.1   445.893298   \n",
       "7   ...   64.0               8.33         64.0        0.1   373.361116   \n",
       "8   ...   63.0               6.73         63.0        0.1   369.835796   \n",
       "9   ...   58.0               7.43         58.0        0.1   272.563770   \n",
       "10  ...   58.0               8.70         58.0        0.1    25.294130   \n",
       "11  ...    5.0               8.79          5.0        0.1   219.141353   \n",
       "12  ...   41.0               8.82         41.0        0.1   198.728544   \n",
       "13  ...   36.0               7.76         36.0        0.1   187.845950   \n",
       "14  ...   35.0               7.80         33.0        0.1   117.496980   \n",
       "15  ...   24.0               8.20         24.0        0.1   114.560000   \n",
       "16  ...   99.0               6.00         99.0        0.1  3954.227830   \n",
       "17  ...   98.0               5.88         98.0        0.1  4575.763787   \n",
       "18  ...   99.0               5.66         99.0        0.1  4414.723140   \n",
       "19  ...   99.0               5.59         99.0        0.1  4247.614380   \n",
       "\n",
       "    Population   thinness  1-19 years   thinness 5-9 years  \\\n",
       "0   33736494.0                   17.2                 17.3   \n",
       "1     327582.0                   17.5                 17.5   \n",
       "2   31731688.0                   17.7                 17.7   \n",
       "3    3696958.0                   17.9                 18.0   \n",
       "4    2978599.0                   18.2                 18.2   \n",
       "5    2883167.0                   18.4                 18.4   \n",
       "6     284331.0                   18.6                 18.7   \n",
       "7    2729431.0                   18.8                 18.9   \n",
       "8   26616792.0                   19.0                 19.1   \n",
       "9    2589345.0                   19.2                 19.3   \n",
       "10    257798.0                   19.3                 19.5   \n",
       "11  24118979.0                   19.5                 19.7   \n",
       "12   2364851.0                   19.7                 19.9   \n",
       "13  21979923.0                   19.9                  2.2   \n",
       "14   2966463.0                    2.1                  2.4   \n",
       "15    293756.0                    2.3                  2.5   \n",
       "16     28873.0                    1.2                  1.3   \n",
       "17    288914.0                    1.2                  1.3   \n",
       "18    289592.0                    1.3                  1.4   \n",
       "19      2941.0                    1.3                  1.4   \n",
       "\n",
       "    Income composition of resources  Schooling  \n",
       "0                             0.479       10.1  \n",
       "1                             0.476       10.0  \n",
       "2                             0.470        9.9  \n",
       "3                             0.463        9.8  \n",
       "4                             0.454        9.5  \n",
       "5                             0.448        9.2  \n",
       "6                             0.434        8.9  \n",
       "7                             0.433        8.7  \n",
       "8                             0.415        8.4  \n",
       "9                             0.405        8.1  \n",
       "10                            0.396        7.9  \n",
       "11                            0.381        6.8  \n",
       "12                            0.373        6.5  \n",
       "13                            0.341        6.2  \n",
       "14                            0.340        5.9  \n",
       "15                            0.338        5.5  \n",
       "16                            0.762       14.2  \n",
       "17                            0.761       14.2  \n",
       "18                            0.759       14.2  \n",
       "19                            0.752       14.2  \n",
       "\n",
       "[20 rows x 22 columns]"
      ]
     },
     "execution_count": 48,
     "metadata": {},
     "output_type": "execute_result"
    }
   ],
   "source": [
    "df.head(20)"
   ]
  },
  {
   "cell_type": "code",
   "execution_count": 5,
   "id": "bac5b412",
   "metadata": {},
   "outputs": [
    {
     "data": {
      "text/plain": [
       "Index(['Country', 'Year', 'Status', 'Life expectancy ', 'Adult Mortality',\n",
       "       'infant deaths', 'Alcohol', 'percentage expenditure', 'Hepatitis B',\n",
       "       'Measles ', ' BMI ', 'under-five deaths ', 'Polio', 'Total expenditure',\n",
       "       'Diphtheria ', ' HIV/AIDS', 'GDP', 'Population',\n",
       "       ' thinness  1-19 years', ' thinness 5-9 years',\n",
       "       'Income composition of resources', 'Schooling'],\n",
       "      dtype='object')"
      ]
     },
     "execution_count": 5,
     "metadata": {},
     "output_type": "execute_result"
    }
   ],
   "source": [
    "df.columns"
   ]
  },
  {
   "cell_type": "code",
   "execution_count": 6,
   "id": "c1d2a00a",
   "metadata": {},
   "outputs": [
    {
     "data": {
      "text/plain": [
       "69.22493169398912"
      ]
     },
     "execution_count": 6,
     "metadata": {},
     "output_type": "execute_result"
    }
   ],
   "source": [
    "df['Life expectancy '].mean()"
   ]
  },
  {
   "cell_type": "code",
   "execution_count": 7,
   "id": "41440cb2",
   "metadata": {},
   "outputs": [
    {
     "data": {
      "text/plain": [
       "72.1"
      ]
     },
     "execution_count": 7,
     "metadata": {},
     "output_type": "execute_result"
    }
   ],
   "source": [
    "df['Life expectancy '].median()"
   ]
  },
  {
   "cell_type": "code",
   "execution_count": 8,
   "id": "73e2d78e",
   "metadata": {},
   "outputs": [
    {
     "data": {
      "text/plain": [
       "63.1"
      ]
     },
     "execution_count": 8,
     "metadata": {},
     "output_type": "execute_result"
    }
   ],
   "source": [
    "df['Life expectancy '].quantile(.25)"
   ]
  },
  {
   "cell_type": "code",
   "execution_count": 9,
   "id": "41abfcf7",
   "metadata": {},
   "outputs": [
    {
     "data": {
      "text/plain": [
       "72.1"
      ]
     },
     "execution_count": 9,
     "metadata": {},
     "output_type": "execute_result"
    }
   ],
   "source": [
    "df['Life expectancy '].quantile(.5)"
   ]
  },
  {
   "cell_type": "code",
   "execution_count": 10,
   "id": "0eaea4e8",
   "metadata": {},
   "outputs": [
    {
     "data": {
      "text/plain": [
       "75.7"
      ]
     },
     "execution_count": 10,
     "metadata": {},
     "output_type": "execute_result"
    }
   ],
   "source": [
    "df['Life expectancy '].quantile(.75)"
   ]
  },
  {
   "cell_type": "code",
   "execution_count": 11,
   "id": "8cc66c98",
   "metadata": {},
   "outputs": [
    {
     "data": {
      "text/plain": [
       "90.70405192563634"
      ]
     },
     "execution_count": 11,
     "metadata": {},
     "output_type": "execute_result"
    }
   ],
   "source": [
    "df['Life expectancy '].var()"
   ]
  },
  {
   "cell_type": "code",
   "execution_count": 12,
   "id": "789c3c1a",
   "metadata": {},
   "outputs": [
    {
     "data": {
      "text/plain": [
       "9.523867487824278"
      ]
     },
     "execution_count": 12,
     "metadata": {},
     "output_type": "execute_result"
    }
   ],
   "source": [
    "df['Life expectancy '].std()"
   ]
  },
  {
   "cell_type": "code",
   "execution_count": 13,
   "id": "cbc6cd6c",
   "metadata": {},
   "outputs": [
    {
     "data": {
      "text/plain": [
       "52.7"
      ]
     },
     "execution_count": 13,
     "metadata": {},
     "output_type": "execute_result"
    }
   ],
   "source": [
    "df['Life expectancy '].max()-df['Life expectancy '].min()"
   ]
  },
  {
   "cell_type": "code",
   "execution_count": 14,
   "id": "4b94b3d7",
   "metadata": {},
   "outputs": [
    {
     "data": {
      "text/plain": [
       "164.79644808743168"
      ]
     },
     "execution_count": 14,
     "metadata": {},
     "output_type": "execute_result"
    }
   ],
   "source": [
    "df['Adult Mortality'].mean()"
   ]
  },
  {
   "cell_type": "code",
   "execution_count": 15,
   "id": "2cd371bd",
   "metadata": {},
   "outputs": [
    {
     "data": {
      "text/plain": [
       "144.0"
      ]
     },
     "execution_count": 15,
     "metadata": {},
     "output_type": "execute_result"
    }
   ],
   "source": [
    "df['Adult Mortality'].median()"
   ]
  },
  {
   "cell_type": "code",
   "execution_count": 16,
   "id": "7e31a7fc",
   "metadata": {},
   "outputs": [
    {
     "data": {
      "text/plain": [
       "74.0"
      ]
     },
     "execution_count": 16,
     "metadata": {},
     "output_type": "execute_result"
    }
   ],
   "source": [
    "df['Adult Mortality'].quantile(.25)"
   ]
  },
  {
   "cell_type": "code",
   "execution_count": 17,
   "id": "badcabf0",
   "metadata": {},
   "outputs": [
    {
     "data": {
      "text/plain": [
       "144.0"
      ]
     },
     "execution_count": 17,
     "metadata": {},
     "output_type": "execute_result"
    }
   ],
   "source": [
    "df['Adult Mortality'].quantile(.5)"
   ]
  },
  {
   "cell_type": "code",
   "execution_count": 18,
   "id": "35050242",
   "metadata": {},
   "outputs": [
    {
     "data": {
      "text/plain": [
       "228.0"
      ]
     },
     "execution_count": 18,
     "metadata": {},
     "output_type": "execute_result"
    }
   ],
   "source": [
    "df['Adult Mortality'].quantile(.75)"
   ]
  },
  {
   "cell_type": "code",
   "execution_count": 19,
   "id": "f44ede09",
   "metadata": {},
   "outputs": [
    {
     "data": {
      "text/plain": [
       "15448.5209029929"
      ]
     },
     "execution_count": 19,
     "metadata": {},
     "output_type": "execute_result"
    }
   ],
   "source": [
    "df['Adult Mortality'].var()"
   ]
  },
  {
   "cell_type": "code",
   "execution_count": 20,
   "id": "655a6306",
   "metadata": {},
   "outputs": [
    {
     "data": {
      "text/plain": [
       "124.29207900342202"
      ]
     },
     "execution_count": 20,
     "metadata": {},
     "output_type": "execute_result"
    }
   ],
   "source": [
    "df['Adult Mortality'].std()"
   ]
  },
  {
   "cell_type": "code",
   "execution_count": 21,
   "id": "c085f5d7",
   "metadata": {},
   "outputs": [
    {
     "data": {
      "text/plain": [
       "722.0"
      ]
     },
     "execution_count": 21,
     "metadata": {},
     "output_type": "execute_result"
    }
   ],
   "source": [
    "df['Adult Mortality'].max()-df['Adult Mortality'].min()"
   ]
  },
  {
   "cell_type": "code",
   "execution_count": 22,
   "id": "d9d2b270",
   "metadata": {},
   "outputs": [
    {
     "data": {
      "text/plain": [
       "30.303948264125257"
      ]
     },
     "execution_count": 22,
     "metadata": {},
     "output_type": "execute_result"
    }
   ],
   "source": [
    "df['infant deaths'].mean()"
   ]
  },
  {
   "cell_type": "code",
   "execution_count": 23,
   "id": "87ad3070",
   "metadata": {},
   "outputs": [
    {
     "data": {
      "text/plain": [
       "3.0"
      ]
     },
     "execution_count": 23,
     "metadata": {},
     "output_type": "execute_result"
    }
   ],
   "source": [
    "df['infant deaths'].median()"
   ]
  },
  {
   "cell_type": "markdown",
   "id": "78fda473",
   "metadata": {},
   "source": [
    "the large difference bwteen the mean and the median suggests the presence of outliers "
   ]
  },
  {
   "cell_type": "code",
   "execution_count": 24,
   "id": "4727c959",
   "metadata": {},
   "outputs": [
    {
     "data": {
      "text/plain": [
       "0.0"
      ]
     },
     "execution_count": 24,
     "metadata": {},
     "output_type": "execute_result"
    }
   ],
   "source": [
    "df['infant deaths'].quantile(.25)"
   ]
  },
  {
   "cell_type": "code",
   "execution_count": 25,
   "id": "f10d9def",
   "metadata": {},
   "outputs": [
    {
     "data": {
      "text/plain": [
       "3.0"
      ]
     },
     "execution_count": 25,
     "metadata": {},
     "output_type": "execute_result"
    }
   ],
   "source": [
    "df['infant deaths'].quantile(.5)"
   ]
  },
  {
   "cell_type": "code",
   "execution_count": 26,
   "id": "58e4a174",
   "metadata": {},
   "outputs": [
    {
     "data": {
      "text/plain": [
       "22.0"
      ]
     },
     "execution_count": 26,
     "metadata": {},
     "output_type": "execute_result"
    }
   ],
   "source": [
    "df['infant deaths'].quantile(.75)"
   ]
  },
  {
   "cell_type": "code",
   "execution_count": 27,
   "id": "dd932711",
   "metadata": {},
   "outputs": [
    {
     "data": {
      "text/plain": [
       "13906.659712018884"
      ]
     },
     "execution_count": 27,
     "metadata": {},
     "output_type": "execute_result"
    }
   ],
   "source": [
    "df['infant deaths'].var()"
   ]
  },
  {
   "cell_type": "code",
   "execution_count": 28,
   "id": "b09fd924",
   "metadata": {},
   "outputs": [
    {
     "data": {
      "text/plain": [
       "117.9265013133981"
      ]
     },
     "execution_count": 28,
     "metadata": {},
     "output_type": "execute_result"
    }
   ],
   "source": [
    "df['infant deaths'].std()"
   ]
  },
  {
   "cell_type": "code",
   "execution_count": 29,
   "id": "62d44c71",
   "metadata": {},
   "outputs": [
    {
     "data": {
      "text/plain": [
       "1800"
      ]
     },
     "execution_count": 29,
     "metadata": {},
     "output_type": "execute_result"
    }
   ],
   "source": [
    "df['infant deaths'].max()-df['infant deaths'].min()"
   ]
  },
  {
   "cell_type": "code",
   "execution_count": 30,
   "id": "13957453",
   "metadata": {},
   "outputs": [
    {
     "data": {
      "text/plain": [
       "738.2512954533823"
      ]
     },
     "execution_count": 30,
     "metadata": {},
     "output_type": "execute_result"
    }
   ],
   "source": [
    "df['percentage expenditure'].mean()"
   ]
  },
  {
   "cell_type": "code",
   "execution_count": 31,
   "id": "b02eef37",
   "metadata": {},
   "outputs": [
    {
     "data": {
      "text/plain": [
       "64.912906045"
      ]
     },
     "execution_count": 31,
     "metadata": {},
     "output_type": "execute_result"
    }
   ],
   "source": [
    "df['percentage expenditure'].median()"
   ]
  },
  {
   "cell_type": "code",
   "execution_count": 32,
   "id": "ee371cea",
   "metadata": {},
   "outputs": [
    {
     "data": {
      "text/plain": [
       "4.68534258525"
      ]
     },
     "execution_count": 32,
     "metadata": {},
     "output_type": "execute_result"
    }
   ],
   "source": [
    "df['percentage expenditure'].quantile(.25)"
   ]
  },
  {
   "cell_type": "code",
   "execution_count": 33,
   "id": "45c292f5",
   "metadata": {},
   "outputs": [
    {
     "data": {
      "text/plain": [
       "441.53414435"
      ]
     },
     "execution_count": 33,
     "metadata": {},
     "output_type": "execute_result"
    }
   ],
   "source": [
    "df['percentage expenditure'].quantile(.75)"
   ]
  },
  {
   "cell_type": "code",
   "execution_count": 34,
   "id": "806f54db",
   "metadata": {},
   "outputs": [
    {
     "data": {
      "text/plain": [
       "3951805.4827215625"
      ]
     },
     "execution_count": 34,
     "metadata": {},
     "output_type": "execute_result"
    }
   ],
   "source": [
    "df['percentage expenditure'].var()"
   ]
  },
  {
   "cell_type": "code",
   "execution_count": 35,
   "id": "7f3ef2bd",
   "metadata": {},
   "outputs": [
    {
     "data": {
      "text/plain": [
       "1987.9148580161984"
      ]
     },
     "execution_count": 35,
     "metadata": {},
     "output_type": "execute_result"
    }
   ],
   "source": [
    "df['percentage expenditure'].std()"
   ]
  },
  {
   "cell_type": "code",
   "execution_count": 36,
   "id": "135cf632",
   "metadata": {},
   "outputs": [
    {
     "data": {
      "text/plain": [
       "19479.91161"
      ]
     },
     "execution_count": 36,
     "metadata": {},
     "output_type": "execute_result"
    }
   ],
   "source": [
    "df['percentage expenditure'].max()-df['percentage expenditure'].min()"
   ]
  },
  {
   "cell_type": "code",
   "execution_count": 37,
   "id": "efa036d6",
   "metadata": {},
   "outputs": [
    {
     "data": {
      "text/plain": [
       "80.94046121593291"
      ]
     },
     "execution_count": 37,
     "metadata": {},
     "output_type": "execute_result"
    }
   ],
   "source": [
    "df['Hepatitis B'].mean()"
   ]
  },
  {
   "cell_type": "code",
   "execution_count": 38,
   "id": "fd3acaaa",
   "metadata": {},
   "outputs": [
    {
     "data": {
      "text/plain": [
       "92.0"
      ]
     },
     "execution_count": 38,
     "metadata": {},
     "output_type": "execute_result"
    }
   ],
   "source": [
    "df['Hepatitis B'].median()"
   ]
  },
  {
   "cell_type": "code",
   "execution_count": 39,
   "id": "b1908fa0",
   "metadata": {},
   "outputs": [
    {
     "data": {
      "text/plain": [
       "77.0"
      ]
     },
     "execution_count": 39,
     "metadata": {},
     "output_type": "execute_result"
    }
   ],
   "source": [
    "df['Hepatitis B'].quantile(.25)"
   ]
  },
  {
   "cell_type": "code",
   "execution_count": 40,
   "id": "9748c276",
   "metadata": {},
   "outputs": [
    {
     "data": {
      "text/plain": [
       "97.0"
      ]
     },
     "execution_count": 40,
     "metadata": {},
     "output_type": "execute_result"
    }
   ],
   "source": [
    "df['Hepatitis B'].quantile(.75)"
   ]
  },
  {
   "cell_type": "code",
   "execution_count": 41,
   "id": "577c21db",
   "metadata": {},
   "outputs": [
    {
     "data": {
      "text/plain": [
       "98.0"
      ]
     },
     "execution_count": 41,
     "metadata": {},
     "output_type": "execute_result"
    }
   ],
   "source": [
    "df['Hepatitis B'].max()-df['Hepatitis B'].min()"
   ]
  },
  {
   "cell_type": "code",
   "execution_count": 53,
   "id": "6c09a009",
   "metadata": {},
   "outputs": [
    {
     "data": {
      "text/plain": [
       "628.5056818341719"
      ]
     },
     "execution_count": 53,
     "metadata": {},
     "output_type": "execute_result"
    }
   ],
   "source": [
    "df['Hepatitis B'].var()"
   ]
  },
  {
   "cell_type": "code",
   "execution_count": 54,
   "id": "5e337aeb",
   "metadata": {},
   "outputs": [
    {
     "data": {
      "text/plain": [
       "25.070015593018123"
      ]
     },
     "execution_count": 54,
     "metadata": {},
     "output_type": "execute_result"
    }
   ],
   "source": [
    "df['Hepatitis B'].std()"
   ]
  },
  {
   "cell_type": "code",
   "execution_count": 42,
   "id": "60e2aaa8",
   "metadata": {},
   "outputs": [
    {
     "data": {
      "text/plain": [
       "2419.5922396187884"
      ]
     },
     "execution_count": 42,
     "metadata": {},
     "output_type": "execute_result"
    }
   ],
   "source": [
    "df['Measles '].mean()"
   ]
  },
  {
   "cell_type": "code",
   "execution_count": 43,
   "id": "5df7be73",
   "metadata": {},
   "outputs": [
    {
     "data": {
      "text/plain": [
       "17.0"
      ]
     },
     "execution_count": 43,
     "metadata": {},
     "output_type": "execute_result"
    }
   ],
   "source": [
    "df['Measles '].median()"
   ]
  },
  {
   "cell_type": "code",
   "execution_count": 44,
   "id": "0277b095",
   "metadata": {},
   "outputs": [
    {
     "data": {
      "text/plain": [
       "0.0"
      ]
     },
     "execution_count": 44,
     "metadata": {},
     "output_type": "execute_result"
    }
   ],
   "source": [
    "df['Measles '].quantile(.25)"
   ]
  },
  {
   "cell_type": "code",
   "execution_count": 45,
   "id": "e6958361",
   "metadata": {},
   "outputs": [
    {
     "data": {
      "text/plain": [
       "360.25"
      ]
     },
     "execution_count": 45,
     "metadata": {},
     "output_type": "execute_result"
    }
   ],
   "source": [
    "df['Measles '].quantile(.75)"
   ]
  },
  {
   "cell_type": "code",
   "execution_count": 46,
   "id": "24d03f1f",
   "metadata": {},
   "outputs": [
    {
     "data": {
      "text/plain": [
       "212183"
      ]
     },
     "execution_count": 46,
     "metadata": {},
     "output_type": "execute_result"
    }
   ],
   "source": [
    "df['Measles '].max()-df['Measles '].min()"
   ]
  },
  {
   "cell_type": "code",
   "execution_count": 55,
   "id": "05d022e8",
   "metadata": {},
   "outputs": [
    {
     "data": {
      "text/plain": [
       "131498338.34235595"
      ]
     },
     "execution_count": 55,
     "metadata": {},
     "output_type": "execute_result"
    }
   ],
   "source": [
    "df['Measles '].var()"
   ]
  },
  {
   "cell_type": "code",
   "execution_count": 56,
   "id": "9bb5c3dc",
   "metadata": {},
   "outputs": [
    {
     "data": {
      "text/plain": [
       "11467.272489234567"
      ]
     },
     "execution_count": 56,
     "metadata": {},
     "output_type": "execute_result"
    }
   ],
   "source": [
    "df['Measles '].std()"
   ]
  },
  {
   "cell_type": "code",
   "execution_count": 49,
   "id": "b09507fd",
   "metadata": {},
   "outputs": [
    {
     "data": {
      "text/plain": [
       "4.6028607871720375"
      ]
     },
     "execution_count": 49,
     "metadata": {},
     "output_type": "execute_result"
    }
   ],
   "source": [
    "df['Alcohol'].mean()"
   ]
  },
  {
   "cell_type": "code",
   "execution_count": 50,
   "id": "140dc5fd",
   "metadata": {},
   "outputs": [
    {
     "data": {
      "text/plain": [
       "3.755"
      ]
     },
     "execution_count": 50,
     "metadata": {},
     "output_type": "execute_result"
    }
   ],
   "source": [
    "df['Alcohol'].median()"
   ]
  },
  {
   "cell_type": "code",
   "execution_count": 51,
   "id": "58feaeae",
   "metadata": {},
   "outputs": [
    {
     "data": {
      "text/plain": [
       "0.8775"
      ]
     },
     "execution_count": 51,
     "metadata": {},
     "output_type": "execute_result"
    }
   ],
   "source": [
    "df['Alcohol'].quantile(.25)"
   ]
  },
  {
   "cell_type": "code",
   "execution_count": 52,
   "id": "d7a233d9",
   "metadata": {},
   "outputs": [
    {
     "data": {
      "text/plain": [
       "7.702500000000001"
      ]
     },
     "execution_count": 52,
     "metadata": {},
     "output_type": "execute_result"
    }
   ],
   "source": [
    "df['Alcohol'].quantile(.75)"
   ]
  },
  {
   "cell_type": "code",
   "execution_count": 59,
   "id": "97835fe5",
   "metadata": {},
   "outputs": [
    {
     "data": {
      "text/plain": [
       "17.86"
      ]
     },
     "execution_count": 59,
     "metadata": {},
     "output_type": "execute_result"
    }
   ],
   "source": [
    "df['Alcohol'].max()-df['Alcohol'].min()"
   ]
  },
  {
   "cell_type": "code",
   "execution_count": 60,
   "id": "3fcee5eb",
   "metadata": {},
   "outputs": [
    {
     "data": {
      "text/plain": [
       "16.422048356843053"
      ]
     },
     "execution_count": 60,
     "metadata": {},
     "output_type": "execute_result"
    }
   ],
   "source": [
    "df['Alcohol'].var()"
   ]
  },
  {
   "cell_type": "code",
   "execution_count": 61,
   "id": "d22289a2",
   "metadata": {},
   "outputs": [
    {
     "data": {
      "text/plain": [
       "4.052412658755652"
      ]
     },
     "execution_count": 61,
     "metadata": {},
     "output_type": "execute_result"
    }
   ],
   "source": [
    "df['Alcohol'].std()"
   ]
  },
  {
   "cell_type": "code",
   "execution_count": 62,
   "id": "cb81ad16",
   "metadata": {},
   "outputs": [
    {
     "data": {
      "text/plain": [
       "38.32124655647373"
      ]
     },
     "execution_count": 62,
     "metadata": {},
     "output_type": "execute_result"
    }
   ],
   "source": [
    "df[' BMI '].mean()"
   ]
  },
  {
   "cell_type": "code",
   "execution_count": 63,
   "id": "0a9db956",
   "metadata": {},
   "outputs": [
    {
     "data": {
      "text/plain": [
       "43.5"
      ]
     },
     "execution_count": 63,
     "metadata": {},
     "output_type": "execute_result"
    }
   ],
   "source": [
    "df[' BMI '].median()"
   ]
  },
  {
   "cell_type": "code",
   "execution_count": 68,
   "id": "3582f81a",
   "metadata": {},
   "outputs": [
    {
     "data": {
      "text/plain": [
       "86.3"
      ]
     },
     "execution_count": 68,
     "metadata": {},
     "output_type": "execute_result"
    }
   ],
   "source": [
    "df[' BMI '].max()-df[' BMI '].min()"
   ]
  },
  {
   "cell_type": "code",
   "execution_count": 64,
   "id": "39d1b68a",
   "metadata": {},
   "outputs": [
    {
     "data": {
      "text/plain": [
       "19.3"
      ]
     },
     "execution_count": 64,
     "metadata": {},
     "output_type": "execute_result"
    }
   ],
   "source": [
    "df[' BMI '].quantile(.25)"
   ]
  },
  {
   "cell_type": "code",
   "execution_count": 65,
   "id": "252dc436",
   "metadata": {},
   "outputs": [
    {
     "data": {
      "text/plain": [
       "56.2"
      ]
     },
     "execution_count": 65,
     "metadata": {},
     "output_type": "execute_result"
    }
   ],
   "source": [
    "df[' BMI '].quantile(.75)"
   ]
  },
  {
   "cell_type": "code",
   "execution_count": 66,
   "id": "ffa226bd",
   "metadata": {},
   "outputs": [
    {
     "data": {
      "text/plain": [
       "401.7632790518308"
      ]
     },
     "execution_count": 66,
     "metadata": {},
     "output_type": "execute_result"
    }
   ],
   "source": [
    "df[' BMI '].var()"
   ]
  },
  {
   "cell_type": "code",
   "execution_count": 67,
   "id": "cb467a02",
   "metadata": {},
   "outputs": [
    {
     "data": {
      "text/plain": [
       "20.044033502562073"
      ]
     },
     "execution_count": 67,
     "metadata": {},
     "output_type": "execute_result"
    }
   ],
   "source": [
    "df[' BMI '].std()"
   ]
  },
  {
   "cell_type": "code",
   "execution_count": 69,
   "id": "8d433c7a",
   "metadata": {},
   "outputs": [
    {
     "data": {
      "text/plain": [
       "42.0357385976855"
      ]
     },
     "execution_count": 69,
     "metadata": {},
     "output_type": "execute_result"
    }
   ],
   "source": [
    "df['under-five deaths '].mean()"
   ]
  },
  {
   "cell_type": "code",
   "execution_count": 70,
   "id": "029325f7",
   "metadata": {},
   "outputs": [
    {
     "data": {
      "text/plain": [
       "4.0"
      ]
     },
     "execution_count": 70,
     "metadata": {},
     "output_type": "execute_result"
    }
   ],
   "source": [
    "df['under-five deaths '].median()"
   ]
  },
  {
   "cell_type": "code",
   "execution_count": 71,
   "id": "f5591df2",
   "metadata": {},
   "outputs": [
    {
     "data": {
      "text/plain": [
       "0.0"
      ]
     },
     "execution_count": 71,
     "metadata": {},
     "output_type": "execute_result"
    }
   ],
   "source": [
    "df['under-five deaths '].quantile(.25)"
   ]
  },
  {
   "cell_type": "code",
   "execution_count": 72,
   "id": "52163fb8",
   "metadata": {},
   "outputs": [
    {
     "data": {
      "text/plain": [
       "28.0"
      ]
     },
     "execution_count": 72,
     "metadata": {},
     "output_type": "execute_result"
    }
   ],
   "source": [
    "df['under-five deaths '].quantile(.75)"
   ]
  },
  {
   "cell_type": "code",
   "execution_count": 73,
   "id": "cbacf21c",
   "metadata": {},
   "outputs": [
    {
     "data": {
      "text/plain": [
       "25742.774003216797"
      ]
     },
     "execution_count": 73,
     "metadata": {},
     "output_type": "execute_result"
    }
   ],
   "source": [
    "df['under-five deaths '].var()"
   ]
  },
  {
   "cell_type": "code",
   "execution_count": 74,
   "id": "d349fbb0",
   "metadata": {},
   "outputs": [
    {
     "data": {
      "text/plain": [
       "160.4455484057342"
      ]
     },
     "execution_count": 74,
     "metadata": {},
     "output_type": "execute_result"
    }
   ],
   "source": [
    "df['under-five deaths '].std()"
   ]
  },
  {
   "cell_type": "code",
   "execution_count": 75,
   "id": "22ab4187",
   "metadata": {},
   "outputs": [
    {
     "data": {
      "text/plain": [
       "82.55018842069202"
      ]
     },
     "execution_count": 75,
     "metadata": {},
     "output_type": "execute_result"
    }
   ],
   "source": [
    "df['Polio'].mean()"
   ]
  },
  {
   "cell_type": "code",
   "execution_count": 76,
   "id": "044fa776",
   "metadata": {},
   "outputs": [
    {
     "data": {
      "text/plain": [
       "93.0"
      ]
     },
     "execution_count": 76,
     "metadata": {},
     "output_type": "execute_result"
    }
   ],
   "source": [
    "df['Polio'].median()"
   ]
  },
  {
   "cell_type": "code",
   "execution_count": 77,
   "id": "12a2a983",
   "metadata": {},
   "outputs": [
    {
     "data": {
      "text/plain": [
       "78.0"
      ]
     },
     "execution_count": 77,
     "metadata": {},
     "output_type": "execute_result"
    }
   ],
   "source": [
    "df['Polio'].quantile(.25)"
   ]
  },
  {
   "cell_type": "code",
   "execution_count": 78,
   "id": "5a0e6f90",
   "metadata": {},
   "outputs": [
    {
     "data": {
      "text/plain": [
       "97.0"
      ]
     },
     "execution_count": 78,
     "metadata": {},
     "output_type": "execute_result"
    }
   ],
   "source": [
    "df['Polio'].quantile(.75)"
   ]
  },
  {
   "cell_type": "code",
   "execution_count": 79,
   "id": "00c30eaf",
   "metadata": {},
   "outputs": [
    {
     "data": {
      "text/plain": [
       "96.0"
      ]
     },
     "execution_count": 79,
     "metadata": {},
     "output_type": "execute_result"
    }
   ],
   "source": [
    "df['Polio'].max()-df['Polio'].min()"
   ]
  },
  {
   "cell_type": "code",
   "execution_count": 80,
   "id": "a208b92e",
   "metadata": {},
   "outputs": [
    {
     "data": {
      "text/plain": [
       "548.8733370104052"
      ]
     },
     "execution_count": 80,
     "metadata": {},
     "output_type": "execute_result"
    }
   ],
   "source": [
    "df['Polio'].var()"
   ]
  },
  {
   "cell_type": "code",
   "execution_count": 81,
   "id": "2fb67c67",
   "metadata": {},
   "outputs": [
    {
     "data": {
      "text/plain": [
       "23.42804594946845"
      ]
     },
     "execution_count": 81,
     "metadata": {},
     "output_type": "execute_result"
    }
   ],
   "source": [
    "df['Polio'].std()"
   ]
  },
  {
   "cell_type": "code",
   "execution_count": 82,
   "id": "601671c3",
   "metadata": {},
   "outputs": [
    {
     "data": {
      "text/plain": [
       "5.9381895280235915"
      ]
     },
     "execution_count": 82,
     "metadata": {},
     "output_type": "execute_result"
    }
   ],
   "source": [
    "df['Total expenditure'].mean()"
   ]
  },
  {
   "cell_type": "code",
   "execution_count": 83,
   "id": "dde1a49a",
   "metadata": {},
   "outputs": [
    {
     "data": {
      "text/plain": [
       "5.755"
      ]
     },
     "execution_count": 83,
     "metadata": {},
     "output_type": "execute_result"
    }
   ],
   "source": [
    "df['Total expenditure'].median()"
   ]
  },
  {
   "cell_type": "code",
   "execution_count": 84,
   "id": "54b01f9a",
   "metadata": {},
   "outputs": [
    {
     "data": {
      "text/plain": [
       "4.26"
      ]
     },
     "execution_count": 84,
     "metadata": {},
     "output_type": "execute_result"
    }
   ],
   "source": [
    "df['Total expenditure'].quantile(.25)"
   ]
  },
  {
   "cell_type": "code",
   "execution_count": 85,
   "id": "e9146aa2",
   "metadata": {},
   "outputs": [
    {
     "data": {
      "text/plain": [
       "7.4925"
      ]
     },
     "execution_count": 85,
     "metadata": {},
     "output_type": "execute_result"
    }
   ],
   "source": [
    "df['Total expenditure'].quantile(.75)"
   ]
  },
  {
   "cell_type": "code",
   "execution_count": 86,
   "id": "b3687982",
   "metadata": {},
   "outputs": [
    {
     "data": {
      "text/plain": [
       "17.23"
      ]
     },
     "execution_count": 86,
     "metadata": {},
     "output_type": "execute_result"
    }
   ],
   "source": [
    "df['Total expenditure'].max()-df['Total expenditure'].min()"
   ]
  },
  {
   "cell_type": "code",
   "execution_count": 87,
   "id": "dd8dff15",
   "metadata": {},
   "outputs": [
    {
     "data": {
      "text/plain": [
       "6.2416011842798165"
      ]
     },
     "execution_count": 87,
     "metadata": {},
     "output_type": "execute_result"
    }
   ],
   "source": [
    "df['Total expenditure'].var()"
   ]
  },
  {
   "cell_type": "code",
   "execution_count": 88,
   "id": "8ca3b057",
   "metadata": {},
   "outputs": [
    {
     "data": {
      "text/plain": [
       "2.4983196721556302"
      ]
     },
     "execution_count": 88,
     "metadata": {},
     "output_type": "execute_result"
    }
   ],
   "source": [
    "df['Total expenditure'].std()"
   ]
  },
  {
   "cell_type": "code",
   "execution_count": 89,
   "id": "ad1c72ed",
   "metadata": {},
   "outputs": [
    {
     "data": {
      "text/plain": [
       "82.32408359027065"
      ]
     },
     "execution_count": 89,
     "metadata": {},
     "output_type": "execute_result"
    }
   ],
   "source": [
    "df['Diphtheria '].mean()"
   ]
  },
  {
   "cell_type": "code",
   "execution_count": 91,
   "id": "af7631df",
   "metadata": {},
   "outputs": [
    {
     "data": {
      "text/plain": [
       "93.0"
      ]
     },
     "execution_count": 91,
     "metadata": {},
     "output_type": "execute_result"
    }
   ],
   "source": [
    "df['Diphtheria '].median()"
   ]
  },
  {
   "cell_type": "code",
   "execution_count": 92,
   "id": "3e40a717",
   "metadata": {},
   "outputs": [
    {
     "data": {
      "text/plain": [
       "78.0"
      ]
     },
     "execution_count": 92,
     "metadata": {},
     "output_type": "execute_result"
    }
   ],
   "source": [
    "df['Diphtheria '].quantile(.25)"
   ]
  },
  {
   "cell_type": "code",
   "execution_count": 93,
   "id": "77a26a45",
   "metadata": {},
   "outputs": [
    {
     "data": {
      "text/plain": [
       "97.0"
      ]
     },
     "execution_count": 93,
     "metadata": {},
     "output_type": "execute_result"
    }
   ],
   "source": [
    "df['Diphtheria '].quantile(.75)"
   ]
  },
  {
   "cell_type": "code",
   "execution_count": 94,
   "id": "fdb6f4f6",
   "metadata": {},
   "outputs": [
    {
     "data": {
      "text/plain": [
       "562.4919180684007"
      ]
     },
     "execution_count": 94,
     "metadata": {},
     "output_type": "execute_result"
    }
   ],
   "source": [
    "df['Diphtheria '].var()"
   ]
  },
  {
   "cell_type": "code",
   "execution_count": 95,
   "id": "a50bac42",
   "metadata": {},
   "outputs": [
    {
     "data": {
      "text/plain": [
       "23.716912068572515"
      ]
     },
     "execution_count": 95,
     "metadata": {},
     "output_type": "execute_result"
    }
   ],
   "source": [
    "df['Diphtheria '].std()"
   ]
  },
  {
   "cell_type": "code",
   "execution_count": null,
   "id": "00f33644",
   "metadata": {},
   "outputs": [],
   "source": []
  }
 ],
 "metadata": {
  "kernelspec": {
   "display_name": "Python 3 (ipykernel)",
   "language": "python",
   "name": "python3"
  },
  "language_info": {
   "codemirror_mode": {
    "name": "ipython",
    "version": 3
   },
   "file_extension": ".py",
   "mimetype": "text/x-python",
   "name": "python",
   "nbconvert_exporter": "python",
   "pygments_lexer": "ipython3",
   "version": "3.9.7"
  }
 },
 "nbformat": 4,
 "nbformat_minor": 5
}
